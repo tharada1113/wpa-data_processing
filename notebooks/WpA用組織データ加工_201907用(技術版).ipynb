{
 "cells": [
  {
   "cell_type": "code",
   "execution_count": 1,
   "metadata": {},
   "outputs": [],
   "source": [
    "import pandas as pd"
   ]
  },
  {
   "cell_type": "code",
   "execution_count": 2,
   "metadata": {},
   "outputs": [],
   "source": [
    "FILENAME = 'test.csv'"
   ]
  },
  {
   "cell_type": "code",
   "execution_count": 3,
   "metadata": {},
   "outputs": [],
   "source": [
    "itsDF = pd.read_csv(\"../data/wpa_downloadcsv/WpaData_20200108.csv\")"
   ]
  },
  {
   "cell_type": "code",
   "execution_count": 4,
   "metadata": {
    "scrolled": true
   },
   "outputs": [
    {
     "data": {
      "text/plain": [
       "EmployeeNo          3003\n",
       "EmployeeName        3003\n",
       "AdAccount1          3001\n",
       "PersonId            2996\n",
       "EffectiveDate       3003\n",
       "ManagerId           2989\n",
       "LevelDesignation    3003\n",
       "Organization        3003\n",
       "CompanyName         3003\n",
       "HireDate            3003\n",
       "EntryType           3003\n",
       "EmploymentType      3003\n",
       "CustomerCharge      3003\n",
       "PreSales            3003\n",
       "Available           3003\n",
       "WorkingTime         3003\n",
       "OverTime            3003\n",
       "OnSite              3003\n",
       "dtype: int64"
      ]
     },
     "execution_count": 4,
     "metadata": {},
     "output_type": "execute_result"
    }
   ],
   "source": [
    "itsDF.count()"
   ]
  },
  {
   "cell_type": "markdown",
   "metadata": {},
   "source": [
    "### 欠損値の処理"
   ]
  },
  {
   "cell_type": "markdown",
   "metadata": {},
   "source": [
    "#### PersonIdがnullは削除"
   ]
  },
  {
   "cell_type": "code",
   "execution_count": 5,
   "metadata": {},
   "outputs": [
    {
     "data": {
      "text/plain": [
       "EmployeeNo          7\n",
       "EmployeeName        7\n",
       "AdAccount1          6\n",
       "PersonId            0\n",
       "EffectiveDate       7\n",
       "ManagerId           7\n",
       "LevelDesignation    7\n",
       "Organization        7\n",
       "CompanyName         7\n",
       "HireDate            7\n",
       "EntryType           7\n",
       "EmploymentType      7\n",
       "CustomerCharge      7\n",
       "PreSales            7\n",
       "Available           7\n",
       "WorkingTime         7\n",
       "OverTime            7\n",
       "OnSite              7\n",
       "dtype: int64"
      ]
     },
     "execution_count": 5,
     "metadata": {},
     "output_type": "execute_result"
    }
   ],
   "source": [
    "itsDF[itsDF['PersonId'].isnull()].count()"
   ]
  },
  {
   "cell_type": "code",
   "execution_count": 6,
   "metadata": {},
   "outputs": [],
   "source": [
    "itsDF.dropna(subset=['PersonId'], inplace=True)"
   ]
  },
  {
   "cell_type": "code",
   "execution_count": 7,
   "metadata": {},
   "outputs": [
    {
     "data": {
      "text/plain": [
       "EmployeeNo          0\n",
       "EmployeeName        0\n",
       "AdAccount1          0\n",
       "PersonId            0\n",
       "EffectiveDate       0\n",
       "ManagerId           0\n",
       "LevelDesignation    0\n",
       "Organization        0\n",
       "CompanyName         0\n",
       "HireDate            0\n",
       "EntryType           0\n",
       "EmploymentType      0\n",
       "CustomerCharge      0\n",
       "PreSales            0\n",
       "Available           0\n",
       "WorkingTime         0\n",
       "OverTime            0\n",
       "OnSite              0\n",
       "dtype: int64"
      ]
     },
     "execution_count": 7,
     "metadata": {},
     "output_type": "execute_result"
    }
   ],
   "source": [
    "itsDF[itsDF['PersonId'].isnull()].count()"
   ]
  },
  {
   "cell_type": "markdown",
   "metadata": {},
   "source": [
    "#### AdAccount1とManagerIdのnullは無視"
   ]
  },
  {
   "cell_type": "code",
   "execution_count": 8,
   "metadata": {},
   "outputs": [
    {
     "data": {
      "text/plain": [
       "EmployeeNo           0\n",
       "EmployeeName         0\n",
       "AdAccount1           1\n",
       "PersonId             0\n",
       "EffectiveDate        0\n",
       "ManagerId           14\n",
       "LevelDesignation     0\n",
       "Organization         0\n",
       "CompanyName          0\n",
       "HireDate             0\n",
       "EntryType            0\n",
       "EmploymentType       0\n",
       "CustomerCharge       0\n",
       "PreSales             0\n",
       "Available            0\n",
       "WorkingTime          0\n",
       "OverTime             0\n",
       "OnSite               0\n",
       "dtype: int64"
      ]
     },
     "execution_count": 8,
     "metadata": {},
     "output_type": "execute_result"
    }
   ],
   "source": [
    "itsDF.isnull().sum()"
   ]
  },
  {
   "cell_type": "markdown",
   "metadata": {},
   "source": [
    "### 重複の処理"
   ]
  },
  {
   "cell_type": "markdown",
   "metadata": {},
   "source": [
    "#### 完全に重複している行の削除"
   ]
  },
  {
   "cell_type": "code",
   "execution_count": 9,
   "metadata": {},
   "outputs": [
    {
     "data": {
      "text/html": [
       "<div>\n",
       "<style scoped>\n",
       "    .dataframe tbody tr th:only-of-type {\n",
       "        vertical-align: middle;\n",
       "    }\n",
       "\n",
       "    .dataframe tbody tr th {\n",
       "        vertical-align: top;\n",
       "    }\n",
       "\n",
       "    .dataframe thead th {\n",
       "        text-align: right;\n",
       "    }\n",
       "</style>\n",
       "<table border=\"1\" class=\"dataframe\">\n",
       "  <thead>\n",
       "    <tr style=\"text-align: right;\">\n",
       "      <th></th>\n",
       "      <th>EmployeeNo</th>\n",
       "      <th>EmployeeName</th>\n",
       "      <th>AdAccount1</th>\n",
       "      <th>PersonId</th>\n",
       "      <th>EffectiveDate</th>\n",
       "      <th>ManagerId</th>\n",
       "      <th>LevelDesignation</th>\n",
       "      <th>Organization</th>\n",
       "      <th>CompanyName</th>\n",
       "      <th>HireDate</th>\n",
       "      <th>EntryType</th>\n",
       "      <th>EmploymentType</th>\n",
       "      <th>CustomerCharge</th>\n",
       "      <th>PreSales</th>\n",
       "      <th>Available</th>\n",
       "      <th>WorkingTime</th>\n",
       "      <th>OverTime</th>\n",
       "      <th>OnSite</th>\n",
       "    </tr>\n",
       "  </thead>\n",
       "  <tbody>\n",
       "  </tbody>\n",
       "</table>\n",
       "</div>"
      ],
      "text/plain": [
       "Empty DataFrame\n",
       "Columns: [EmployeeNo, EmployeeName, AdAccount1, PersonId, EffectiveDate, ManagerId, LevelDesignation, Organization, CompanyName, HireDate, EntryType, EmploymentType, CustomerCharge, PreSales, Available, WorkingTime, OverTime, OnSite]\n",
       "Index: []"
      ]
     },
     "execution_count": 9,
     "metadata": {},
     "output_type": "execute_result"
    }
   ],
   "source": [
    "itsDF[itsDF.duplicated()]"
   ]
  },
  {
   "cell_type": "code",
   "execution_count": 10,
   "metadata": {},
   "outputs": [],
   "source": [
    "itsDF = itsDF.drop_duplicates()"
   ]
  },
  {
   "cell_type": "code",
   "execution_count": 11,
   "metadata": {},
   "outputs": [
    {
     "data": {
      "text/html": [
       "<div>\n",
       "<style scoped>\n",
       "    .dataframe tbody tr th:only-of-type {\n",
       "        vertical-align: middle;\n",
       "    }\n",
       "\n",
       "    .dataframe tbody tr th {\n",
       "        vertical-align: top;\n",
       "    }\n",
       "\n",
       "    .dataframe thead th {\n",
       "        text-align: right;\n",
       "    }\n",
       "</style>\n",
       "<table border=\"1\" class=\"dataframe\">\n",
       "  <thead>\n",
       "    <tr style=\"text-align: right;\">\n",
       "      <th></th>\n",
       "      <th>EmployeeNo</th>\n",
       "      <th>EmployeeName</th>\n",
       "      <th>AdAccount1</th>\n",
       "      <th>PersonId</th>\n",
       "      <th>EffectiveDate</th>\n",
       "      <th>ManagerId</th>\n",
       "      <th>LevelDesignation</th>\n",
       "      <th>Organization</th>\n",
       "      <th>CompanyName</th>\n",
       "      <th>HireDate</th>\n",
       "      <th>EntryType</th>\n",
       "      <th>EmploymentType</th>\n",
       "      <th>CustomerCharge</th>\n",
       "      <th>PreSales</th>\n",
       "      <th>Available</th>\n",
       "      <th>WorkingTime</th>\n",
       "      <th>OverTime</th>\n",
       "      <th>OnSite</th>\n",
       "    </tr>\n",
       "  </thead>\n",
       "  <tbody>\n",
       "  </tbody>\n",
       "</table>\n",
       "</div>"
      ],
      "text/plain": [
       "Empty DataFrame\n",
       "Columns: [EmployeeNo, EmployeeName, AdAccount1, PersonId, EffectiveDate, ManagerId, LevelDesignation, Organization, CompanyName, HireDate, EntryType, EmploymentType, CustomerCharge, PreSales, Available, WorkingTime, OverTime, OnSite]\n",
       "Index: []"
      ]
     },
     "execution_count": 11,
     "metadata": {},
     "output_type": "execute_result"
    }
   ],
   "source": [
    "itsDF[itsDF.duplicated()]"
   ]
  },
  {
   "cell_type": "markdown",
   "metadata": {},
   "source": [
    "#### 正社員と出向で重複しているケースは出向を残す"
   ]
  },
  {
   "cell_type": "code",
   "execution_count": 12,
   "metadata": {},
   "outputs": [
    {
     "data": {
      "text/plain": [
       "2996"
      ]
     },
     "execution_count": 12,
     "metadata": {},
     "output_type": "execute_result"
    }
   ],
   "source": [
    "itsDF['EmployeeNo'].count()"
   ]
  },
  {
   "cell_type": "code",
   "execution_count": 13,
   "metadata": {},
   "outputs": [
    {
     "data": {
      "text/html": [
       "<div>\n",
       "<style scoped>\n",
       "    .dataframe tbody tr th:only-of-type {\n",
       "        vertical-align: middle;\n",
       "    }\n",
       "\n",
       "    .dataframe tbody tr th {\n",
       "        vertical-align: top;\n",
       "    }\n",
       "\n",
       "    .dataframe thead th {\n",
       "        text-align: right;\n",
       "    }\n",
       "</style>\n",
       "<table border=\"1\" class=\"dataframe\">\n",
       "  <thead>\n",
       "    <tr style=\"text-align: right;\">\n",
       "      <th></th>\n",
       "      <th>EmployeeNo</th>\n",
       "      <th>EmployeeName</th>\n",
       "      <th>AdAccount1</th>\n",
       "      <th>PersonId</th>\n",
       "      <th>EffectiveDate</th>\n",
       "      <th>ManagerId</th>\n",
       "      <th>LevelDesignation</th>\n",
       "      <th>Organization</th>\n",
       "      <th>CompanyName</th>\n",
       "      <th>HireDate</th>\n",
       "      <th>EntryType</th>\n",
       "      <th>EmploymentType</th>\n",
       "      <th>CustomerCharge</th>\n",
       "      <th>PreSales</th>\n",
       "      <th>Available</th>\n",
       "      <th>WorkingTime</th>\n",
       "      <th>OverTime</th>\n",
       "      <th>OnSite</th>\n",
       "    </tr>\n",
       "  </thead>\n",
       "  <tbody>\n",
       "    <tr>\n",
       "      <th>2931</th>\n",
       "      <td>3959</td>\n",
       "      <td>城 信行</td>\n",
       "      <td>njo</td>\n",
       "      <td>nobuyuki.jo@jbs.com</td>\n",
       "      <td>07/31/2019</td>\n",
       "      <td>NaN</td>\n",
       "      <td>社長</td>\n",
       "      <td>JBS USA</td>\n",
       "      <td>JBS USA</td>\n",
       "      <td>08/01/2018</td>\n",
       "      <td>中途</td>\n",
       "      <td>出向者</td>\n",
       "      <td>0.0</td>\n",
       "      <td>0.0</td>\n",
       "      <td>0.0</td>\n",
       "      <td>0.0</td>\n",
       "      <td>0.0</td>\n",
       "      <td>0</td>\n",
       "    </tr>\n",
       "    <tr>\n",
       "      <th>2995</th>\n",
       "      <td>3959</td>\n",
       "      <td>城 信行</td>\n",
       "      <td>njo</td>\n",
       "      <td>nobuyuki.jo@jbs.com</td>\n",
       "      <td>07/31/2019</td>\n",
       "      <td>makita@jbs.com</td>\n",
       "      <td>Presidente / Director General</td>\n",
       "      <td>JBSメキシコ</td>\n",
       "      <td>JBSメキシコ</td>\n",
       "      <td>08/01/2018</td>\n",
       "      <td>中途</td>\n",
       "      <td>出向者</td>\n",
       "      <td>0.0</td>\n",
       "      <td>0.0</td>\n",
       "      <td>0.0</td>\n",
       "      <td>0.0</td>\n",
       "      <td>0.0</td>\n",
       "      <td>0</td>\n",
       "    </tr>\n",
       "    <tr>\n",
       "      <th>2941</th>\n",
       "      <td>90045</td>\n",
       "      <td>岡田 一郎</td>\n",
       "      <td>iokada</td>\n",
       "      <td>ichiro.okada@jbs.com</td>\n",
       "      <td>07/31/2019</td>\n",
       "      <td>isamu.kakitani@jbs.com</td>\n",
       "      <td>なし</td>\n",
       "      <td>Delivery Division ソリューション部 ERP</td>\n",
       "      <td>JBS USA</td>\n",
       "      <td>10/12/2015</td>\n",
       "      <td>中途</td>\n",
       "      <td>正社員</td>\n",
       "      <td>0.0</td>\n",
       "      <td>0.0</td>\n",
       "      <td>0.0</td>\n",
       "      <td>0.0</td>\n",
       "      <td>0.0</td>\n",
       "      <td>0</td>\n",
       "    </tr>\n",
       "    <tr>\n",
       "      <th>2996</th>\n",
       "      <td>90045</td>\n",
       "      <td>岡田 一郎</td>\n",
       "      <td>iokada</td>\n",
       "      <td>ichiro.okada@jbs.com</td>\n",
       "      <td>07/31/2019</td>\n",
       "      <td>nobuyuki.jo@jbs.com</td>\n",
       "      <td>なし</td>\n",
       "      <td>JBSメキシコ</td>\n",
       "      <td>JBSメキシコ</td>\n",
       "      <td>10/12/2015</td>\n",
       "      <td>中途</td>\n",
       "      <td>正社員</td>\n",
       "      <td>0.0</td>\n",
       "      <td>0.0</td>\n",
       "      <td>0.0</td>\n",
       "      <td>0.0</td>\n",
       "      <td>0.0</td>\n",
       "      <td>0</td>\n",
       "    </tr>\n",
       "  </tbody>\n",
       "</table>\n",
       "</div>"
      ],
      "text/plain": [
       "      EmployeeNo EmployeeName AdAccount1              PersonId EffectiveDate  \\\n",
       "2931        3959         城 信行        njo   nobuyuki.jo@jbs.com    07/31/2019   \n",
       "2995        3959         城 信行        njo   nobuyuki.jo@jbs.com    07/31/2019   \n",
       "2941       90045        岡田 一郎     iokada  ichiro.okada@jbs.com    07/31/2019   \n",
       "2996       90045        岡田 一郎     iokada  ichiro.okada@jbs.com    07/31/2019   \n",
       "\n",
       "                   ManagerId               LevelDesignation  \\\n",
       "2931                     NaN                             社長   \n",
       "2995          makita@jbs.com  Presidente / Director General   \n",
       "2941  isamu.kakitani@jbs.com                             なし   \n",
       "2996     nobuyuki.jo@jbs.com                             なし   \n",
       "\n",
       "                        Organization CompanyName    HireDate EntryType  \\\n",
       "2931                         JBS USA     JBS USA  08/01/2018        中途   \n",
       "2995                         JBSメキシコ     JBSメキシコ  08/01/2018        中途   \n",
       "2941  Delivery Division ソリューション部 ERP     JBS USA  10/12/2015        中途   \n",
       "2996                         JBSメキシコ     JBSメキシコ  10/12/2015        中途   \n",
       "\n",
       "     EmploymentType  CustomerCharge  PreSales  Available  WorkingTime  \\\n",
       "2931            出向者             0.0       0.0        0.0          0.0   \n",
       "2995            出向者             0.0       0.0        0.0          0.0   \n",
       "2941            正社員             0.0       0.0        0.0          0.0   \n",
       "2996            正社員             0.0       0.0        0.0          0.0   \n",
       "\n",
       "      OverTime  OnSite  \n",
       "2931       0.0       0  \n",
       "2995       0.0       0  \n",
       "2941       0.0       0  \n",
       "2996       0.0       0  "
      ]
     },
     "execution_count": 13,
     "metadata": {},
     "output_type": "execute_result"
    }
   ],
   "source": [
    "itsDF[itsDF.duplicated(subset='EmployeeNo', keep=False)].sort_values(by='EmployeeNo')"
   ]
  },
  {
   "cell_type": "markdown",
   "metadata": {},
   "source": [
    "##### [出向の場合]ひとまず重複データを別のデータフレームに格納"
   ]
  },
  {
   "cell_type": "code",
   "execution_count": 14,
   "metadata": {},
   "outputs": [],
   "source": [
    "dupdataDF = itsDF[itsDF.duplicated(subset='EmployeeNo', keep=False)].sort_values(by='EmployeeNo')"
   ]
  },
  {
   "cell_type": "code",
   "execution_count": 15,
   "metadata": {},
   "outputs": [],
   "source": [
    "select_type_for_dupdataDF = dupdataDF[dupdataDF['EmploymentType'] == '出向者']"
   ]
  },
  {
   "cell_type": "markdown",
   "metadata": {},
   "source": [
    "##### [出向以外の場合]データ削除"
   ]
  },
  {
   "cell_type": "code",
   "execution_count": 17,
   "metadata": {},
   "outputs": [],
   "source": [
    "# 城さんメキシコ行を削除\n",
    "itsDF = itsDF.drop(2996)"
   ]
  },
  {
   "cell_type": "code",
   "execution_count": 18,
   "metadata": {},
   "outputs": [
    {
     "data": {
      "text/html": [
       "<div>\n",
       "<style scoped>\n",
       "    .dataframe tbody tr th:only-of-type {\n",
       "        vertical-align: middle;\n",
       "    }\n",
       "\n",
       "    .dataframe tbody tr th {\n",
       "        vertical-align: top;\n",
       "    }\n",
       "\n",
       "    .dataframe thead th {\n",
       "        text-align: right;\n",
       "    }\n",
       "</style>\n",
       "<table border=\"1\" class=\"dataframe\">\n",
       "  <thead>\n",
       "    <tr style=\"text-align: right;\">\n",
       "      <th></th>\n",
       "      <th>EmployeeNo</th>\n",
       "      <th>EmployeeName</th>\n",
       "      <th>AdAccount1</th>\n",
       "      <th>PersonId</th>\n",
       "      <th>EffectiveDate</th>\n",
       "      <th>ManagerId</th>\n",
       "      <th>LevelDesignation</th>\n",
       "      <th>Organization</th>\n",
       "      <th>CompanyName</th>\n",
       "      <th>HireDate</th>\n",
       "      <th>EntryType</th>\n",
       "      <th>EmploymentType</th>\n",
       "      <th>CustomerCharge</th>\n",
       "      <th>PreSales</th>\n",
       "      <th>Available</th>\n",
       "      <th>WorkingTime</th>\n",
       "      <th>OverTime</th>\n",
       "      <th>OnSite</th>\n",
       "    </tr>\n",
       "  </thead>\n",
       "  <tbody>\n",
       "  </tbody>\n",
       "</table>\n",
       "</div>"
      ],
      "text/plain": [
       "Empty DataFrame\n",
       "Columns: [EmployeeNo, EmployeeName, AdAccount1, PersonId, EffectiveDate, ManagerId, LevelDesignation, Organization, CompanyName, HireDate, EntryType, EmploymentType, CustomerCharge, PreSales, Available, WorkingTime, OverTime, OnSite]\n",
       "Index: []"
      ]
     },
     "execution_count": 18,
     "metadata": {},
     "output_type": "execute_result"
    }
   ],
   "source": [
    "itsDF[itsDF.duplicated(subset='EmployeeNo', keep=False)].sort_values(by='EmployeeNo')"
   ]
  },
  {
   "cell_type": "markdown",
   "metadata": {},
   "source": [
    "##### 元のデータフレームの重複している行を削除"
   ]
  },
  {
   "cell_type": "code",
   "execution_count": null,
   "metadata": {},
   "outputs": [],
   "source": [
    "#itsDF.drop_duplicates(subset='EmployeeNo', keep=False, inplace=True)\n",
    "\n",
    "#itsDF['EmployeeNo'].count()\n",
    "\n",
    "#itsDF[itsDF.duplicated(subset='EmployeeNo', keep=False)].sort_values(by='EmployeeNo')\n",
    "\n",
    "#itsDF = pd.concat([itsDF, select_type_for_dupdataDF])"
   ]
  },
  {
   "cell_type": "code",
   "execution_count": 19,
   "metadata": {},
   "outputs": [
    {
     "data": {
      "text/plain": [
       "EmployeeNo          2994\n",
       "EmployeeName        2994\n",
       "AdAccount1          2993\n",
       "PersonId            2994\n",
       "EffectiveDate       2994\n",
       "ManagerId           2980\n",
       "LevelDesignation    2994\n",
       "Organization        2994\n",
       "CompanyName         2994\n",
       "HireDate            2994\n",
       "EntryType           2994\n",
       "EmploymentType      2994\n",
       "CustomerCharge      2994\n",
       "PreSales            2994\n",
       "Available           2994\n",
       "WorkingTime         2994\n",
       "OverTime            2994\n",
       "OnSite              2994\n",
       "dtype: int64"
      ]
     },
     "execution_count": 19,
     "metadata": {},
     "output_type": "execute_result"
    }
   ],
   "source": [
    "itsDF.count()"
   ]
  },
  {
   "cell_type": "code",
   "execution_count": 20,
   "metadata": {},
   "outputs": [
    {
     "data": {
      "text/html": [
       "<div>\n",
       "<style scoped>\n",
       "    .dataframe tbody tr th:only-of-type {\n",
       "        vertical-align: middle;\n",
       "    }\n",
       "\n",
       "    .dataframe tbody tr th {\n",
       "        vertical-align: top;\n",
       "    }\n",
       "\n",
       "    .dataframe thead th {\n",
       "        text-align: right;\n",
       "    }\n",
       "</style>\n",
       "<table border=\"1\" class=\"dataframe\">\n",
       "  <thead>\n",
       "    <tr style=\"text-align: right;\">\n",
       "      <th></th>\n",
       "      <th>EmployeeNo</th>\n",
       "      <th>EmployeeName</th>\n",
       "      <th>AdAccount1</th>\n",
       "      <th>PersonId</th>\n",
       "      <th>EffectiveDate</th>\n",
       "      <th>ManagerId</th>\n",
       "      <th>LevelDesignation</th>\n",
       "      <th>Organization</th>\n",
       "      <th>CompanyName</th>\n",
       "      <th>HireDate</th>\n",
       "      <th>EntryType</th>\n",
       "      <th>EmploymentType</th>\n",
       "      <th>CustomerCharge</th>\n",
       "      <th>PreSales</th>\n",
       "      <th>Available</th>\n",
       "      <th>WorkingTime</th>\n",
       "      <th>OverTime</th>\n",
       "      <th>OnSite</th>\n",
       "    </tr>\n",
       "  </thead>\n",
       "  <tbody>\n",
       "    <tr>\n",
       "      <th>2997</th>\n",
       "      <td>95002</td>\n",
       "      <td>Karen Maya</td>\n",
       "      <td>NaN</td>\n",
       "      <td>karen.maya@jbs.com</td>\n",
       "      <td>07/31/2019</td>\n",
       "      <td>nobuyuki.jo@jbs.com</td>\n",
       "      <td>なし</td>\n",
       "      <td>JBSメキシコ</td>\n",
       "      <td>JBSメキシコ</td>\n",
       "      <td>09/01/2015</td>\n",
       "      <td>中途</td>\n",
       "      <td>正社員</td>\n",
       "      <td>0.0</td>\n",
       "      <td>0.0</td>\n",
       "      <td>0.0</td>\n",
       "      <td>0.0</td>\n",
       "      <td>0.0</td>\n",
       "      <td>0</td>\n",
       "    </tr>\n",
       "  </tbody>\n",
       "</table>\n",
       "</div>"
      ],
      "text/plain": [
       "      EmployeeNo EmployeeName AdAccount1            PersonId EffectiveDate  \\\n",
       "2997       95002   Karen Maya        NaN  karen.maya@jbs.com    07/31/2019   \n",
       "\n",
       "                ManagerId LevelDesignation Organization CompanyName  \\\n",
       "2997  nobuyuki.jo@jbs.com               なし      JBSメキシコ     JBSメキシコ   \n",
       "\n",
       "        HireDate EntryType EmploymentType  CustomerCharge  PreSales  \\\n",
       "2997  09/01/2015        中途            正社員             0.0       0.0   \n",
       "\n",
       "      Available  WorkingTime  OverTime  OnSite  \n",
       "2997        0.0          0.0       0.0       0  "
      ]
     },
     "execution_count": 20,
     "metadata": {},
     "output_type": "execute_result"
    }
   ],
   "source": [
    "itsDF[itsDF['AdAccount1'].isnull()]"
   ]
  },
  {
   "cell_type": "markdown",
   "metadata": {},
   "source": [
    "### EmployeeNoをハッシュ化"
   ]
  },
  {
   "cell_type": "code",
   "execution_count": 21,
   "metadata": {},
   "outputs": [],
   "source": [
    "import hashlib"
   ]
  },
  {
   "cell_type": "code",
   "execution_count": 22,
   "metadata": {},
   "outputs": [],
   "source": [
    "def to_hash(data):\n",
    "    salt = 'JBS'\n",
    "    add_salt_data = salt + str(data)\n",
    "    return hashlib.sha256(add_salt_data.encode('UTF-8')).hexdigest()"
   ]
  },
  {
   "cell_type": "code",
   "execution_count": 23,
   "metadata": {},
   "outputs": [],
   "source": [
    "itsDF['EmployeeNo'] = itsDF['EmployeeNo'].map(to_hash)"
   ]
  },
  {
   "cell_type": "markdown",
   "metadata": {},
   "source": [
    "### TimeZoneを設定"
   ]
  },
  {
   "cell_type": "code",
   "execution_count": 24,
   "metadata": {},
   "outputs": [
    {
     "data": {
      "text/plain": [
       "array(['JBS', 'JBS USA', 'JBSシンガポール', 'JBS上海', 'JBSメキシコ'], dtype=object)"
      ]
     },
     "execution_count": 24,
     "metadata": {},
     "output_type": "execute_result"
    }
   ],
   "source": [
    "itsDF['CompanyName'].unique()"
   ]
  },
  {
   "cell_type": "markdown",
   "metadata": {},
   "source": [
    "TimeZone  \n",
    "- JBS: 東京標準時[Central Standard Time (Mexico)]  \n",
    "- JBS USA: 太平洋標準時[Pacific Standard Time]  \n",
    "- JBSシンガポール: シンガポール標準時[Singapore Standard Time]  \n",
    "- JBS上海: 中国標準時[China Standard Time]\n",
    "- JBSメキシコ: 中部標準時 (メキシコ)[Central Standard Time (Mexico)]"
   ]
  },
  {
   "cell_type": "code",
   "execution_count": 25,
   "metadata": {},
   "outputs": [],
   "source": [
    "import numpy as np\n",
    "itsDF['TimeZone'] = np.NAN"
   ]
  },
  {
   "cell_type": "code",
   "execution_count": 26,
   "metadata": {},
   "outputs": [],
   "source": [
    "itsDF.loc[itsDF['CompanyName'] == 'JBS', 'TimeZone'] = 'Tokyo Standard Time'\n",
    "itsDF.loc[itsDF['CompanyName'] == 'JBS USA', 'TimeZone'] = 'Pacific Standard Time'\n",
    "itsDF.loc[itsDF['CompanyName'] == 'JBSシンガポール', 'TimeZone'] = 'Singapore Standard Time'\n",
    "itsDF.loc[itsDF['CompanyName'] == 'JBS上海', 'TimeZone'] = 'China Standard Time'\n",
    "itsDF.loc[itsDF['CompanyName'] == 'JBSメキシコ', 'TimeZone'] = 'Central Standard Time (Mexico)'"
   ]
  },
  {
   "cell_type": "markdown",
   "metadata": {},
   "source": [
    "### OrganizationからDivとDeptを作成"
   ]
  },
  {
   "cell_type": "markdown",
   "metadata": {},
   "source": [
    "#### 先月とのOrganization比較"
   ]
  },
  {
   "cell_type": "code",
   "execution_count": 27,
   "metadata": {},
   "outputs": [
    {
     "data": {
      "text/plain": [
       "array(['JBS', '内部監査室', '経営管理室', '財務経理部', '財務経理部 経理課', '財務経理部 財務課',\n",
       "       '経営企画部', '品質管理室 ISMS／SM推進', '品質管理室 PM推進', 'リスク管理室', '人事部',\n",
       "       '人事部 人事課', '人事部 採用1課', '人事部 採用2課', '人事部 ヘルスケアセンター', '総務部',\n",
       "       '総務部 総務課', '総務部 法務課', \"総務部 Lucy's課\", '業務部 業務課', '業務部 購買課',\n",
       "       '業務部 物流課', '情報システム本部 インフラストラクチャサービス部',\n",
       "       '情報システム本部 インフラストラクチャサービス部 ITデザイン課',\n",
       "       '情報システム本部 インフラストラクチャサービス部 ITサービス課', '情報システム本部 ビジネスサービス部',\n",
       "       '情報システム本部 ビジネスサービス部 インプリメント課', '情報システム本部 ビジネスサービス部 マネジメント課',\n",
       "       '社会システムソリューション室', '事業企画本部', '事業企画本部 事業企画本部付', '事業企画本部 総合企画部',\n",
       "       '事業企画本部 総合企画部 パートナーアライアンス課', '事業企画本部 総合企画部 コミュニケーション課',\n",
       "       '事業企画本部 海外事業推進室', '事業企画本部 人材開発部', '事業企画本部 人材開発部 2019年度新卒',\n",
       "       '事業企画本部 MS統合サポートセンター テクニカルナレッジグループ',\n",
       "       '事業企画本部 MS統合サポートセンター FastTrack推進グループ',\n",
       "       '事業企画本部 MS統合サポートセンター ライセンスナレッジグループ', '事業企画本部 サービス企画部',\n",
       "       '事業企画本部 サービス推進部', '事業企画本部 サービス推進部 シードアクセラレーショングループ',\n",
       "       '事業企画本部 ビジネスインキュベーション部', '事業企画本部 ビジネスインキュベーション部 ISV推進グループ',\n",
       "       '事業企画本部 ビジネスインキュベーション部 IP企画グループ', '営業統括本部', '営業統括本部 営業統括本部付',\n",
       "       '営業統括本部 第1営業本部', '営業統括本部 第1営業本部 営業1部', '営業統括本部 第1営業本部 営業1部 営業1課',\n",
       "       '営業統括本部 第1営業本部 営業1部 営業2課', '営業統括本部 第1営業本部 営業2部',\n",
       "       '営業統括本部 第1営業本部 営業2部 営業1課', '営業統括本部 第1営業本部 営業2部 営業2課',\n",
       "       '営業統括本部 第2営業本部', '営業統括本部 第2営業本部 営業1部', '営業統括本部 第2営業本部 営業1部 営業1課',\n",
       "       '営業統括本部 第2営業本部 営業1部 営業2課', '営業統括本部 第2営業本部 営業2部',\n",
       "       '営業統括本部 第2営業本部 営業2部 営業1課', '営業統括本部 第2営業本部 営業2部 営業2課',\n",
       "       '営業統括本部 第3営業本部', '営業統括本部 第3営業本部 第3営業本部付', '営業統括本部 第3営業本部 営業1部',\n",
       "       '営業統括本部 第3営業本部 営業1部 営業1課', '営業統括本部 第3営業本部 営業1部 営業2課',\n",
       "       '営業統括本部 第3営業本部 営業2部', '営業統括本部 第3営業本部 営業2部 営業1課',\n",
       "       '営業統括本部 第3営業本部 営業3部', '営業統括本部 第3営業本部 営業3部 営業1課',\n",
       "       '営業統括本部 第3営業本部 営業3部 営業2課', '営業統括本部 第3営業本部 営業3部 営業3課',\n",
       "       '営業統括本部 パートナー営業本部', '営業統括本部 パートナー営業本部 営業部',\n",
       "       '営業統括本部 パートナー営業本部 営業部 営業1課', '営業統括本部 パートナー営業本部 営業部 営業2課',\n",
       "       '営業統括本部 中部・西日本営業本部', '営業統括本部 中部・西日本営業本部 中部営業部',\n",
       "       '営業統括本部 中部・西日本営業本部 西日本営業部', '営業統括本部 中部・西日本営業本部 東京営業部',\n",
       "       '営業統括本部 中部・西日本営業本部 北海道営業部', '営業統括本部 中部・西日本営業本部 九州営業部',\n",
       "       '営業統括本部 ソリューション営業部', '営業統括本部 ソリューション営業部 営業1課',\n",
       "       '営業統括本部 ソリューション営業部 営業2課', '営業統括本部 ソリューション営業部 営業3課',\n",
       "       '営業統括本部 ソリューション営業部 MSライセンス課', '営業統括本部 営業サポート室',\n",
       "       'ITソリューション統括本部 ITソリューション統括本部付', 'ITソリューション統括本部 デジタルイノベーション推進室',\n",
       "       'ITソリューション統括本部 デジタルイノベーション推進室 デジタルコンサルティング推進',\n",
       "       'ITソリューション統括本部 デジタルイノベーション推進室 ITアーキテクト推進',\n",
       "       'ITソリューション統括本部 デジタルイノベーション推進室 PMO推進', 'ITソリューション統括本部 金融システム本部',\n",
       "       'ITソリューション統括本部 金融システム本部 金融システム1部',\n",
       "       'ITソリューション統括本部 金融システム本部 金融システム1部 アカウント第1グループ',\n",
       "       'ITソリューション統括本部 金融システム本部 金融システム1部 アカウント第2グループ',\n",
       "       'ITソリューション統括本部 金融システム本部 金融システム1部 アカウント第3グループ',\n",
       "       'ITソリューション統括本部 金融システム本部 金融システム1部 アカウント第4グループ',\n",
       "       'ITソリューション統括本部 金融システム本部 金融システム1部 アカウント第5グループ',\n",
       "       'ITソリューション統括本部 金融システム本部 金融システム2部',\n",
       "       'ITソリューション統括本部 金融システム本部 金融システム2部 アカウント第1グループ',\n",
       "       'ITソリューション統括本部 金融システム本部 金融システム2部 アカウント第2グループ',\n",
       "       'ITソリューション統括本部 金融システム本部 金融システム2部 アカウント第3グループ',\n",
       "       'ITソリューション統括本部 金融システム本部 金融システム2部 アカウント第4グループ',\n",
       "       'ITソリューション統括本部 金融システム本部 金融システム2部 アカウント第5グループ',\n",
       "       'ITソリューション統括本部 金融システム本部 金融システム3部',\n",
       "       'ITソリューション統括本部 金融システム本部 金融システム3部 アカウント第1グループ',\n",
       "       'ITソリューション統括本部 金融システム本部 金融システム3部 アカウント第2グループ',\n",
       "       'ITソリューション統括本部 金融システム本部 金融システム4部',\n",
       "       'ITソリューション統括本部 金融システム本部 金融システム4部 アカウント第1グループ',\n",
       "       'ITソリューション統括本部 金融システム本部 金融システム4部 アカウント第2グループ',\n",
       "       'ITソリューション統括本部 金融システム本部 金融システム4部 アカウント第3グループ',\n",
       "       'ITソリューション統括本部 エンタープライズシステム本部',\n",
       "       'ITソリューション統括本部 エンタープライズシステム本部 エンタープライズシステム1部 アカウント第1グループ',\n",
       "       'ITソリューション統括本部 エンタープライズシステム本部 エンタープライズシステム1部 アカウント第2グループ',\n",
       "       'ITソリューション統括本部 エンタープライズシステム本部 エンタープライズシステム1部 アカウント第3グループ',\n",
       "       'ITソリューション統括本部 エンタープライズシステム本部 エンタープライズシステム1部 アカウント第4グループ',\n",
       "       'ITソリューション統括本部 エンタープライズシステム本部 エンタープライズシステム2部',\n",
       "       'ITソリューション統括本部 エンタープライズシステム本部 エンタープライズシステム2部 アカウント第1グループ',\n",
       "       'ITソリューション統括本部 エンタープライズシステム本部 エンタープライズシステム2部 アカウント第2グループ',\n",
       "       'ITソリューション統括本部 エンタープライズシステム本部 エンタープライズシステム3部',\n",
       "       'ITソリューション統括本部 エンタープライズシステム本部 エンタープライズシステム3部 アカウント第1グループ',\n",
       "       'ITソリューション統括本部 エンタープライズシステム本部 エンタープライズシステム3部 アカウント第2グループ',\n",
       "       'ITソリューション統括本部 エンタープライズシステム本部 エンタープライズシステム3部 アカウント第3グループ',\n",
       "       'ITソリューション統括本部 エンタープライズシステム本部 エンタープライズシステム3部 アカウント第4グループ',\n",
       "       'ITソリューション統括本部 エンタープライズシステム本部 エンタープライズシステム3部 アカウント第5グループ',\n",
       "       'ITソリューション統括本部 エンタープライズシステム本部 エンタープライズシステム4部',\n",
       "       'ITソリューション統括本部 エンタープライズシステム本部 エンタープライズシステム4部 アカウント第1グループ',\n",
       "       'ITソリューション統括本部 エンタープライズシステム本部 エンタープライズシステム4部 アカウント第2グループ',\n",
       "       'ITソリューション統括本部 エンタープライズシステム本部 中部技術部 アカウント1グループ',\n",
       "       'ITソリューション統括本部 エンタープライズシステム本部 中部技術部 アカウント2グループ',\n",
       "       'ITソリューション統括本部 エンタープライズシステム本部 中部技術部 アカウント3グループ',\n",
       "       'ITソリューション統括本部 エンタープライズシステム本部 中部技術部 アカウント4グループ',\n",
       "       'ITソリューション統括本部 エンタープライズシステム本部 西日本技術部',\n",
       "       'ITソリューション統括本部 エンタープライズシステム本部 西日本技術部 アカウント1グループ',\n",
       "       'ITソリューション統括本部 エンタープライズシステム本部 西日本技術部 アカウント2グループ',\n",
       "       'ITソリューション統括本部 エンタープライズシステム本部 西日本技術部 アカウント3グループ',\n",
       "       'ITソリューション統括本部 テクノロジーソリューション本部',\n",
       "       'ITソリューション統括本部 テクノロジーソリューション本部 ナレッジコラボレーション部',\n",
       "       'ITソリューション統括本部 テクノロジーソリューション本部 ナレッジコラボレーション部 アカウント1グループ',\n",
       "       'ITソリューション統括本部 テクノロジーソリューション本部 ナレッジコラボレーション部 アカウント2グループ',\n",
       "       'ITソリューション統括本部 テクノロジーソリューション本部 ナレッジコラボレーション部 CDグループ',\n",
       "       'ITソリューション統括本部 テクノロジーソリューション本部 ナレッジコラボレーション部 xプロダクティビティ1グループ',\n",
       "       'ITソリューション統括本部 テクノロジーソリューション本部 ナレッジコラボレーション部 xプロダクティビティ3グループ',\n",
       "       'ITソリューション統括本部 テクノロジーソリューション本部 クラウドプラットフォーム部',\n",
       "       'ITソリューション統括本部 テクノロジーソリューション本部 クラウドプラットフォーム部 1グループ',\n",
       "       'ITソリューション統括本部 テクノロジーソリューション本部 クラウドプラットフォーム部 2グループ',\n",
       "       'ITソリューション統括本部 テクノロジーソリューション本部 クラウドプラットフォーム部 3グループ',\n",
       "       'ITソリューション統括本部 テクノロジーソリューション本部 クラウドプラットフォーム部 4グループ',\n",
       "       'ITソリューション統括本部 テクノロジーソリューション本部 クラウドプラットフォーム部 5グループ',\n",
       "       'ITソリューション統括本部 テクノロジーソリューション本部 クラウドプラットフォーム部 6グループ',\n",
       "       'ITソリューション統括本部 テクノロジーソリューション本部 クラウドプラットフォーム部 7グループ',\n",
       "       'ITソリューション統括本部 テクノロジーソリューション本部 システムインテグレーション部',\n",
       "       'ITソリューション統括本部 テクノロジーソリューション本部 システムインテグレーション部 システムインテグレーション1グループ',\n",
       "       'ITソリューション統括本部 テクノロジーソリューション本部 システムインテグレーション部 システムインテグレーション2グループ',\n",
       "       'ITソリューション統括本部 テクノロジーソリューション本部 システムインテグレーション部 システムインテグレーション3グループ',\n",
       "       'ITソリューション統括本部 テクノロジーソリューション本部 システムインテグレーション部 システムインテグレーション4グループ',\n",
       "       'ITソリューション統括本部 テクノロジーソリューション本部 システムインテグレーション部 システムインテグレーション5グループ',\n",
       "       'ITソリューション統括本部 テクノロジーソリューション本部 システムインテグレーション部 システムインテグレーション6グループ',\n",
       "       'ITソリューション統括本部 テクノロジーソリューション本部 システムインテグレーション部 システムインテグレーション7グループ',\n",
       "       'ITソリューション統括本部 テクノロジーソリューション本部 システムインテグレーション部 システムインテグレーション8グループ',\n",
       "       'ITソリューション統括本部 テクノロジーソリューション本部 システムインテグレーション部 システムインテグレーション9グループ',\n",
       "       'ITソリューション統括本部 テクノロジーソリューション本部 システムインテグレーション部 システムインテグレーション10グループ',\n",
       "       'ITソリューション統括本部 テクノロジーソリューション本部 システムインテグレーション部 システムインテグレーション11グループ',\n",
       "       'ITソリューション統括本部 テクノロジーソリューション本部 システムインテグレーション部 システムインテグレーション12グループ',\n",
       "       'ITソリューション統括本部 テクノロジーソリューション本部 システムインテグレーション部 システムインテグレーション13グループ',\n",
       "       'ITソリューション統括本部 テクノロジーソリューション本部 プラットフォームソリューション部',\n",
       "       'ITソリューション統括本部 テクノロジーソリューション本部 プラットフォームソリューション部 クラウドソリューション1グループ',\n",
       "       'ITソリューション統括本部 テクノロジーソリューション本部 プラットフォームソリューション部 クラウドソリューション2グループ',\n",
       "       'ITソリューション統括本部 テクノロジーソリューション本部 プラットフォームソリューション部 セキュリティーソリューショングループ',\n",
       "       'ITソリューション統括本部 テクノロジーソリューション本部 プラットフォームソリューション部 ワークスタイルソリューション1グループ',\n",
       "       'ITソリューション統括本部 テクノロジーソリューション本部 プラットフォームソリューション部 ワークスタイルソリューション2グループ',\n",
       "       'ITソリューション統括本部 テクノロジーソリューション本部 セキュアデザインセンター',\n",
       "       'ITソリューション統括本部 テクノロジーソリューション本部 テクノロジーデザインセンター',\n",
       "       'ITソリューション統括本部 テクニカルパートナー本部',\n",
       "       'ITソリューション統括本部 テクニカルパートナー本部 テクニカルパートナー1部',\n",
       "       'ITソリューション統括本部 テクニカルパートナー本部 テクニカルパートナー1部 第1技術グループ',\n",
       "       'ITソリューション統括本部 テクニカルパートナー本部 テクニカルパートナー1部 第2技術グループ',\n",
       "       'ITソリューション統括本部 テクニカルパートナー本部 テクニカルパートナー1部 第3技術グループ',\n",
       "       'ITソリューション統括本部 テクニカルパートナー本部 テクニカルパートナー1部 第4技術グループ',\n",
       "       'ITソリューション統括本部 テクニカルパートナー本部 テクニカルパートナー1部 第5技術グループ',\n",
       "       'ITソリューション統括本部 テクニカルパートナー本部 テクニカルパートナー1部 第6技術グループ',\n",
       "       'ITソリューション統括本部 テクニカルパートナー本部 テクニカルパートナー1部 第7技術グループ',\n",
       "       'ITソリューション統括本部 テクニカルパートナー本部 テクニカルパートナー1部 第8技術グループ',\n",
       "       'ITソリューション統括本部 テクニカルパートナー本部 テクニカルパートナー1部 第9技術グループ',\n",
       "       'ITソリューション統括本部 テクニカルパートナー本部 テクニカルパートナー2部',\n",
       "       'ITソリューション統括本部 テクニカルパートナー本部 テクニカルパートナー2部 第1技術グループ',\n",
       "       'ITソリューション統括本部 テクニカルパートナー本部 テクニカルパートナー2部 第2技術グループ',\n",
       "       'ITソリューション統括本部 テクニカルパートナー本部 テクニカルパートナー2部 第3技術グループ',\n",
       "       'ITソリューション統括本部 テクニカルパートナー本部 テクニカルパートナー3部',\n",
       "       'ITソリューション統括本部 テクニカルパートナー本部 テクニカルパートナー3部 第4技術グループ',\n",
       "       'ITソリューション統括本部 テクニカルパートナー本部 テクニカルパートナー3部 第7技術グループ',\n",
       "       'ITソリューション統括本部 テクニカルパートナー本部 テクニカルパートナー3部 第8技術グループ',\n",
       "       'ITソリューション統括本部 テクニカルパートナー本部 テクニカルパートナー4部 第1技術グループ',\n",
       "       'ITソリューション統括本部 テクニカルパートナー本部 テクニカルパートナー4部 第3技術グループ',\n",
       "       'ITソリューション統括本部 テクニカルパートナー本部 テクニカルパートナー4部 第4技術グループ',\n",
       "       'ITソリューション統括本部 テクニカルパートナー本部 テクニカルパートナー5部 第1技術グループ',\n",
       "       'ITソリューション統括本部 テクニカルパートナー本部 テクニカルパートナー5部 第2技術グループ',\n",
       "       'ITソリューション統括本部 テクニカルパートナー本部 テクニカルパートナー5部 第3技術グループ',\n",
       "       'ビジネスソリューション本部', 'ビジネスソリューション本部 ビジネスソリューション本部付',\n",
       "       'ビジネスソリューション本部 ビジネスアーキテクト室', 'ビジネスソリューション本部 テクノロジーアーキテクト室',\n",
       "       'ビジネスソリューション本部 ソリューション開発室', 'ビジネスソリューション本部 ビジネスアプリケーション1部',\n",
       "       'ビジネスソリューション本部 ビジネスアプリケーション1部 アプリケーションアーキテクト1グループ',\n",
       "       'ビジネスソリューション本部 ビジネスアプリケーション1部 アプリケーションアーキテクト2グループ',\n",
       "       'ビジネスソリューション本部 ビジネスアプリケーション1部 アプリケーションアーキテクト3グループ',\n",
       "       'ビジネスソリューション本部 ビジネスアプリケーション1部 アプリケーションアーキテクト沖縄グループ',\n",
       "       'ビジネスソリューション本部 ビジネスアプリケーション2部',\n",
       "       'ビジネスソリューション本部 ビジネスアプリケーション2部 アプリケーションアーキテクト1グループ',\n",
       "       'ビジネスソリューション本部 ビジネスアプリケーション2部 アプリケーションアーキテクト2グループ',\n",
       "       'ビジネスソリューション本部 ビジネスアプリケーション2部 アプリケーションアーキテクト3グループ',\n",
       "       'ビジネスソリューション本部 ERPソリューション部',\n",
       "       'ビジネスソリューション本部 ERPソリューション部 RPAソリューショングループ',\n",
       "       'ビジネスソリューション本部 ERPソリューション部 ビジネスオペレーション1G',\n",
       "       'ビジネスソリューション本部 ERPソリューション部 ビジネスオペレーション2G',\n",
       "       'ビジネスソリューション本部 ERPソリューション部 インプリメンテーショングループ',\n",
       "       'ビジネスソリューション本部 ERPソリューション部 ERP基盤グループ',\n",
       "       'ビジネスソリューション本部 ERPソリューション部 データアーキテクトグループ',\n",
       "       'ビジネスソリューション本部 CRMソリューション部',\n",
       "       'ビジネスソリューション本部 CRMソリューション部 インプリメンテーション1グループ',\n",
       "       'ビジネスソリューション本部 CRMソリューション部 インプリメンテーション2グループ', 'サービス＆サポート本部',\n",
       "       'サービス＆サポート本部 サービス＆サポート本部付', 'サービス＆サポート本部 サービスインテグレーション部',\n",
       "       'サービス＆サポート本部 サービスインテグレーション部 プロダクトデベロップメントグループ',\n",
       "       'サービス＆サポート本部 サービスインテグレーション部 サービスインテグレーショングループ',\n",
       "       'サービス＆サポート本部 クラウドサービスセンター サービスオペレーション1グループ',\n",
       "       'サービス＆サポート本部 クラウドサービスセンター サービスオペレーション2グループ',\n",
       "       'サービス＆サポート本部 マネージドサービスセンター',\n",
       "       'サービス＆サポート本部 マネージドサービスセンター Security Operation G',\n",
       "       'サービス＆サポート本部 マネージドサービスセンター サービスオペレーショングループ',\n",
       "       'サービス＆サポート本部 マネージドサービスセンター テクニカルアカウントマネジメントグループ',\n",
       "       'サービス＆サポート本部 マネージドサービスセンター 更新サービスグループ',\n",
       "       'サービス＆サポート本部 エンドポイントサービスセンター',\n",
       "       'サービス＆サポート本部 エンドポイントサービスセンター エンドポイントサービス1グループ',\n",
       "       'サービス＆サポート本部 エンドポイントサービスセンター エンドポイントサービス2グループ',\n",
       "       'サービス＆サポート本部 ITサービスセンター', 'サービス＆サポート本部 ITサービスセンター ITサービス1グループ',\n",
       "       'サービス＆サポート本部 ITサービスセンター ITサービス2グループ',\n",
       "       'サービス＆サポート本部 ITサービスセンター トレーニンググループ', 'サービス＆サポート本部 沖縄事業所',\n",
       "       'サービス＆サポート本部 沖縄事業所 オペレーションセンター', 'サービス＆サポート本部 沖縄事業所 インサイドセールスセンター',\n",
       "       'サービス＆サポート本部 北海道事業所 北海道事業所付', 'サービス＆サポート本部 北海道事業所 第1技術グループ',\n",
       "       'サービス＆サポート本部 北海道事業所 第2技術グループ', 'サービス＆サポート本部 九州事業所',\n",
       "       'サービス＆サポート本部 九州事業所 第1技術グループ', 'サービス＆サポート本部 九州事業所 第2技術グループ',\n",
       "       '技術管理室', '技術管理室 業務管理', 'JBS USA', 'JBS USA Sales',\n",
       "       'Administration Division',\n",
       "       'Administration Division Administration',\n",
       "       'Administration Division HR',\n",
       "       'Administration Division Procurement', 'Delivery Division',\n",
       "       'Delivery Division ソリューション部 ERP',\n",
       "       'Delivery Division Cloud and Network Solution_SI',\n",
       "       'Delivery Division Business Application and Development_SOL',\n",
       "       'Delivery Division NY', 'JBSAP', 'JBS上海', '技術部 電装MS課',\n",
       "       '技術部 MSInfra開発課', '技術部 BP課', 'サービス部 営業課', 'サービス部 総務人事課', 'JBSメキシコ'],\n",
       "      dtype=object)"
      ]
     },
     "execution_count": 27,
     "metadata": {},
     "output_type": "execute_result"
    }
   ],
   "source": [
    "itsDF['Organization'].unique()"
   ]
  },
  {
   "cell_type": "code",
   "execution_count": 28,
   "metadata": {},
   "outputs": [],
   "source": [
    "tmp = itsDF['Organization'].str.split(' ', expand=True)"
   ]
  },
  {
   "cell_type": "code",
   "execution_count": 29,
   "metadata": {},
   "outputs": [],
   "source": [
    "div_s = tmp.get(0)"
   ]
  },
  {
   "cell_type": "code",
   "execution_count": 30,
   "metadata": {},
   "outputs": [],
   "source": [
    "itsDF['Div'] = div_s"
   ]
  },
  {
   "cell_type": "code",
   "execution_count": 32,
   "metadata": {},
   "outputs": [
    {
     "data": {
      "text/plain": [
       "array(['JBS', '内部監査室', '経営管理室', '財務経理部', '経営企画部', '品質管理室', 'リスク管理室',\n",
       "       '人事部', '総務部', '業務部', '情報システム本部', '社会システムソリューション室', '事業企画本部',\n",
       "       '営業統括本部', 'ITソリューション統括本部', 'ビジネスソリューション本部', 'サービス＆サポート本部', '技術管理室',\n",
       "       'Administration', 'Delivery', 'JBSAP', 'JBS上海', '技術部', 'サービス部',\n",
       "       'JBSメキシコ'], dtype=object)"
      ]
     },
     "execution_count": 32,
     "metadata": {},
     "output_type": "execute_result"
    }
   ],
   "source": [
    "itsDF['Div'].unique()"
   ]
  },
  {
   "cell_type": "markdown",
   "metadata": {},
   "source": [
    "#### OrganizationとDeptの対応辞書"
   ]
  },
  {
   "cell_type": "code",
   "execution_count": 33,
   "metadata": {},
   "outputs": [],
   "source": [
    "DEPT_DICT = {\n",
    " 'JBS': 'JBS',\n",
    " '内部監査室': '内部監査室',\n",
    " '経営管理室': '経営管理室',\n",
    " '財務経理部': '財務経理部',\n",
    " '財務経理部 経理課': '財務経理部',\n",
    " '財務経理部 財務課': '財務経理部',\n",
    " '経営企画部': '経営企画部',\n",
    " '品質管理室 ISMS／SM推進': '品質管理室',\n",
    " '品質管理室 PM推進': '品質管理室',\n",
    " 'リスク管理室': 'リスク管理室',\n",
    " '人事部': '人事部',\n",
    " '人事部 人事課': '人事部',\n",
    " '人事部 採用1課': '人事部',\n",
    " '人事部 採用2課': '人事部',\n",
    " '人事部 ヘルスケアセンター': '人事部',\n",
    " '総務部': '総務部',\n",
    " '総務部 総務課': '総務部',\n",
    " '総務部 法務課': '総務部',\n",
    " \"総務部 Lucy's課\": '総務部',\n",
    " '業務部 業務課': '業務部',\n",
    " '業務部 購買課': '業務部',\n",
    " '業務部 物流課': '業務部',\n",
    " '情報システム本部 インフラストラクチャサービス部': '情報システム本部 インフラストラクチャサービス部',\n",
    " '情報システム本部 インフラストラクチャサービス部 ITデザイン課': '情報システム本部 インフラストラクチャサービス部',\n",
    " '情報システム本部 インフラストラクチャサービス部 ITサービス課': '情報システム本部 インフラストラクチャサービス部',\n",
    " '情報システム本部 ビジネスサービス部': '情報システム本部 ビジネスサービス部',\n",
    " '情報システム本部 ビジネスサービス部 インプリメント課': '情報システム本部 ビジネスサービス部',\n",
    " '情報システム本部 ビジネスサービス部 マネジメント課': '情報システム本部 ビジネスサービス部',\n",
    " '社会システムソリューション室': '社会システムソリューション室',\n",
    " '事業企画本部': '事業企画本部',\n",
    " '事業企画本部 事業企画本部付': '事業企画本部 事業企画本部付',\n",
    " '事業企画本部 総合企画部': '事業企画本部 総合企画部',\n",
    " '事業企画本部 総合企画部 パートナーアライアンス課': '事業企画本部 総合企画部',\n",
    " '事業企画本部 総合企画部 コミュニケーション課': '事業企画本部 総合企画部',\n",
    " '事業企画本部 海外事業推進室': '事業企画本部 海外事業推進室',\n",
    " '事業企画本部 人材開発部': '事業企画本部 人材開発部',\n",
    " '事業企画本部 人材開発部 2019年度新卒': '事業企画本部 人材開発部',\n",
    " '事業企画本部 MS統合サポートセンター テクニカルナレッジグループ': '事業企画本部 MS統合サポートセンター',\n",
    " '事業企画本部 MS統合サポートセンター FastTrack推進グループ': '事業企画本部 MS統合サポートセンター',\n",
    " '事業企画本部 MS統合サポートセンター ライセンスナレッジグループ': '事業企画本部 MS統合サポートセンター',\n",
    " '事業企画本部 サービス企画部': '事業企画本部 サービス企画部',\n",
    " '事業企画本部 サービス推進部': '事業企画本部 サービス推進部',\n",
    " '事業企画本部 サービス推進部 シードアクセラレーショングループ': '事業企画本部 サービス推進部',\n",
    " '事業企画本部 ビジネスインキュベーション部': '事業企画本部 ビジネスインキュベーション部',\n",
    " '事業企画本部 ビジネスインキュベーション部 ISV推進グループ': '事業企画本部 ビジネスインキュベーション部',\n",
    " '事業企画本部 ビジネスインキュベーション部 IP企画グループ': '事業企画本部 ビジネスインキュベーション部',\n",
    " '営業統括本部': '営業統括本部',\n",
    " '営業統括本部 営業統括本部付': '営業統括本部 営業統括本部付',\n",
    " '営業統括本部 第1営業本部': '営業統括本部 第1営業本部',\n",
    " '営業統括本部 第1営業本部 営業1部': '営業統括本部 第1営業本部 営業1部',\n",
    " '営業統括本部 第1営業本部 営業1部 営業1課': '営業統括本部 第1営業本部 営業1部',\n",
    " '営業統括本部 第1営業本部 営業1部 営業2課': '営業統括本部 第1営業本部 営業1部',\n",
    " '営業統括本部 第1営業本部 営業2部': '営業統括本部 第1営業本部 営業2部',\n",
    " '営業統括本部 第1営業本部 営業2部 営業1課': '営業統括本部 第1営業本部 営業2部',\n",
    " '営業統括本部 第1営業本部 営業2部 営業2課': '営業統括本部 第1営業本部 営業2部',\n",
    " '営業統括本部 第2営業本部': '営業統括本部 第2営業本部',\n",
    " '営業統括本部 第2営業本部 営業1部': '営業統括本部 第2営業本部 営業1部',\n",
    " '営業統括本部 第2営業本部 営業1部 営業1課': '営業統括本部 第2営業本部 営業1部',\n",
    " '営業統括本部 第2営業本部 営業1部 営業2課': '営業統括本部 第2営業本部 営業1部',\n",
    " '営業統括本部 第2営業本部 営業2部': '営業統括本部 第2営業本部 営業2部',\n",
    " '営業統括本部 第2営業本部 営業2部 営業1課': '営業統括本部 第2営業本部 営業2部',\n",
    " '営業統括本部 第2営業本部 営業2部 営業2課': '営業統括本部 第2営業本部 営業2部',\n",
    " '営業統括本部 第3営業本部': '営業統括本部 第3営業本部',\n",
    " '営業統括本部 第3営業本部 第3営業本部付': '営業統括本部 第3営業本部 第3営業本部付',\n",
    " '営業統括本部 第3営業本部 営業1部': '営業統括本部 第3営業本部 営業1部',\n",
    " '営業統括本部 第3営業本部 営業1部 営業1課': '営業統括本部 第3営業本部 営業1部',\n",
    " '営業統括本部 第3営業本部 営業1部 営業2課': '営業統括本部 第3営業本部 営業1部',\n",
    " '営業統括本部 第3営業本部 営業2部': '営業統括本部 第3営業本部 営業2部',\n",
    " '営業統括本部 第3営業本部 営業2部 営業1課': '営業統括本部 第3営業本部 営業2部',\n",
    " '営業統括本部 第3営業本部 営業3部': '営業統括本部 第3営業本部 営業3部',\n",
    " '営業統括本部 第3営業本部 営業3部 営業1課': '営業統括本部 第3営業本部 営業3部',\n",
    " '営業統括本部 第3営業本部 営業3部 営業2課': '営業統括本部 第3営業本部 営業3部',\n",
    " '営業統括本部 第3営業本部 営業3部 営業3課': '営業統括本部 第3営業本部 営業3部',\n",
    " '営業統括本部 パートナー営業本部': '営業統括本部 パートナー営業本部',\n",
    " '営業統括本部 パートナー営業本部 営業部': '営業統括本部 パートナー営業本部 営業部',\n",
    " '営業統括本部 パートナー営業本部 営業部 営業1課': '営業統括本部 パートナー営業本部 営業部',\n",
    " '営業統括本部 パートナー営業本部 営業部 営業2課': '営業統括本部 パートナー営業本部 営業部',\n",
    " '営業統括本部 中部・西日本営業本部': '営業統括本部 中部・西日本営業本部',\n",
    " '営業統括本部 中部・西日本営業本部 中部営業部': '営業統括本部 中部・西日本営業本部 中部営業部',\n",
    " '営業統括本部 中部・西日本営業本部 西日本営業部': '営業統括本部 中部・西日本営業本部 西日本営業部',\n",
    " '営業統括本部 中部・西日本営業本部 東京営業部': '営業統括本部 中部・西日本営業本部 東京営業部',\n",
    " '営業統括本部 中部・西日本営業本部 北海道営業部': '営業統括本部 中部・西日本営業本部 北海道営業部',\n",
    " '営業統括本部 中部・西日本営業本部 九州営業部': '営業統括本部 中部・西日本営業本部 九州営業部',\n",
    " '営業統括本部 ソリューション営業部': '営業統括本部 ソリューション営業部',\n",
    " '営業統括本部 ソリューション営業部 営業1課': '営業統括本部 ソリューション営業部',\n",
    " '営業統括本部 ソリューション営業部 営業2課': '営業統括本部 ソリューション営業部',\n",
    " '営業統括本部 ソリューション営業部 営業3課': '営業統括本部 ソリューション営業部',\n",
    " '営業統括本部 ソリューション営業部 MSライセンス課': '営業統括本部 ソリューション営業部',\n",
    " '営業統括本部 営業サポート室': '営業統括本部 営業サポート室',\n",
    " 'ITソリューション統括本部 ITソリューション統括本部付': 'ITソリューション統括本部 ITソリューション統括本部付',\n",
    " 'ITソリューション統括本部 デジタルイノベーション推進室': 'ITソリューション統括本部 デジタルイノベーション推進室',\n",
    " 'ITソリューション統括本部 デジタルイノベーション推進室 デジタルコンサルティング推進': 'ITソリューション統括本部 デジタルイノベーション推進室',\n",
    " 'ITソリューション統括本部 デジタルイノベーション推進室 ITアーキテクト推進': 'ITソリューション統括本部 デジタルイノベーション推進室',\n",
    " 'ITソリューション統括本部 デジタルイノベーション推進室 PMO推進': 'ITソリューション統括本部 デジタルイノベーション推進室',\n",
    " 'ITソリューション統括本部 金融システム本部': 'ITソリューション統括本部 金融システム本部',\n",
    " 'ITソリューション統括本部 金融システム本部 金融システム1部': 'ITソリューション統括本部 金融システム本部 金融システム1部',\n",
    " 'ITソリューション統括本部 金融システム本部 金融システム1部 アカウント第1グループ': 'ITソリューション統括本部 金融システム本部 金融システム1部',\n",
    " 'ITソリューション統括本部 金融システム本部 金融システム1部 アカウント第2グループ': 'ITソリューション統括本部 金融システム本部 金融システム1部',\n",
    " 'ITソリューション統括本部 金融システム本部 金融システム1部 アカウント第3グループ': 'ITソリューション統括本部 金融システム本部 金融システム1部',\n",
    " 'ITソリューション統括本部 金融システム本部 金融システム1部 アカウント第4グループ': 'ITソリューション統括本部 金融システム本部 金融システム1部',\n",
    " 'ITソリューション統括本部 金融システム本部 金融システム1部 アカウント第5グループ': 'ITソリューション統括本部 金融システム本部 金融システム1部',\n",
    " 'ITソリューション統括本部 金融システム本部 金融システム2部': 'ITソリューション統括本部 金融システム本部 金融システム2部',\n",
    " 'ITソリューション統括本部 金融システム本部 金融システム2部 アカウント第1グループ': 'ITソリューション統括本部 金融システム本部 金融システム2部',\n",
    " 'ITソリューション統括本部 金融システム本部 金融システム2部 アカウント第2グループ': 'ITソリューション統括本部 金融システム本部 金融システム2部',\n",
    " 'ITソリューション統括本部 金融システム本部 金融システム2部 アカウント第3グループ': 'ITソリューション統括本部 金融システム本部 金融システム2部',\n",
    " 'ITソリューション統括本部 金融システム本部 金融システム2部 アカウント第4グループ': 'ITソリューション統括本部 金融システム本部 金融システム2部',\n",
    " 'ITソリューション統括本部 金融システム本部 金融システム2部 アカウント第5グループ': 'ITソリューション統括本部 金融システム本部 金融システム2部',\n",
    " 'ITソリューション統括本部 金融システム本部 金融システム3部': 'ITソリューション統括本部 金融システム本部 金融システム3部',\n",
    " 'ITソリューション統括本部 金融システム本部 金融システム3部 アカウント第1グループ': 'ITソリューション統括本部 金融システム本部 金融システム3部',\n",
    " 'ITソリューション統括本部 金融システム本部 金融システム3部 アカウント第2グループ': 'ITソリューション統括本部 金融システム本部 金融システム3部',\n",
    " 'ITソリューション統括本部 金融システム本部 金融システム4部': 'ITソリューション統括本部 金融システム本部 金融システム4部',\n",
    " 'ITソリューション統括本部 金融システム本部 金融システム4部 アカウント第1グループ': 'ITソリューション統括本部 金融システム本部 金融システム4部',\n",
    " 'ITソリューション統括本部 金融システム本部 金融システム4部 アカウント第2グループ': 'ITソリューション統括本部 金融システム本部 金融システム4部',\n",
    " 'ITソリューション統括本部 金融システム本部 金融システム4部 アカウント第3グループ': 'ITソリューション統括本部 金融システム本部 金融システム4部',\n",
    " 'ITソリューション統括本部 エンタープライズシステム本部': 'ITソリューション統括本部 エンタープライズシステム本部',\n",
    " 'ITソリューション統括本部 エンタープライズシステム本部 エンタープライズシステム1部 アカウント第1グループ': 'ITソリューション統括本部 エンタープライズシステム本部 エンタープライズシステム1部',\n",
    " 'ITソリューション統括本部 エンタープライズシステム本部 エンタープライズシステム1部 アカウント第2グループ': 'ITソリューション統括本部 エンタープライズシステム本部 エンタープライズシステム1部',\n",
    " 'ITソリューション統括本部 エンタープライズシステム本部 エンタープライズシステム1部 アカウント第3グループ': 'ITソリューション統括本部 エンタープライズシステム本部 エンタープライズシステム1部',\n",
    " 'ITソリューション統括本部 エンタープライズシステム本部 エンタープライズシステム1部 アカウント第4グループ': 'ITソリューション統括本部 エンタープライズシステム本部 エンタープライズシステム1部',\n",
    " 'ITソリューション統括本部 エンタープライズシステム本部 エンタープライズシステム2部': 'ITソリューション統括本部 エンタープライズシステム本部 エンタープライズシステム2部',\n",
    " 'ITソリューション統括本部 エンタープライズシステム本部 エンタープライズシステム2部 アカウント第1グループ': 'ITソリューション統括本部 エンタープライズシステム本部 エンタープライズシステム2部',\n",
    " 'ITソリューション統括本部 エンタープライズシステム本部 エンタープライズシステム2部 アカウント第2グループ': 'ITソリューション統括本部 エンタープライズシステム本部 エンタープライズシステム2部',\n",
    " 'ITソリューション統括本部 エンタープライズシステム本部 エンタープライズシステム3部': 'ITソリューション統括本部 エンタープライズシステム本部 エンタープライズシステム3部',\n",
    " 'ITソリューション統括本部 エンタープライズシステム本部 エンタープライズシステム3部 アカウント第1グループ': 'ITソリューション統括本部 エンタープライズシステム本部 エンタープライズシステム3部',\n",
    " 'ITソリューション統括本部 エンタープライズシステム本部 エンタープライズシステム3部 アカウント第2グループ': 'ITソリューション統括本部 エンタープライズシステム本部 エンタープライズシステム3部',\n",
    " 'ITソリューション統括本部 エンタープライズシステム本部 エンタープライズシステム3部 アカウント第3グループ': 'ITソリューション統括本部 エンタープライズシステム本部 エンタープライズシステム3部',\n",
    " 'ITソリューション統括本部 エンタープライズシステム本部 エンタープライズシステム3部 アカウント第4グループ': 'ITソリューション統括本部 エンタープライズシステム本部 エンタープライズシステム3部',\n",
    " 'ITソリューション統括本部 エンタープライズシステム本部 エンタープライズシステム3部 アカウント第5グループ': 'ITソリューション統括本部 エンタープライズシステム本部 エンタープライズシステム3部',\n",
    " 'ITソリューション統括本部 エンタープライズシステム本部 エンタープライズシステム4部': 'ITソリューション統括本部 エンタープライズシステム本部 エンタープライズシステム4部',\n",
    " 'ITソリューション統括本部 エンタープライズシステム本部 エンタープライズシステム4部 アカウント第1グループ': 'ITソリューション統括本部 エンタープライズシステム本部 エンタープライズシステム4部',\n",
    " 'ITソリューション統括本部 エンタープライズシステム本部 エンタープライズシステム4部 アカウント第2グループ': 'ITソリューション統括本部 エンタープライズシステム本部 エンタープライズシステム4部',\n",
    " 'ITソリューション統括本部 エンタープライズシステム本部 中部技術部 アカウント1グループ': 'ITソリューション統括本部 エンタープライズシステム本部 中部技術部',\n",
    " 'ITソリューション統括本部 エンタープライズシステム本部 中部技術部 アカウント2グループ': 'ITソリューション統括本部 エンタープライズシステム本部 中部技術部',\n",
    " 'ITソリューション統括本部 エンタープライズシステム本部 中部技術部 アカウント3グループ': 'ITソリューション統括本部 エンタープライズシステム本部 中部技術部',\n",
    " 'ITソリューション統括本部 エンタープライズシステム本部 中部技術部 アカウント4グループ': 'ITソリューション統括本部 エンタープライズシステム本部 中部技術部',\n",
    " 'ITソリューション統括本部 エンタープライズシステム本部 西日本技術部': 'ITソリューション統括本部 エンタープライズシステム本部 西日本技術部',\n",
    " 'ITソリューション統括本部 エンタープライズシステム本部 西日本技術部 アカウント1グループ': 'ITソリューション統括本部 エンタープライズシステム本部 西日本技術部',\n",
    " 'ITソリューション統括本部 エンタープライズシステム本部 西日本技術部 アカウント2グループ': 'ITソリューション統括本部 エンタープライズシステム本部 西日本技術部',\n",
    " 'ITソリューション統括本部 エンタープライズシステム本部 西日本技術部 アカウント3グループ': 'ITソリューション統括本部 エンタープライズシステム本部 西日本技術部',\n",
    " 'ITソリューション統括本部 テクノロジーソリューション本部': 'ITソリューション統括本部 テクノロジーソリューション本部',\n",
    " 'ITソリューション統括本部 テクノロジーソリューション本部 ナレッジコラボレーション部': 'ITソリューション統括本部 テクノロジーソリューション本部 ナレッジコラボレーション部',\n",
    " 'ITソリューション統括本部 テクノロジーソリューション本部 ナレッジコラボレーション部 アカウント1グループ': 'ITソリューション統括本部 テクノロジーソリューション本部 ナレッジコラボレーション部',\n",
    " 'ITソリューション統括本部 テクノロジーソリューション本部 ナレッジコラボレーション部 アカウント2グループ': 'ITソリューション統括本部 テクノロジーソリューション本部 ナレッジコラボレーション部',\n",
    " 'ITソリューション統括本部 テクノロジーソリューション本部 ナレッジコラボレーション部 CDグループ': 'ITソリューション統括本部 テクノロジーソリューション本部 ナレッジコラボレーション部',\n",
    " 'ITソリューション統括本部 テクノロジーソリューション本部 ナレッジコラボレーション部 xプロダクティビティ1グループ': 'ITソリューション統括本部 テクノロジーソリューション本部 ナレッジコラボレーション部',\n",
    " 'ITソリューション統括本部 テクノロジーソリューション本部 ナレッジコラボレーション部 xプロダクティビティ3グループ': 'ITソリューション統括本部 テクノロジーソリューション本部 ナレッジコラボレーション部',\n",
    " 'ITソリューション統括本部 テクノロジーソリューション本部 クラウドプラットフォーム部': 'ITソリューション統括本部 テクノロジーソリューション本部 クラウドプラットフォーム部',\n",
    " 'ITソリューション統括本部 テクノロジーソリューション本部 クラウドプラットフォーム部 1グループ': 'ITソリューション統括本部 テクノロジーソリューション本部 クラウドプラットフォーム部',\n",
    " 'ITソリューション統括本部 テクノロジーソリューション本部 クラウドプラットフォーム部 2グループ': 'ITソリューション統括本部 テクノロジーソリューション本部 クラウドプラットフォーム部',\n",
    " 'ITソリューション統括本部 テクノロジーソリューション本部 クラウドプラットフォーム部 3グループ': 'ITソリューション統括本部 テクノロジーソリューション本部 クラウドプラットフォーム部',\n",
    " 'ITソリューション統括本部 テクノロジーソリューション本部 クラウドプラットフォーム部 4グループ': 'ITソリューション統括本部 テクノロジーソリューション本部 クラウドプラットフォーム部',\n",
    " 'ITソリューション統括本部 テクノロジーソリューション本部 クラウドプラットフォーム部 5グループ': 'ITソリューション統括本部 テクノロジーソリューション本部 クラウドプラットフォーム部',\n",
    " 'ITソリューション統括本部 テクノロジーソリューション本部 クラウドプラットフォーム部 6グループ': 'ITソリューション統括本部 テクノロジーソリューション本部 クラウドプラットフォーム部',\n",
    " 'ITソリューション統括本部 テクノロジーソリューション本部 クラウドプラットフォーム部 7グループ': 'ITソリューション統括本部 テクノロジーソリューション本部 クラウドプラットフォーム部',\n",
    " 'ITソリューション統括本部 テクノロジーソリューション本部 システムインテグレーション部': 'ITソリューション統括本部 テクノロジーソリューション本部 システムインテグレーション部',\n",
    " 'ITソリューション統括本部 テクノロジーソリューション本部 システムインテグレーション部 システムインテグレーション1グループ': 'ITソリューション統括本部 テクノロジーソリューション本部 システムインテグレーション部',\n",
    " 'ITソリューション統括本部 テクノロジーソリューション本部 システムインテグレーション部 システムインテグレーション2グループ': 'ITソリューション統括本部 テクノロジーソリューション本部 システムインテグレーション部',\n",
    " 'ITソリューション統括本部 テクノロジーソリューション本部 システムインテグレーション部 システムインテグレーション3グループ': 'ITソリューション統括本部 テクノロジーソリューション本部 システムインテグレーション部',\n",
    " 'ITソリューション統括本部 テクノロジーソリューション本部 システムインテグレーション部 システムインテグレーション4グループ': 'ITソリューション統括本部 テクノロジーソリューション本部 システムインテグレーション部',\n",
    " 'ITソリューション統括本部 テクノロジーソリューション本部 システムインテグレーション部 システムインテグレーション5グループ': 'ITソリューション統括本部 テクノロジーソリューション本部 システムインテグレーション部',\n",
    " 'ITソリューション統括本部 テクノロジーソリューション本部 システムインテグレーション部 システムインテグレーション6グループ': 'ITソリューション統括本部 テクノロジーソリューション本部 システムインテグレーション部',\n",
    " 'ITソリューション統括本部 テクノロジーソリューション本部 システムインテグレーション部 システムインテグレーション7グループ': 'ITソリューション統括本部 テクノロジーソリューション本部 システムインテグレーション部',\n",
    " 'ITソリューション統括本部 テクノロジーソリューション本部 システムインテグレーション部 システムインテグレーション8グループ': 'ITソリューション統括本部 テクノロジーソリューション本部 システムインテグレーション部',\n",
    " 'ITソリューション統括本部 テクノロジーソリューション本部 システムインテグレーション部 システムインテグレーション9グループ': 'ITソリューション統括本部 テクノロジーソリューション本部 システムインテグレーション部',\n",
    " 'ITソリューション統括本部 テクノロジーソリューション本部 システムインテグレーション部 システムインテグレーション10グループ': 'ITソリューション統括本部 テクノロジーソリューション本部 システムインテグレーション部',\n",
    " 'ITソリューション統括本部 テクノロジーソリューション本部 システムインテグレーション部 システムインテグレーション11グループ': 'ITソリューション統括本部 テクノロジーソリューション本部 システムインテグレーション部',\n",
    " 'ITソリューション統括本部 テクノロジーソリューション本部 システムインテグレーション部 システムインテグレーション12グループ': 'ITソリューション統括本部 テクノロジーソリューション本部 システムインテグレーション部',\n",
    " 'ITソリューション統括本部 テクノロジーソリューション本部 システムインテグレーション部 システムインテグレーション13グループ': 'ITソリューション統括本部 テクノロジーソリューション本部 システムインテグレーション部',\n",
    " 'ITソリューション統括本部 テクノロジーソリューション本部 プラットフォームソリューション部': 'ITソリューション統括本部 テクノロジーソリューション本部 プラットフォームソリューション部',\n",
    " 'ITソリューション統括本部 テクノロジーソリューション本部 プラットフォームソリューション部 クラウドソリューション1グループ': 'ITソリューション統括本部 テクノロジーソリューション本部 プラットフォームソリューション部',\n",
    " 'ITソリューション統括本部 テクノロジーソリューション本部 プラットフォームソリューション部 クラウドソリューション2グループ': 'ITソリューション統括本部 テクノロジーソリューション本部 プラットフォームソリューション部',\n",
    " 'ITソリューション統括本部 テクノロジーソリューション本部 プラットフォームソリューション部 セキュリティーソリューショングループ': 'ITソリューション統括本部 テクノロジーソリューション本部 プラットフォームソリューション部',\n",
    " 'ITソリューション統括本部 テクノロジーソリューション本部 プラットフォームソリューション部 ワークスタイルソリューション1グループ': 'ITソリューション統括本部 テクノロジーソリューション本部 プラットフォームソリューション部',\n",
    " 'ITソリューション統括本部 テクノロジーソリューション本部 プラットフォームソリューション部 ワークスタイルソリューション2グループ': 'ITソリューション統括本部 テクノロジーソリューション本部 プラットフォームソリューション部',\n",
    " 'ITソリューション統括本部 テクノロジーソリューション本部 セキュアデザインセンター': 'ITソリューション統括本部 テクノロジーソリューション本部 セキュアデザインセンター',\n",
    " 'ITソリューション統括本部 テクノロジーソリューション本部 テクノロジーデザインセンター': 'ITソリューション統括本部 テクノロジーソリューション本部 テクノロジーデザインセンター',\n",
    " 'ITソリューション統括本部 テクニカルパートナー本部': 'ITソリューション統括本部 テクニカルパートナー本部',\n",
    " 'ITソリューション統括本部 テクニカルパートナー本部 テクニカルパートナー1部': 'ITソリューション統括本部 テクニカルパートナー本部 テクニカルパートナー1部',\n",
    " 'ITソリューション統括本部 テクニカルパートナー本部 テクニカルパートナー1部 第1技術グループ': 'ITソリューション統括本部 テクニカルパートナー本部 テクニカルパートナー1部',\n",
    " 'ITソリューション統括本部 テクニカルパートナー本部 テクニカルパートナー1部 第2技術グループ': 'ITソリューション統括本部 テクニカルパートナー本部 テクニカルパートナー1部',\n",
    " 'ITソリューション統括本部 テクニカルパートナー本部 テクニカルパートナー1部 第3技術グループ': 'ITソリューション統括本部 テクニカルパートナー本部 テクニカルパートナー1部',\n",
    " 'ITソリューション統括本部 テクニカルパートナー本部 テクニカルパートナー1部 第4技術グループ': 'ITソリューション統括本部 テクニカルパートナー本部 テクニカルパートナー1部',\n",
    " 'ITソリューション統括本部 テクニカルパートナー本部 テクニカルパートナー1部 第5技術グループ': 'ITソリューション統括本部 テクニカルパートナー本部 テクニカルパートナー1部',\n",
    " 'ITソリューション統括本部 テクニカルパートナー本部 テクニカルパートナー1部 第6技術グループ': 'ITソリューション統括本部 テクニカルパートナー本部 テクニカルパートナー1部',\n",
    " 'ITソリューション統括本部 テクニカルパートナー本部 テクニカルパートナー1部 第7技術グループ': 'ITソリューション統括本部 テクニカルパートナー本部 テクニカルパートナー1部',\n",
    " 'ITソリューション統括本部 テクニカルパートナー本部 テクニカルパートナー1部 第8技術グループ': 'ITソリューション統括本部 テクニカルパートナー本部 テクニカルパートナー1部',\n",
    " 'ITソリューション統括本部 テクニカルパートナー本部 テクニカルパートナー1部 第9技術グループ': 'ITソリューション統括本部 テクニカルパートナー本部 テクニカルパートナー1部',\n",
    " 'ITソリューション統括本部 テクニカルパートナー本部 テクニカルパートナー2部': 'ITソリューション統括本部 テクニカルパートナー本部 テクニカルパートナー2部',\n",
    " 'ITソリューション統括本部 テクニカルパートナー本部 テクニカルパートナー2部 第1技術グループ': 'ITソリューション統括本部 テクニカルパートナー本部 テクニカルパートナー2部',\n",
    " 'ITソリューション統括本部 テクニカルパートナー本部 テクニカルパートナー2部 第2技術グループ': 'ITソリューション統括本部 テクニカルパートナー本部 テクニカルパートナー2部',\n",
    " 'ITソリューション統括本部 テクニカルパートナー本部 テクニカルパートナー2部 第3技術グループ': 'ITソリューション統括本部 テクニカルパートナー本部 テクニカルパートナー2部',\n",
    " 'ITソリューション統括本部 テクニカルパートナー本部 テクニカルパートナー3部': 'ITソリューション統括本部 テクニカルパートナー本部 テクニカルパートナー3部',\n",
    " 'ITソリューション統括本部 テクニカルパートナー本部 テクニカルパートナー3部 第4技術グループ': 'ITソリューション統括本部 テクニカルパートナー本部 テクニカルパートナー3部',\n",
    " 'ITソリューション統括本部 テクニカルパートナー本部 テクニカルパートナー3部 第7技術グループ': 'ITソリューション統括本部 テクニカルパートナー本部 テクニカルパートナー3部',\n",
    " 'ITソリューション統括本部 テクニカルパートナー本部 テクニカルパートナー3部 第8技術グループ': 'ITソリューション統括本部 テクニカルパートナー本部 テクニカルパートナー3部',\n",
    " 'ITソリューション統括本部 テクニカルパートナー本部 テクニカルパートナー4部': 'ITソリューション統括本部 テクニカルパートナー本部 テクニカルパートナー4部',\n",
    " 'ITソリューション統括本部 テクニカルパートナー本部 テクニカルパートナー4部 第1技術グループ': 'ITソリューション統括本部 テクニカルパートナー本部 テクニカルパートナー4部',\n",
    " 'ITソリューション統括本部 テクニカルパートナー本部 テクニカルパートナー4部 第3技術グループ': 'ITソリューション統括本部 テクニカルパートナー本部 テクニカルパートナー4部',\n",
    " 'ITソリューション統括本部 テクニカルパートナー本部 テクニカルパートナー4部 第4技術グループ': 'ITソリューション統括本部 テクニカルパートナー本部 テクニカルパートナー4部',\n",
    " 'ITソリューション統括本部 テクニカルパートナー本部 テクニカルパートナー5部 第1技術グループ': 'ITソリューション統括本部 テクニカルパートナー本部 テクニカルパートナー5部',\n",
    " 'ITソリューション統括本部 テクニカルパートナー本部 テクニカルパートナー5部 第2技術グループ': 'ITソリューション統括本部 テクニカルパートナー本部 テクニカルパートナー5部',\n",
    " 'ITソリューション統括本部 テクニカルパートナー本部 テクニカルパートナー5部 第3技術グループ': 'ITソリューション統括本部 テクニカルパートナー本部 テクニカルパートナー5部',\n",
    " 'ビジネスソリューション本部': 'ビジネスソリューション本部',\n",
    " 'ビジネスソリューション本部 ビジネスソリューション本部付': 'ビジネスソリューション本部 ビジネスソリューション本部付',\n",
    " 'ビジネスソリューション本部 ビジネスアーキテクト室': 'ビジネスソリューション本部 ビジネスアーキテクト室',\n",
    " 'ビジネスソリューション本部 テクノロジーアーキテクト室': 'ビジネスソリューション本部 テクノロジーアーキテクト室',\n",
    " 'ビジネスソリューション本部 ソリューション開発室': 'ビジネスソリューション本部 ソリューション開発室',\n",
    " 'ビジネスソリューション本部 ビジネスアプリケーション1部': 'ビジネスソリューション本部 ビジネスアプリケーション1部',\n",
    " 'ビジネスソリューション本部 ビジネスアプリケーション1部 アプリケーションアーキテクト1グループ': 'ビジネスソリューション本部 ビジネスアプリケーション1部',\n",
    " 'ビジネスソリューション本部 ビジネスアプリケーション1部 アプリケーションアーキテクト2グループ': 'ビジネスソリューション本部 ビジネスアプリケーション1部',\n",
    " 'ビジネスソリューション本部 ビジネスアプリケーション1部 アプリケーションアーキテクト3グループ': 'ビジネスソリューション本部 ビジネスアプリケーション1部',\n",
    " 'ビジネスソリューション本部 ビジネスアプリケーション1部 アプリケーションアーキテクト沖縄グループ': 'ビジネスソリューション本部 ビジネスアプリケーション1部',\n",
    " 'ビジネスソリューション本部 ビジネスアプリケーション2部': 'ビジネスソリューション本部 ビジネスアプリケーション2部',\n",
    " 'ビジネスソリューション本部 ビジネスアプリケーション2部 アプリケーションアーキテクト1グループ': 'ビジネスソリューション本部 ビジネスアプリケーション2部',\n",
    " 'ビジネスソリューション本部 ビジネスアプリケーション2部 アプリケーションアーキテクト2グループ': 'ビジネスソリューション本部 ビジネスアプリケーション2部',\n",
    " 'ビジネスソリューション本部 ビジネスアプリケーション2部 アプリケーションアーキテクト3グループ': 'ビジネスソリューション本部 ビジネスアプリケーション2部',\n",
    " 'ビジネスソリューション本部 ERPソリューション部': 'ビジネスソリューション本部 ERPソリューション部',\n",
    " 'ビジネスソリューション本部 ERPソリューション部 RPAソリューショングループ': 'ビジネスソリューション本部 ERPソリューション部',\n",
    " 'ビジネスソリューション本部 ERPソリューション部 ビジネスオペレーション1G': 'ビジネスソリューション本部 ERPソリューション部',\n",
    " 'ビジネスソリューション本部 ERPソリューション部 ビジネスオペレーション2G': 'ビジネスソリューション本部 ERPソリューション部',\n",
    " 'ビジネスソリューション本部 ERPソリューション部 インプリメンテーショングループ': 'ビジネスソリューション本部 ERPソリューション部',\n",
    " 'ビジネスソリューション本部 ERPソリューション部 ERP基盤グループ': 'ビジネスソリューション本部 ERPソリューション部',\n",
    " 'ビジネスソリューション本部 ERPソリューション部 データアーキテクトグループ': 'ビジネスソリューション本部 ERPソリューション部',\n",
    " 'ビジネスソリューション本部 CRMソリューション部': 'ビジネスソリューション本部 CRMソリューション部',\n",
    " 'ビジネスソリューション本部 CRMソリューション部 インプリメンテーション1グループ': 'ビジネスソリューション本部 CRMソリューション部',\n",
    " 'ビジネスソリューション本部 CRMソリューション部 インプリメンテーション2グループ': 'ビジネスソリューション本部 CRMソリューション部',\n",
    " 'サービス＆サポート本部': 'サービス＆サポート本部',\n",
    " 'サービス＆サポート本部 サービス＆サポート本部付': 'サービス＆サポート本部 サービス＆サポート本部付',\n",
    " 'サービス＆サポート本部 サービスインテグレーション部': 'サービス＆サポート本部 サービスインテグレーション部',\n",
    " 'サービス＆サポート本部 サービスインテグレーション部 プロダクトデベロップメントグループ': 'サービス＆サポート本部 サービスインテグレーション部',\n",
    " 'サービス＆サポート本部 サービスインテグレーション部 サービスインテグレーショングループ': 'サービス＆サポート本部 サービスインテグレーション部',\n",
    " 'サービス＆サポート本部 クラウドサービスセンター サービスオペレーション1グループ': 'サービス＆サポート本部 クラウドサービスセンター',\n",
    " 'サービス＆サポート本部 クラウドサービスセンター サービスオペレーション2グループ': 'サービス＆サポート本部 クラウドサービスセンター',\n",
    " 'サービス＆サポート本部 マネージドサービスセンター': 'サービス＆サポート本部 マネージドサービスセンター',\n",
    " 'サービス＆サポート本部 マネージドサービスセンター Security Operation G': 'サービス＆サポート本部 マネージドサービスセンター',\n",
    " 'サービス＆サポート本部 マネージドサービスセンター サービスオペレーショングループ': 'サービス＆サポート本部 マネージドサービスセンター',\n",
    " 'サービス＆サポート本部 マネージドサービスセンター テクニカルアカウントマネジメントグループ': 'サービス＆サポート本部 マネージドサービスセンター',\n",
    " 'サービス＆サポート本部 マネージドサービスセンター 更新サービスグループ': 'サービス＆サポート本部 マネージドサービスセンター',\n",
    " 'サービス＆サポート本部 エンドポイントサービスセンター': 'サービス＆サポート本部 エンドポイントサービスセンター',\n",
    " 'サービス＆サポート本部 エンドポイントサービスセンター エンドポイントサービス1グループ': 'サービス＆サポート本部 エンドポイントサービスセンター',\n",
    " 'サービス＆サポート本部 エンドポイントサービスセンター エンドポイントサービス2グループ': 'サービス＆サポート本部 エンドポイントサービスセンター',\n",
    " 'サービス＆サポート本部 ITサービスセンター': 'サービス＆サポート本部 ITサービスセンター',\n",
    " 'サービス＆サポート本部 ITサービスセンター ITサービス1グループ': 'サービス＆サポート本部 ITサービスセンター',\n",
    " 'サービス＆サポート本部 ITサービスセンター ITサービス2グループ': 'サービス＆サポート本部 ITサービスセンター',\n",
    " 'サービス＆サポート本部 ITサービスセンター トレーニンググループ': 'サービス＆サポート本部 ITサービスセンター',\n",
    " 'サービス＆サポート本部 沖縄事業所': 'サービス＆サポート本部 沖縄事業所',\n",
    " 'サービス＆サポート本部 沖縄事業所 オペレーションセンター': 'サービス＆サポート本部 沖縄事業所',\n",
    " 'サービス＆サポート本部 沖縄事業所 インサイドセールスセンター': 'サービス＆サポート本部 沖縄事業所',\n",
    " 'サービス＆サポート本部 北海道事業所 北海道事業所付': 'サービス＆サポート本部 北海道事業所',\n",
    " 'サービス＆サポート本部 北海道事業所 第1技術グループ': 'サービス＆サポート本部 北海道事業所',\n",
    " 'サービス＆サポート本部 北海道事業所 第2技術グループ': 'サービス＆サポート本部 北海道事業所',\n",
    " 'サービス＆サポート本部 九州事業所': 'サービス＆サポート本部 九州事業所',\n",
    " 'サービス＆サポート本部 九州事業所 第1技術グループ': 'サービス＆サポート本部 九州事業所',\n",
    " 'サービス＆サポート本部 九州事業所 第2技術グループ': 'サービス＆サポート本部 九州事業所',\n",
    " '技術管理室': '技術管理室',\n",
    " '技術管理室 業務管理': '技術管理室',\n",
    " 'JBS USA': 'JBS USA',\n",
    " 'JBS USA Sales': 'JBS USA Sales',\n",
    " 'Administration Division': 'Administration Division',\n",
    " 'Administration Division Administration': 'Administration Division',\n",
    " 'Administration Division HR': 'Administration Division',\n",
    " 'Administration Division Procurement': 'Administration Division',\n",
    " 'Delivery Division': 'Delivery Division',\n",
    " 'Delivery Division ソリューション部 ERP': 'Delivery Division',\n",
    " 'Delivery Division Cloud and Network Solution_SI': 'Delivery Division',\n",
    " 'Delivery Division Business Application and Development_SOL': 'Delivery Division',\n",
    " 'Delivery Division NY': 'Delivery Division',\n",
    " 'JBSAP': 'JBSAP',\n",
    " 'JBS上海': 'JBS上海',\n",
    " '技術部 電装MS課': '技術部',\n",
    " '技術部 MSInfra開発課': '技術部',\n",
    " '技術部 BP課': '技術部',\n",
    " 'サービス部 営業課': 'サービス部',\n",
    " 'サービス部 総務人事課': 'サービス部',\n",
    " 'JBSメキシコ': 'JBSメキシコ'\n",
    "  }"
   ]
  },
  {
   "cell_type": "markdown",
   "metadata": {},
   "source": [
    "'営業統括本部', 'ITソリューション統括本部'は本部単位に展開する"
   ]
  },
  {
   "cell_type": "code",
   "execution_count": null,
   "metadata": {},
   "outputs": [],
   "source": [
    "海外はCompanyカラム追加、と海外の部にUS-などの接頭辞をつける'Administration', 'Delivery', 'JBSAP', 'JBS上海', '技術部', 'サービス部',\n",
    "       'JBSメキシコ'"
   ]
  },
  {
   "cell_type": "code",
   "execution_count": null,
   "metadata": {},
   "outputs": [],
   "source": [
    "旧テクノロジーのカラム追加\n",
    "8000~40000はテクノロジー"
   ]
  },
  {
   "cell_type": "markdown",
   "metadata": {},
   "source": [
    "# 2018/10からさかのぼりたい"
   ]
  },
  {
   "cell_type": "code",
   "execution_count": 34,
   "metadata": {},
   "outputs": [],
   "source": [
    " def change_dept(x):\n",
    "    y = ' '.join(x)\n",
    "    if y in DEPT_DICT:\n",
    "        return DEPT_DICT[y]\n",
    "    else:\n",
    "        return None"
   ]
  },
  {
   "cell_type": "code",
   "execution_count": 35,
   "metadata": {},
   "outputs": [],
   "source": [
    "tmp2 = itsDF['Organization'].str.split(' ', expand=False)"
   ]
  },
  {
   "cell_type": "code",
   "execution_count": 36,
   "metadata": {},
   "outputs": [],
   "source": [
    "dept_s = tmp2.apply(change_dept)"
   ]
  },
  {
   "cell_type": "code",
   "execution_count": 37,
   "metadata": {},
   "outputs": [],
   "source": [
    "itsDF['Dept'] = dept_s"
   ]
  },
  {
   "cell_type": "code",
   "execution_count": 38,
   "metadata": {},
   "outputs": [
    {
     "data": {
      "text/html": [
       "<div>\n",
       "<style scoped>\n",
       "    .dataframe tbody tr th:only-of-type {\n",
       "        vertical-align: middle;\n",
       "    }\n",
       "\n",
       "    .dataframe tbody tr th {\n",
       "        vertical-align: top;\n",
       "    }\n",
       "\n",
       "    .dataframe thead th {\n",
       "        text-align: right;\n",
       "    }\n",
       "</style>\n",
       "<table border=\"1\" class=\"dataframe\">\n",
       "  <thead>\n",
       "    <tr style=\"text-align: right;\">\n",
       "      <th></th>\n",
       "      <th>EmployeeNo</th>\n",
       "      <th>EmployeeName</th>\n",
       "      <th>AdAccount1</th>\n",
       "      <th>PersonId</th>\n",
       "      <th>EffectiveDate</th>\n",
       "      <th>ManagerId</th>\n",
       "      <th>LevelDesignation</th>\n",
       "      <th>Organization</th>\n",
       "      <th>CompanyName</th>\n",
       "      <th>HireDate</th>\n",
       "      <th>...</th>\n",
       "      <th>EmploymentType</th>\n",
       "      <th>CustomerCharge</th>\n",
       "      <th>PreSales</th>\n",
       "      <th>Available</th>\n",
       "      <th>WorkingTime</th>\n",
       "      <th>OverTime</th>\n",
       "      <th>OnSite</th>\n",
       "      <th>TimeZone</th>\n",
       "      <th>Div</th>\n",
       "      <th>Dept</th>\n",
       "    </tr>\n",
       "  </thead>\n",
       "  <tbody>\n",
       "  </tbody>\n",
       "</table>\n",
       "<p>0 rows × 21 columns</p>\n",
       "</div>"
      ],
      "text/plain": [
       "Empty DataFrame\n",
       "Columns: [EmployeeNo, EmployeeName, AdAccount1, PersonId, EffectiveDate, ManagerId, LevelDesignation, Organization, CompanyName, HireDate, EntryType, EmploymentType, CustomerCharge, PreSales, Available, WorkingTime, OverTime, OnSite, TimeZone, Div, Dept]\n",
       "Index: []\n",
       "\n",
       "[0 rows x 21 columns]"
      ]
     },
     "execution_count": 38,
     "metadata": {},
     "output_type": "execute_result"
    }
   ],
   "source": [
    "itsDF[itsDF['Dept'].isnull()]"
   ]
  },
  {
   "cell_type": "code",
   "execution_count": 39,
   "metadata": {},
   "outputs": [
    {
     "data": {
      "text/plain": [
       "array(['JBS', '内部監査室', '経営管理室', '財務経理部', '経営企画部', '品質管理室', 'リスク管理室',\n",
       "       '人事部', '総務部', '業務部', '情報システム本部 インフラストラクチャサービス部',\n",
       "       '情報システム本部 ビジネスサービス部', '社会システムソリューション室', '事業企画本部', '事業企画本部 事業企画本部付',\n",
       "       '事業企画本部 総合企画部', '事業企画本部 海外事業推進室', '事業企画本部 人材開発部',\n",
       "       '事業企画本部 MS統合サポートセンター', '事業企画本部 サービス企画部', '事業企画本部 サービス推進部',\n",
       "       '事業企画本部 ビジネスインキュベーション部', '営業統括本部', '営業統括本部 営業統括本部付',\n",
       "       '営業統括本部 第1営業本部', '営業統括本部 第1営業本部 営業1部', '営業統括本部 第1営業本部 営業2部',\n",
       "       '営業統括本部 第2営業本部', '営業統括本部 第2営業本部 営業1部', '営業統括本部 第2営業本部 営業2部',\n",
       "       '営業統括本部 第3営業本部', '営業統括本部 第3営業本部 第3営業本部付', '営業統括本部 第3営業本部 営業1部',\n",
       "       '営業統括本部 第3営業本部 営業2部', '営業統括本部 第3営業本部 営業3部', '営業統括本部 パートナー営業本部',\n",
       "       '営業統括本部 パートナー営業本部 営業部', '営業統括本部 中部・西日本営業本部',\n",
       "       '営業統括本部 中部・西日本営業本部 中部営業部', '営業統括本部 中部・西日本営業本部 西日本営業部',\n",
       "       '営業統括本部 中部・西日本営業本部 東京営業部', '営業統括本部 中部・西日本営業本部 北海道営業部',\n",
       "       '営業統括本部 中部・西日本営業本部 九州営業部', '営業統括本部 ソリューション営業部', '営業統括本部 営業サポート室',\n",
       "       'ITソリューション統括本部 ITソリューション統括本部付', 'ITソリューション統括本部 デジタルイノベーション推進室',\n",
       "       'ITソリューション統括本部 金融システム本部', 'ITソリューション統括本部 金融システム本部 金融システム1部',\n",
       "       'ITソリューション統括本部 金融システム本部 金融システム2部',\n",
       "       'ITソリューション統括本部 金融システム本部 金融システム3部',\n",
       "       'ITソリューション統括本部 金融システム本部 金融システム4部', 'ITソリューション統括本部 エンタープライズシステム本部',\n",
       "       'ITソリューション統括本部 エンタープライズシステム本部 エンタープライズシステム1部',\n",
       "       'ITソリューション統括本部 エンタープライズシステム本部 エンタープライズシステム2部',\n",
       "       'ITソリューション統括本部 エンタープライズシステム本部 エンタープライズシステム3部',\n",
       "       'ITソリューション統括本部 エンタープライズシステム本部 エンタープライズシステム4部',\n",
       "       'ITソリューション統括本部 エンタープライズシステム本部 中部技術部',\n",
       "       'ITソリューション統括本部 エンタープライズシステム本部 西日本技術部',\n",
       "       'ITソリューション統括本部 テクノロジーソリューション本部',\n",
       "       'ITソリューション統括本部 テクノロジーソリューション本部 ナレッジコラボレーション部',\n",
       "       'ITソリューション統括本部 テクノロジーソリューション本部 クラウドプラットフォーム部',\n",
       "       'ITソリューション統括本部 テクノロジーソリューション本部 システムインテグレーション部',\n",
       "       'ITソリューション統括本部 テクノロジーソリューション本部 プラットフォームソリューション部',\n",
       "       'ITソリューション統括本部 テクノロジーソリューション本部 セキュアデザインセンター',\n",
       "       'ITソリューション統括本部 テクノロジーソリューション本部 テクノロジーデザインセンター',\n",
       "       'ITソリューション統括本部 テクニカルパートナー本部',\n",
       "       'ITソリューション統括本部 テクニカルパートナー本部 テクニカルパートナー1部',\n",
       "       'ITソリューション統括本部 テクニカルパートナー本部 テクニカルパートナー2部',\n",
       "       'ITソリューション統括本部 テクニカルパートナー本部 テクニカルパートナー3部',\n",
       "       'ITソリューション統括本部 テクニカルパートナー本部 テクニカルパートナー4部',\n",
       "       'ITソリューション統括本部 テクニカルパートナー本部 テクニカルパートナー5部', 'ビジネスソリューション本部',\n",
       "       'ビジネスソリューション本部 ビジネスソリューション本部付', 'ビジネスソリューション本部 ビジネスアーキテクト室',\n",
       "       'ビジネスソリューション本部 テクノロジーアーキテクト室', 'ビジネスソリューション本部 ソリューション開発室',\n",
       "       'ビジネスソリューション本部 ビジネスアプリケーション1部', 'ビジネスソリューション本部 ビジネスアプリケーション2部',\n",
       "       'ビジネスソリューション本部 ERPソリューション部', 'ビジネスソリューション本部 CRMソリューション部',\n",
       "       'サービス＆サポート本部', 'サービス＆サポート本部 サービス＆サポート本部付',\n",
       "       'サービス＆サポート本部 サービスインテグレーション部', 'サービス＆サポート本部 クラウドサービスセンター',\n",
       "       'サービス＆サポート本部 マネージドサービスセンター', 'サービス＆サポート本部 エンドポイントサービスセンター',\n",
       "       'サービス＆サポート本部 ITサービスセンター', 'サービス＆サポート本部 沖縄事業所',\n",
       "       'サービス＆サポート本部 北海道事業所', 'サービス＆サポート本部 九州事業所', '技術管理室', 'JBS USA',\n",
       "       'JBS USA Sales', 'Administration Division', 'Delivery Division',\n",
       "       'JBSAP', 'JBS上海', '技術部', 'サービス部', 'JBSメキシコ'], dtype=object)"
      ]
     },
     "execution_count": 39,
     "metadata": {},
     "output_type": "execute_result"
    }
   ],
   "source": [
    "itsDF['Dept'].unique()"
   ]
  },
  {
   "cell_type": "markdown",
   "metadata": {},
   "source": [
    "### FunctionType"
   ]
  },
  {
   "cell_type": "markdown",
   "metadata": {},
   "source": [
    "#### 先月とのDiv比較"
   ]
  },
  {
   "cell_type": "code",
   "execution_count": 41,
   "metadata": {},
   "outputs": [
    {
     "data": {
      "text/plain": [
       "array(['JBS', '内部監査室', '経営管理室', '財務経理部', '経営企画部', '品質管理室', 'リスク管理室',\n",
       "       '人事部', '総務部', '業務部', '情報システム本部', '社会システムソリューション室', '事業企画本部',\n",
       "       '営業統括本部', 'ITソリューション統括本部', 'ビジネスソリューション本部', 'サービス＆サポート本部', '技術管理室',\n",
       "       'Administration', 'Delivery', 'JBSAP', 'JBS上海', '技術部', 'サービス部',\n",
       "       'JBSメキシコ'], dtype=object)"
      ]
     },
     "execution_count": 41,
     "metadata": {},
     "output_type": "execute_result"
    }
   ],
   "source": [
    "itsDF['Div'].unique()"
   ]
  },
  {
   "cell_type": "code",
   "execution_count": 42,
   "metadata": {},
   "outputs": [],
   "source": [
    "f_type_dic = {\n",
    "'JBS': '経営',\n",
    "'内部監査室': 'スタッフ',\n",
    "'経営管理室': 'スタッフ',\n",
    "'財務経理部': 'スタッフ',\n",
    "'経営企画部': '企画',\n",
    "'品質管理室': 'スタッフ',\n",
    "'リスク管理室': 'スタッフ',\n",
    "'人事部': 'スタッフ',\n",
    "'総務部': 'スタッフ',\n",
    "'業務部': 'スタッフ',\n",
    "'情報システム本部': 'スタッフ',\n",
    "'社会システムソリューション室': 'スタッフ',\n",
    "'事業企画本部': '企画',\n",
    "'営業統括本部': '営業',\n",
    "'ITソリューション統括本部': '技術',\n",
    "'ビジネスソリューション本部': '技術',\n",
    "'サービス＆サポート本部': '技術',\n",
    "'技術管理室': '技術',\n",
    "'Administration': '海外',\n",
    "'Delivery': '海外',\n",
    "'JBSAP': '海外',\n",
    "'JBS上海': '海外',\n",
    "'技術部': '海外',\n",
    "'サービス部': '海外',\n",
    "'JBSメキシコ': '海外'\n",
    "}"
   ]
  },
  {
   "cell_type": "code",
   "execution_count": 43,
   "metadata": {},
   "outputs": [],
   "source": [
    "f_type_s = itsDF['Div'].map(f_type_dic)"
   ]
  },
  {
   "cell_type": "code",
   "execution_count": 44,
   "metadata": {},
   "outputs": [],
   "source": [
    "itsDF['FunctionType'] = f_type_s"
   ]
  },
  {
   "cell_type": "code",
   "execution_count": 47,
   "metadata": {},
   "outputs": [
    {
     "data": {
      "text/html": [
       "<div>\n",
       "<style scoped>\n",
       "    .dataframe tbody tr th:only-of-type {\n",
       "        vertical-align: middle;\n",
       "    }\n",
       "\n",
       "    .dataframe tbody tr th {\n",
       "        vertical-align: top;\n",
       "    }\n",
       "\n",
       "    .dataframe thead th {\n",
       "        text-align: right;\n",
       "    }\n",
       "</style>\n",
       "<table border=\"1\" class=\"dataframe\">\n",
       "  <thead>\n",
       "    <tr style=\"text-align: right;\">\n",
       "      <th></th>\n",
       "      <th>EmployeeNo</th>\n",
       "      <th>EmployeeName</th>\n",
       "      <th>AdAccount1</th>\n",
       "      <th>PersonId</th>\n",
       "      <th>EffectiveDate</th>\n",
       "      <th>ManagerId</th>\n",
       "      <th>LevelDesignation</th>\n",
       "      <th>Organization</th>\n",
       "      <th>CompanyName</th>\n",
       "      <th>HireDate</th>\n",
       "      <th>...</th>\n",
       "      <th>CustomerCharge</th>\n",
       "      <th>PreSales</th>\n",
       "      <th>Available</th>\n",
       "      <th>WorkingTime</th>\n",
       "      <th>OverTime</th>\n",
       "      <th>OnSite</th>\n",
       "      <th>TimeZone</th>\n",
       "      <th>Div</th>\n",
       "      <th>Dept</th>\n",
       "      <th>FunctionType</th>\n",
       "    </tr>\n",
       "  </thead>\n",
       "  <tbody>\n",
       "  </tbody>\n",
       "</table>\n",
       "<p>0 rows × 22 columns</p>\n",
       "</div>"
      ],
      "text/plain": [
       "Empty DataFrame\n",
       "Columns: [EmployeeNo, EmployeeName, AdAccount1, PersonId, EffectiveDate, ManagerId, LevelDesignation, Organization, CompanyName, HireDate, EntryType, EmploymentType, CustomerCharge, PreSales, Available, WorkingTime, OverTime, OnSite, TimeZone, Div, Dept, FunctionType]\n",
       "Index: []\n",
       "\n",
       "[0 rows x 22 columns]"
      ]
     },
     "execution_count": 47,
     "metadata": {},
     "output_type": "execute_result"
    }
   ],
   "source": [
    "itsDF[itsDF['FunctionType'].isnull()]"
   ]
  },
  {
   "cell_type": "markdown",
   "metadata": {},
   "source": [
    "### カラム名変更"
   ]
  },
  {
   "cell_type": "code",
   "execution_count": 49,
   "metadata": {},
   "outputs": [
    {
     "data": {
      "text/plain": [
       "Index(['EmployeeNo', 'EmployeeName', 'AdAccount1', 'PersonId', 'EffectiveDate',\n",
       "       'ManagerId', 'LevelDesignation', 'Organization', 'CompanyName',\n",
       "       'HireDate', 'EntryType', 'EmploymentType', 'CustomerCharge', 'PreSales',\n",
       "       'Available', 'WorkingTime', 'OverTime', 'OnSite', 'TimeZone', 'Div',\n",
       "       'Dept', 'FunctionType'],\n",
       "      dtype='object')"
      ]
     },
     "execution_count": 49,
     "metadata": {},
     "output_type": "execute_result"
    }
   ],
   "source": [
    "itsDF.columns"
   ]
  },
  {
   "cell_type": "code",
   "execution_count": 50,
   "metadata": {},
   "outputs": [],
   "source": [
    "itsDF.rename(columns={'EmploymentType': 'Employmenttype',\n",
    "                            'OverTime': 'Overtime',\n",
    "                           'EmployeeNo': 'No'}, inplace=True)"
   ]
  },
  {
   "cell_type": "code",
   "execution_count": 51,
   "metadata": {},
   "outputs": [
    {
     "data": {
      "text/html": [
       "<div>\n",
       "<style scoped>\n",
       "    .dataframe tbody tr th:only-of-type {\n",
       "        vertical-align: middle;\n",
       "    }\n",
       "\n",
       "    .dataframe tbody tr th {\n",
       "        vertical-align: top;\n",
       "    }\n",
       "\n",
       "    .dataframe thead th {\n",
       "        text-align: right;\n",
       "    }\n",
       "</style>\n",
       "<table border=\"1\" class=\"dataframe\">\n",
       "  <thead>\n",
       "    <tr style=\"text-align: right;\">\n",
       "      <th></th>\n",
       "      <th>No</th>\n",
       "      <th>EmployeeName</th>\n",
       "      <th>AdAccount1</th>\n",
       "      <th>PersonId</th>\n",
       "      <th>EffectiveDate</th>\n",
       "      <th>ManagerId</th>\n",
       "      <th>LevelDesignation</th>\n",
       "      <th>Organization</th>\n",
       "      <th>CompanyName</th>\n",
       "      <th>HireDate</th>\n",
       "      <th>...</th>\n",
       "      <th>CustomerCharge</th>\n",
       "      <th>PreSales</th>\n",
       "      <th>Available</th>\n",
       "      <th>WorkingTime</th>\n",
       "      <th>Overtime</th>\n",
       "      <th>OnSite</th>\n",
       "      <th>TimeZone</th>\n",
       "      <th>Div</th>\n",
       "      <th>Dept</th>\n",
       "      <th>FunctionType</th>\n",
       "    </tr>\n",
       "  </thead>\n",
       "  <tbody>\n",
       "    <tr>\n",
       "      <th>0</th>\n",
       "      <td>856f4e0216a474d7d13f5b680e326e5f46bc181dfb68e2...</td>\n",
       "      <td>牧田 幸弘</td>\n",
       "      <td>ymakita</td>\n",
       "      <td>makita@jbs.com</td>\n",
       "      <td>07/31/2019</td>\n",
       "      <td>NaN</td>\n",
       "      <td>代表取締役社長</td>\n",
       "      <td>JBS</td>\n",
       "      <td>JBS</td>\n",
       "      <td>01/01/1991</td>\n",
       "      <td>...</td>\n",
       "      <td>0.0</td>\n",
       "      <td>0.0</td>\n",
       "      <td>0.0</td>\n",
       "      <td>0.0</td>\n",
       "      <td>0.0</td>\n",
       "      <td>0</td>\n",
       "      <td>Tokyo Standard Time</td>\n",
       "      <td>JBS</td>\n",
       "      <td>JBS</td>\n",
       "      <td>スタッフ</td>\n",
       "    </tr>\n",
       "    <tr>\n",
       "      <th>1</th>\n",
       "      <td>b1743d531fa84a32613ea5f71342e26011130b0ab5ccd1...</td>\n",
       "      <td>牧田 和也</td>\n",
       "      <td>kmakita</td>\n",
       "      <td>kazuya.makita@jbs.com</td>\n",
       "      <td>07/31/2019</td>\n",
       "      <td>makita@jbs.com</td>\n",
       "      <td>取締役副社長</td>\n",
       "      <td>JBS</td>\n",
       "      <td>JBS</td>\n",
       "      <td>10/11/1993</td>\n",
       "      <td>...</td>\n",
       "      <td>0.0</td>\n",
       "      <td>0.0</td>\n",
       "      <td>0.0</td>\n",
       "      <td>0.0</td>\n",
       "      <td>0.0</td>\n",
       "      <td>0</td>\n",
       "      <td>Tokyo Standard Time</td>\n",
       "      <td>JBS</td>\n",
       "      <td>JBS</td>\n",
       "      <td>スタッフ</td>\n",
       "    </tr>\n",
       "    <tr>\n",
       "      <th>2</th>\n",
       "      <td>de726a90da3a4d7f9cf4b671fae4c9cff2478ebec17861...</td>\n",
       "      <td>和田 行弘</td>\n",
       "      <td>ywada</td>\n",
       "      <td>yukihiro.wada@jbs.com</td>\n",
       "      <td>07/31/2019</td>\n",
       "      <td>makita@jbs.com</td>\n",
       "      <td>取締役常務執行役員</td>\n",
       "      <td>JBS</td>\n",
       "      <td>JBS</td>\n",
       "      <td>05/11/1992</td>\n",
       "      <td>...</td>\n",
       "      <td>0.0</td>\n",
       "      <td>0.0</td>\n",
       "      <td>0.0</td>\n",
       "      <td>0.0</td>\n",
       "      <td>0.0</td>\n",
       "      <td>0</td>\n",
       "      <td>Tokyo Standard Time</td>\n",
       "      <td>JBS</td>\n",
       "      <td>JBS</td>\n",
       "      <td>スタッフ</td>\n",
       "    </tr>\n",
       "    <tr>\n",
       "      <th>3</th>\n",
       "      <td>71b70ac31145e48def6706c0bb80f912716ec8b5c019b3...</td>\n",
       "      <td>野呂 咲人</td>\n",
       "      <td>noros</td>\n",
       "      <td>sakihito.noro@jbs.com</td>\n",
       "      <td>07/31/2019</td>\n",
       "      <td>makita@jbs.com</td>\n",
       "      <td>取締役執行役員</td>\n",
       "      <td>JBS</td>\n",
       "      <td>JBS</td>\n",
       "      <td>10/01/2014</td>\n",
       "      <td>...</td>\n",
       "      <td>0.0</td>\n",
       "      <td>0.0</td>\n",
       "      <td>0.0</td>\n",
       "      <td>0.0</td>\n",
       "      <td>0.0</td>\n",
       "      <td>0</td>\n",
       "      <td>Tokyo Standard Time</td>\n",
       "      <td>JBS</td>\n",
       "      <td>JBS</td>\n",
       "      <td>スタッフ</td>\n",
       "    </tr>\n",
       "    <tr>\n",
       "      <th>4</th>\n",
       "      <td>c92e75d3740f50eb7cfdb4bbabe098448c0ddc452721af...</td>\n",
       "      <td>大藪 卓也</td>\n",
       "      <td>toyabu</td>\n",
       "      <td>takuya.oyabu@jbs.com</td>\n",
       "      <td>07/31/2019</td>\n",
       "      <td>makita@jbs.com</td>\n",
       "      <td>社外取締役</td>\n",
       "      <td>JBS</td>\n",
       "      <td>JBS</td>\n",
       "      <td>01/01/2013</td>\n",
       "      <td>...</td>\n",
       "      <td>0.0</td>\n",
       "      <td>0.0</td>\n",
       "      <td>0.0</td>\n",
       "      <td>0.0</td>\n",
       "      <td>0.0</td>\n",
       "      <td>0</td>\n",
       "      <td>Tokyo Standard Time</td>\n",
       "      <td>JBS</td>\n",
       "      <td>JBS</td>\n",
       "      <td>スタッフ</td>\n",
       "    </tr>\n",
       "  </tbody>\n",
       "</table>\n",
       "<p>5 rows × 22 columns</p>\n",
       "</div>"
      ],
      "text/plain": [
       "                                                  No EmployeeName AdAccount1  \\\n",
       "0  856f4e0216a474d7d13f5b680e326e5f46bc181dfb68e2...        牧田 幸弘    ymakita   \n",
       "1  b1743d531fa84a32613ea5f71342e26011130b0ab5ccd1...        牧田 和也    kmakita   \n",
       "2  de726a90da3a4d7f9cf4b671fae4c9cff2478ebec17861...        和田 行弘      ywada   \n",
       "3  71b70ac31145e48def6706c0bb80f912716ec8b5c019b3...        野呂 咲人      noros   \n",
       "4  c92e75d3740f50eb7cfdb4bbabe098448c0ddc452721af...        大藪 卓也     toyabu   \n",
       "\n",
       "                PersonId EffectiveDate       ManagerId LevelDesignation  \\\n",
       "0         makita@jbs.com    07/31/2019             NaN          代表取締役社長   \n",
       "1  kazuya.makita@jbs.com    07/31/2019  makita@jbs.com           取締役副社長   \n",
       "2  yukihiro.wada@jbs.com    07/31/2019  makita@jbs.com        取締役常務執行役員   \n",
       "3  sakihito.noro@jbs.com    07/31/2019  makita@jbs.com          取締役執行役員   \n",
       "4   takuya.oyabu@jbs.com    07/31/2019  makita@jbs.com            社外取締役   \n",
       "\n",
       "  Organization CompanyName    HireDate  ... CustomerCharge PreSales  \\\n",
       "0          JBS         JBS  01/01/1991  ...            0.0      0.0   \n",
       "1          JBS         JBS  10/11/1993  ...            0.0      0.0   \n",
       "2          JBS         JBS  05/11/1992  ...            0.0      0.0   \n",
       "3          JBS         JBS  10/01/2014  ...            0.0      0.0   \n",
       "4          JBS         JBS  01/01/2013  ...            0.0      0.0   \n",
       "\n",
       "   Available  WorkingTime  Overtime  OnSite             TimeZone  Div Dept  \\\n",
       "0        0.0          0.0       0.0       0  Tokyo Standard Time  JBS  JBS   \n",
       "1        0.0          0.0       0.0       0  Tokyo Standard Time  JBS  JBS   \n",
       "2        0.0          0.0       0.0       0  Tokyo Standard Time  JBS  JBS   \n",
       "3        0.0          0.0       0.0       0  Tokyo Standard Time  JBS  JBS   \n",
       "4        0.0          0.0       0.0       0  Tokyo Standard Time  JBS  JBS   \n",
       "\n",
       "  FunctionType  \n",
       "0         スタッフ  \n",
       "1         スタッフ  \n",
       "2         スタッフ  \n",
       "3         スタッフ  \n",
       "4         スタッフ  \n",
       "\n",
       "[5 rows x 22 columns]"
      ]
     },
     "execution_count": 51,
     "metadata": {},
     "output_type": "execute_result"
    }
   ],
   "source": [
    "itsDF.head(5)"
   ]
  },
  {
   "cell_type": "markdown",
   "metadata": {},
   "source": [
    "### Evaluationカラムの追加"
   ]
  },
  {
   "cell_type": "code",
   "execution_count": 52,
   "metadata": {},
   "outputs": [],
   "source": [
    "itsDF['Evaluation'] = np.nan"
   ]
  },
  {
   "cell_type": "markdown",
   "metadata": {},
   "source": [
    "### GP2カラムの追加"
   ]
  },
  {
   "cell_type": "code",
   "execution_count": null,
   "metadata": {},
   "outputs": [],
   "source": [
    "itsDF['SalesPerformanceGP2'] = np.nan"
   ]
  },
  {
   "cell_type": "markdown",
   "metadata": {},
   "source": [
    "### 必要なカラムのみ選択"
   ]
  },
  {
   "cell_type": "code",
   "execution_count": 53,
   "metadata": {},
   "outputs": [
    {
     "ename": "KeyError",
     "evalue": "\"['SalesPerformanceGP2'] not in index\"",
     "output_type": "error",
     "traceback": [
      "\u001b[1;31m---------------------------------------------------------------------------\u001b[0m",
      "\u001b[1;31mKeyError\u001b[0m                                  Traceback (most recent call last)",
      "\u001b[1;32m<ipython-input-53-6ccf74de1057>\u001b[0m in \u001b[0;36m<module>\u001b[1;34m\u001b[0m\n\u001b[0;32m     17\u001b[0m                    \u001b[1;34m'LevelDesignation'\u001b[0m\u001b[1;33m,\u001b[0m\u001b[1;33m\u001b[0m\u001b[1;33m\u001b[0m\u001b[0m\n\u001b[0;32m     18\u001b[0m                    \u001b[1;34m'No'\u001b[0m\u001b[1;33m,\u001b[0m\u001b[1;33m\u001b[0m\u001b[1;33m\u001b[0m\u001b[0m\n\u001b[1;32m---> 19\u001b[1;33m                    'Evaluation']]\n\u001b[0m",
      "\u001b[1;32m~\\AppData\\Local\\Continuum\\Anaconda3\\lib\\site-packages\\pandas\\core\\frame.py\u001b[0m in \u001b[0;36m__getitem__\u001b[1;34m(self, key)\u001b[0m\n\u001b[0;32m   2932\u001b[0m                 \u001b[0mkey\u001b[0m \u001b[1;33m=\u001b[0m \u001b[0mlist\u001b[0m\u001b[1;33m(\u001b[0m\u001b[0mkey\u001b[0m\u001b[1;33m)\u001b[0m\u001b[1;33m\u001b[0m\u001b[1;33m\u001b[0m\u001b[0m\n\u001b[0;32m   2933\u001b[0m             indexer = self.loc._convert_to_indexer(key, axis=1,\n\u001b[1;32m-> 2934\u001b[1;33m                                                    raise_missing=True)\n\u001b[0m\u001b[0;32m   2935\u001b[0m \u001b[1;33m\u001b[0m\u001b[0m\n\u001b[0;32m   2936\u001b[0m         \u001b[1;31m# take() does not accept boolean indexers\u001b[0m\u001b[1;33m\u001b[0m\u001b[1;33m\u001b[0m\u001b[1;33m\u001b[0m\u001b[0m\n",
      "\u001b[1;32m~\\AppData\\Local\\Continuum\\Anaconda3\\lib\\site-packages\\pandas\\core\\indexing.py\u001b[0m in \u001b[0;36m_convert_to_indexer\u001b[1;34m(self, obj, axis, is_setter, raise_missing)\u001b[0m\n\u001b[0;32m   1352\u001b[0m                 kwargs = {'raise_missing': True if is_setter else\n\u001b[0;32m   1353\u001b[0m                           raise_missing}\n\u001b[1;32m-> 1354\u001b[1;33m                 \u001b[1;32mreturn\u001b[0m \u001b[0mself\u001b[0m\u001b[1;33m.\u001b[0m\u001b[0m_get_listlike_indexer\u001b[0m\u001b[1;33m(\u001b[0m\u001b[0mobj\u001b[0m\u001b[1;33m,\u001b[0m \u001b[0maxis\u001b[0m\u001b[1;33m,\u001b[0m \u001b[1;33m**\u001b[0m\u001b[0mkwargs\u001b[0m\u001b[1;33m)\u001b[0m\u001b[1;33m[\u001b[0m\u001b[1;36m1\u001b[0m\u001b[1;33m]\u001b[0m\u001b[1;33m\u001b[0m\u001b[1;33m\u001b[0m\u001b[0m\n\u001b[0m\u001b[0;32m   1355\u001b[0m         \u001b[1;32melse\u001b[0m\u001b[1;33m:\u001b[0m\u001b[1;33m\u001b[0m\u001b[1;33m\u001b[0m\u001b[0m\n\u001b[0;32m   1356\u001b[0m             \u001b[1;32mtry\u001b[0m\u001b[1;33m:\u001b[0m\u001b[1;33m\u001b[0m\u001b[1;33m\u001b[0m\u001b[0m\n",
      "\u001b[1;32m~\\AppData\\Local\\Continuum\\Anaconda3\\lib\\site-packages\\pandas\\core\\indexing.py\u001b[0m in \u001b[0;36m_get_listlike_indexer\u001b[1;34m(self, key, axis, raise_missing)\u001b[0m\n\u001b[0;32m   1159\u001b[0m         self._validate_read_indexer(keyarr, indexer,\n\u001b[0;32m   1160\u001b[0m                                     \u001b[0mo\u001b[0m\u001b[1;33m.\u001b[0m\u001b[0m_get_axis_number\u001b[0m\u001b[1;33m(\u001b[0m\u001b[0maxis\u001b[0m\u001b[1;33m)\u001b[0m\u001b[1;33m,\u001b[0m\u001b[1;33m\u001b[0m\u001b[1;33m\u001b[0m\u001b[0m\n\u001b[1;32m-> 1161\u001b[1;33m                                     raise_missing=raise_missing)\n\u001b[0m\u001b[0;32m   1162\u001b[0m         \u001b[1;32mreturn\u001b[0m \u001b[0mkeyarr\u001b[0m\u001b[1;33m,\u001b[0m \u001b[0mindexer\u001b[0m\u001b[1;33m\u001b[0m\u001b[1;33m\u001b[0m\u001b[0m\n\u001b[0;32m   1163\u001b[0m \u001b[1;33m\u001b[0m\u001b[0m\n",
      "\u001b[1;32m~\\AppData\\Local\\Continuum\\Anaconda3\\lib\\site-packages\\pandas\\core\\indexing.py\u001b[0m in \u001b[0;36m_validate_read_indexer\u001b[1;34m(self, key, indexer, axis, raise_missing)\u001b[0m\n\u001b[0;32m   1250\u001b[0m             \u001b[1;32mif\u001b[0m \u001b[1;32mnot\u001b[0m\u001b[1;33m(\u001b[0m\u001b[0mself\u001b[0m\u001b[1;33m.\u001b[0m\u001b[0mname\u001b[0m \u001b[1;33m==\u001b[0m \u001b[1;34m'loc'\u001b[0m \u001b[1;32mand\u001b[0m \u001b[1;32mnot\u001b[0m \u001b[0mraise_missing\u001b[0m\u001b[1;33m)\u001b[0m\u001b[1;33m:\u001b[0m\u001b[1;33m\u001b[0m\u001b[1;33m\u001b[0m\u001b[0m\n\u001b[0;32m   1251\u001b[0m                 \u001b[0mnot_found\u001b[0m \u001b[1;33m=\u001b[0m \u001b[0mlist\u001b[0m\u001b[1;33m(\u001b[0m\u001b[0mset\u001b[0m\u001b[1;33m(\u001b[0m\u001b[0mkey\u001b[0m\u001b[1;33m)\u001b[0m \u001b[1;33m-\u001b[0m \u001b[0mset\u001b[0m\u001b[1;33m(\u001b[0m\u001b[0max\u001b[0m\u001b[1;33m)\u001b[0m\u001b[1;33m)\u001b[0m\u001b[1;33m\u001b[0m\u001b[1;33m\u001b[0m\u001b[0m\n\u001b[1;32m-> 1252\u001b[1;33m                 \u001b[1;32mraise\u001b[0m \u001b[0mKeyError\u001b[0m\u001b[1;33m(\u001b[0m\u001b[1;34m\"{} not in index\"\u001b[0m\u001b[1;33m.\u001b[0m\u001b[0mformat\u001b[0m\u001b[1;33m(\u001b[0m\u001b[0mnot_found\u001b[0m\u001b[1;33m)\u001b[0m\u001b[1;33m)\u001b[0m\u001b[1;33m\u001b[0m\u001b[1;33m\u001b[0m\u001b[0m\n\u001b[0m\u001b[0;32m   1253\u001b[0m \u001b[1;33m\u001b[0m\u001b[0m\n\u001b[0;32m   1254\u001b[0m             \u001b[1;31m# we skip the warning on Categorical/Interval\u001b[0m\u001b[1;33m\u001b[0m\u001b[1;33m\u001b[0m\u001b[1;33m\u001b[0m\u001b[0m\n",
      "\u001b[1;31mKeyError\u001b[0m: \"['SalesPerformanceGP2'] not in index\""
     ]
    }
   ],
   "source": [
    "resultDF = itsDF[['PersonId', \n",
    "                   'EffectiveDate', \n",
    "                   'ManagerId', \n",
    "                   'Organization',\n",
    "                   'FunctionType',\n",
    "                   'TimeZone', \n",
    "                   'HireDate', \n",
    "                   'Dept', 'Div',\n",
    "                   'EntryType',\n",
    "                   'Employmenttype',\n",
    "                   'SalesPerformanceGP2',\n",
    "                   'CustomerCharge',\n",
    "                   'PreSales',\n",
    "                   'Available',\n",
    "                   'Overtime',\n",
    "                   'OnSite', \n",
    "                   'LevelDesignation',\n",
    "                   'No',\n",
    "                   'Evaluation']]"
   ]
  },
  {
   "cell_type": "code",
   "execution_count": null,
   "metadata": {},
   "outputs": [],
   "source": [
    "resultDF.head(3)"
   ]
  },
  {
   "cell_type": "code",
   "execution_count": null,
   "metadata": {},
   "outputs": [],
   "source": [
    "resultDF.to_csv(FILENAME, index=False, encoding='utf-8')"
   ]
  },
  {
   "cell_type": "code",
   "execution_count": null,
   "metadata": {},
   "outputs": [],
   "source": [
    "resultDF.count()"
   ]
  },
  {
   "cell_type": "code",
   "execution_count": null,
   "metadata": {},
   "outputs": [],
   "source": []
  },
  {
   "cell_type": "code",
   "execution_count": null,
   "metadata": {},
   "outputs": [],
   "source": []
  }
 ],
 "metadata": {
  "kernelspec": {
   "display_name": "Python 3.5",
   "language": "python",
   "name": "python3"
  },
  "language_info": {
   "codemirror_mode": {
    "name": "ipython",
    "version": 3
   },
   "file_extension": ".py",
   "mimetype": "text/x-python",
   "name": "python",
   "nbconvert_exporter": "python",
   "pygments_lexer": "ipython3",
   "version": "3.5.5"
  }
 },
 "nbformat": 4,
 "nbformat_minor": 2
}
