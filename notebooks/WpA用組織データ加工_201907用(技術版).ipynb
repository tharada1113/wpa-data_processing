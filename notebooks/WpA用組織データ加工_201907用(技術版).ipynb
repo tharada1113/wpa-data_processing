{
 "cells": [
  {
   "cell_type": "code",
   "execution_count": 1,
   "metadata": {},
   "outputs": [],
   "source": [
    "import pandas as pd"
   ]
  },
  {
   "cell_type": "code",
   "execution_count": 2,
   "metadata": {},
   "outputs": [],
   "source": [
    "OUTPUT_FILENAME = 'Orgdata_20200109_ef20190701.csv'"
   ]
  },
  {
   "cell_type": "code",
   "execution_count": 3,
   "metadata": {},
   "outputs": [],
   "source": [
    "itsDF = pd.read_csv(\"../data/WpaData_ef20190701.csv\")"
   ]
  },
  {
   "cell_type": "markdown",
   "metadata": {},
   "source": [
    "# データ数確認"
   ]
  },
  {
   "cell_type": "code",
   "execution_count": 4,
   "metadata": {
    "scrolled": true
   },
   "outputs": [
    {
     "data": {
      "text/plain": [
       "EmployeeNo          2994\n",
       "EmployeeName        2994\n",
       "AdAccount1          2992\n",
       "PersonId            2987\n",
       "EffectiveDate       2994\n",
       "ManagerId           2980\n",
       "LevelDesignation    2994\n",
       "Organization        2994\n",
       "CompanyName         2994\n",
       "HireDate            2994\n",
       "EntryType           2994\n",
       "EmploymentType      2994\n",
       "CustomerCharge      2994\n",
       "PreSales            2994\n",
       "Available           2994\n",
       "WorkingTime         2994\n",
       "OverTime            2994\n",
       "OnSite              2994\n",
       "dtype: int64"
      ]
     },
     "execution_count": 4,
     "metadata": {},
     "output_type": "execute_result"
    }
   ],
   "source": [
    "itsDF.count()"
   ]
  },
  {
   "cell_type": "markdown",
   "metadata": {},
   "source": [
    "# 欠損値の処理"
   ]
  },
  {
   "cell_type": "markdown",
   "metadata": {},
   "source": [
    "### PersonIdがnullは削除する"
   ]
  },
  {
   "cell_type": "markdown",
   "metadata": {},
   "source": [
    "#### PersonIdのnullを確認"
   ]
  },
  {
   "cell_type": "code",
   "execution_count": 5,
   "metadata": {},
   "outputs": [
    {
     "data": {
      "text/plain": [
       "EmployeeNo          7\n",
       "EmployeeName        7\n",
       "AdAccount1          6\n",
       "PersonId            0\n",
       "EffectiveDate       7\n",
       "ManagerId           7\n",
       "LevelDesignation    7\n",
       "Organization        7\n",
       "CompanyName         7\n",
       "HireDate            7\n",
       "EntryType           7\n",
       "EmploymentType      7\n",
       "CustomerCharge      7\n",
       "PreSales            7\n",
       "Available           7\n",
       "WorkingTime         7\n",
       "OverTime            7\n",
       "OnSite              7\n",
       "dtype: int64"
      ]
     },
     "execution_count": 5,
     "metadata": {},
     "output_type": "execute_result"
    }
   ],
   "source": [
    "itsDF[itsDF['PersonId'].isnull()].count()"
   ]
  },
  {
   "cell_type": "markdown",
   "metadata": {},
   "source": [
    "#### PersonIdがnullの行を削除"
   ]
  },
  {
   "cell_type": "code",
   "execution_count": 6,
   "metadata": {},
   "outputs": [],
   "source": [
    "itsDF.dropna(subset=['PersonId'], inplace=True)"
   ]
  },
  {
   "cell_type": "markdown",
   "metadata": {},
   "source": [
    "#### PersonIdのnullが削除されたかを確認"
   ]
  },
  {
   "cell_type": "code",
   "execution_count": 7,
   "metadata": {},
   "outputs": [
    {
     "data": {
      "text/plain": [
       "EmployeeNo          0\n",
       "EmployeeName        0\n",
       "AdAccount1          0\n",
       "PersonId            0\n",
       "EffectiveDate       0\n",
       "ManagerId           0\n",
       "LevelDesignation    0\n",
       "Organization        0\n",
       "CompanyName         0\n",
       "HireDate            0\n",
       "EntryType           0\n",
       "EmploymentType      0\n",
       "CustomerCharge      0\n",
       "PreSales            0\n",
       "Available           0\n",
       "WorkingTime         0\n",
       "OverTime            0\n",
       "OnSite              0\n",
       "dtype: int64"
      ]
     },
     "execution_count": 7,
     "metadata": {},
     "output_type": "execute_result"
    }
   ],
   "source": [
    "itsDF[itsDF['PersonId'].isnull()].count()"
   ]
  },
  {
   "cell_type": "markdown",
   "metadata": {},
   "source": [
    "### 全カラムのnullを最終確認する\n",
    "#### ※AdAccount1とManagerIdのnullは無視"
   ]
  },
  {
   "cell_type": "code",
   "execution_count": 8,
   "metadata": {},
   "outputs": [
    {
     "data": {
      "text/plain": [
       "EmployeeNo           0\n",
       "EmployeeName         0\n",
       "AdAccount1           1\n",
       "PersonId             0\n",
       "EffectiveDate        0\n",
       "ManagerId           14\n",
       "LevelDesignation     0\n",
       "Organization         0\n",
       "CompanyName          0\n",
       "HireDate             0\n",
       "EntryType            0\n",
       "EmploymentType       0\n",
       "CustomerCharge       0\n",
       "PreSales             0\n",
       "Available            0\n",
       "WorkingTime          0\n",
       "OverTime             0\n",
       "OnSite               0\n",
       "dtype: int64"
      ]
     },
     "execution_count": 8,
     "metadata": {},
     "output_type": "execute_result"
    }
   ],
   "source": [
    "itsDF.isnull().sum()"
   ]
  },
  {
   "cell_type": "markdown",
   "metadata": {},
   "source": [
    "#### AdAccount1のNullを確認"
   ]
  },
  {
   "cell_type": "code",
   "execution_count": 9,
   "metadata": {},
   "outputs": [
    {
     "data": {
      "text/html": [
       "<div>\n",
       "<style scoped>\n",
       "    .dataframe tbody tr th:only-of-type {\n",
       "        vertical-align: middle;\n",
       "    }\n",
       "\n",
       "    .dataframe tbody tr th {\n",
       "        vertical-align: top;\n",
       "    }\n",
       "\n",
       "    .dataframe thead th {\n",
       "        text-align: right;\n",
       "    }\n",
       "</style>\n",
       "<table border=\"1\" class=\"dataframe\">\n",
       "  <thead>\n",
       "    <tr style=\"text-align: right;\">\n",
       "      <th></th>\n",
       "      <th>EmployeeNo</th>\n",
       "      <th>EmployeeName</th>\n",
       "      <th>AdAccount1</th>\n",
       "      <th>PersonId</th>\n",
       "      <th>EffectiveDate</th>\n",
       "      <th>ManagerId</th>\n",
       "      <th>LevelDesignation</th>\n",
       "      <th>Organization</th>\n",
       "      <th>CompanyName</th>\n",
       "      <th>HireDate</th>\n",
       "      <th>EntryType</th>\n",
       "      <th>EmploymentType</th>\n",
       "      <th>CustomerCharge</th>\n",
       "      <th>PreSales</th>\n",
       "      <th>Available</th>\n",
       "      <th>WorkingTime</th>\n",
       "      <th>OverTime</th>\n",
       "      <th>OnSite</th>\n",
       "    </tr>\n",
       "  </thead>\n",
       "  <tbody>\n",
       "    <tr>\n",
       "      <th>2988</th>\n",
       "      <td>95002</td>\n",
       "      <td>Karen Maya</td>\n",
       "      <td>NaN</td>\n",
       "      <td>karen.maya@jbs.com</td>\n",
       "      <td>07/01/2019</td>\n",
       "      <td>nobuyuki.jo@jbs.com</td>\n",
       "      <td>なし</td>\n",
       "      <td>JBSメキシコ</td>\n",
       "      <td>JBSメキシコ</td>\n",
       "      <td>09/01/2015</td>\n",
       "      <td>中途</td>\n",
       "      <td>正社員</td>\n",
       "      <td>0.0</td>\n",
       "      <td>0.0</td>\n",
       "      <td>0.0</td>\n",
       "      <td>0.0</td>\n",
       "      <td>0.0</td>\n",
       "      <td>0</td>\n",
       "    </tr>\n",
       "  </tbody>\n",
       "</table>\n",
       "</div>"
      ],
      "text/plain": [
       "      EmployeeNo EmployeeName AdAccount1            PersonId EffectiveDate  \\\n",
       "2988       95002   Karen Maya        NaN  karen.maya@jbs.com    07/01/2019   \n",
       "\n",
       "                ManagerId LevelDesignation Organization CompanyName  \\\n",
       "2988  nobuyuki.jo@jbs.com               なし      JBSメキシコ     JBSメキシコ   \n",
       "\n",
       "        HireDate EntryType EmploymentType  CustomerCharge  PreSales  \\\n",
       "2988  09/01/2015        中途            正社員             0.0       0.0   \n",
       "\n",
       "      Available  WorkingTime  OverTime  OnSite  \n",
       "2988        0.0          0.0       0.0       0  "
      ]
     },
     "execution_count": 9,
     "metadata": {},
     "output_type": "execute_result"
    }
   ],
   "source": [
    "# 使用していないカラムなので確認だけ行い処理はしない\n",
    "itsDF[itsDF['AdAccount1'].isnull()]"
   ]
  },
  {
   "cell_type": "markdown",
   "metadata": {},
   "source": [
    "# 重複の処理"
   ]
  },
  {
   "cell_type": "markdown",
   "metadata": {},
   "source": [
    "### 完全に重複している行は削除する"
   ]
  },
  {
   "cell_type": "markdown",
   "metadata": {},
   "source": [
    "#### 完全重複行の確認"
   ]
  },
  {
   "cell_type": "code",
   "execution_count": 10,
   "metadata": {},
   "outputs": [
    {
     "data": {
      "text/html": [
       "<div>\n",
       "<style scoped>\n",
       "    .dataframe tbody tr th:only-of-type {\n",
       "        vertical-align: middle;\n",
       "    }\n",
       "\n",
       "    .dataframe tbody tr th {\n",
       "        vertical-align: top;\n",
       "    }\n",
       "\n",
       "    .dataframe thead th {\n",
       "        text-align: right;\n",
       "    }\n",
       "</style>\n",
       "<table border=\"1\" class=\"dataframe\">\n",
       "  <thead>\n",
       "    <tr style=\"text-align: right;\">\n",
       "      <th></th>\n",
       "      <th>EmployeeNo</th>\n",
       "      <th>EmployeeName</th>\n",
       "      <th>AdAccount1</th>\n",
       "      <th>PersonId</th>\n",
       "      <th>EffectiveDate</th>\n",
       "      <th>ManagerId</th>\n",
       "      <th>LevelDesignation</th>\n",
       "      <th>Organization</th>\n",
       "      <th>CompanyName</th>\n",
       "      <th>HireDate</th>\n",
       "      <th>EntryType</th>\n",
       "      <th>EmploymentType</th>\n",
       "      <th>CustomerCharge</th>\n",
       "      <th>PreSales</th>\n",
       "      <th>Available</th>\n",
       "      <th>WorkingTime</th>\n",
       "      <th>OverTime</th>\n",
       "      <th>OnSite</th>\n",
       "    </tr>\n",
       "  </thead>\n",
       "  <tbody>\n",
       "  </tbody>\n",
       "</table>\n",
       "</div>"
      ],
      "text/plain": [
       "Empty DataFrame\n",
       "Columns: [EmployeeNo, EmployeeName, AdAccount1, PersonId, EffectiveDate, ManagerId, LevelDesignation, Organization, CompanyName, HireDate, EntryType, EmploymentType, CustomerCharge, PreSales, Available, WorkingTime, OverTime, OnSite]\n",
       "Index: []"
      ]
     },
     "execution_count": 10,
     "metadata": {},
     "output_type": "execute_result"
    }
   ],
   "source": [
    "itsDF[itsDF.duplicated()]"
   ]
  },
  {
   "cell_type": "markdown",
   "metadata": {},
   "source": [
    "#### 完全重複行の削除"
   ]
  },
  {
   "cell_type": "code",
   "execution_count": 11,
   "metadata": {},
   "outputs": [],
   "source": [
    "itsDF = itsDF.drop_duplicates()"
   ]
  },
  {
   "cell_type": "markdown",
   "metadata": {},
   "source": [
    "#### 完全重複行の確認"
   ]
  },
  {
   "cell_type": "code",
   "execution_count": 12,
   "metadata": {},
   "outputs": [
    {
     "data": {
      "text/html": [
       "<div>\n",
       "<style scoped>\n",
       "    .dataframe tbody tr th:only-of-type {\n",
       "        vertical-align: middle;\n",
       "    }\n",
       "\n",
       "    .dataframe tbody tr th {\n",
       "        vertical-align: top;\n",
       "    }\n",
       "\n",
       "    .dataframe thead th {\n",
       "        text-align: right;\n",
       "    }\n",
       "</style>\n",
       "<table border=\"1\" class=\"dataframe\">\n",
       "  <thead>\n",
       "    <tr style=\"text-align: right;\">\n",
       "      <th></th>\n",
       "      <th>EmployeeNo</th>\n",
       "      <th>EmployeeName</th>\n",
       "      <th>AdAccount1</th>\n",
       "      <th>PersonId</th>\n",
       "      <th>EffectiveDate</th>\n",
       "      <th>ManagerId</th>\n",
       "      <th>LevelDesignation</th>\n",
       "      <th>Organization</th>\n",
       "      <th>CompanyName</th>\n",
       "      <th>HireDate</th>\n",
       "      <th>EntryType</th>\n",
       "      <th>EmploymentType</th>\n",
       "      <th>CustomerCharge</th>\n",
       "      <th>PreSales</th>\n",
       "      <th>Available</th>\n",
       "      <th>WorkingTime</th>\n",
       "      <th>OverTime</th>\n",
       "      <th>OnSite</th>\n",
       "    </tr>\n",
       "  </thead>\n",
       "  <tbody>\n",
       "  </tbody>\n",
       "</table>\n",
       "</div>"
      ],
      "text/plain": [
       "Empty DataFrame\n",
       "Columns: [EmployeeNo, EmployeeName, AdAccount1, PersonId, EffectiveDate, ManagerId, LevelDesignation, Organization, CompanyName, HireDate, EntryType, EmploymentType, CustomerCharge, PreSales, Available, WorkingTime, OverTime, OnSite]\n",
       "Index: []"
      ]
     },
     "execution_count": 12,
     "metadata": {},
     "output_type": "execute_result"
    }
   ],
   "source": [
    "itsDF[itsDF.duplicated()]"
   ]
  },
  {
   "cell_type": "markdown",
   "metadata": {},
   "source": [
    "### 正社員と出向で重複しているケースは出向を残す"
   ]
  },
  {
   "cell_type": "markdown",
   "metadata": {},
   "source": [
    "#### 登録されている社員数の確認"
   ]
  },
  {
   "cell_type": "code",
   "execution_count": 13,
   "metadata": {},
   "outputs": [
    {
     "data": {
      "text/plain": [
       "2987"
      ]
     },
     "execution_count": 13,
     "metadata": {},
     "output_type": "execute_result"
    }
   ],
   "source": [
    "itsDF['EmployeeNo'].count()"
   ]
  },
  {
   "cell_type": "markdown",
   "metadata": {},
   "source": [
    "#### 社員番号が重複している人を確認する"
   ]
  },
  {
   "cell_type": "code",
   "execution_count": 14,
   "metadata": {},
   "outputs": [
    {
     "data": {
      "text/html": [
       "<div>\n",
       "<style scoped>\n",
       "    .dataframe tbody tr th:only-of-type {\n",
       "        vertical-align: middle;\n",
       "    }\n",
       "\n",
       "    .dataframe tbody tr th {\n",
       "        vertical-align: top;\n",
       "    }\n",
       "\n",
       "    .dataframe thead th {\n",
       "        text-align: right;\n",
       "    }\n",
       "</style>\n",
       "<table border=\"1\" class=\"dataframe\">\n",
       "  <thead>\n",
       "    <tr style=\"text-align: right;\">\n",
       "      <th></th>\n",
       "      <th>EmployeeNo</th>\n",
       "      <th>EmployeeName</th>\n",
       "      <th>AdAccount1</th>\n",
       "      <th>PersonId</th>\n",
       "      <th>EffectiveDate</th>\n",
       "      <th>ManagerId</th>\n",
       "      <th>LevelDesignation</th>\n",
       "      <th>Organization</th>\n",
       "      <th>CompanyName</th>\n",
       "      <th>HireDate</th>\n",
       "      <th>EntryType</th>\n",
       "      <th>EmploymentType</th>\n",
       "      <th>CustomerCharge</th>\n",
       "      <th>PreSales</th>\n",
       "      <th>Available</th>\n",
       "      <th>WorkingTime</th>\n",
       "      <th>OverTime</th>\n",
       "      <th>OnSite</th>\n",
       "    </tr>\n",
       "  </thead>\n",
       "  <tbody>\n",
       "    <tr>\n",
       "      <th>2921</th>\n",
       "      <td>3959</td>\n",
       "      <td>城 信行</td>\n",
       "      <td>njo</td>\n",
       "      <td>nobuyuki.jo@jbs.com</td>\n",
       "      <td>07/01/2019</td>\n",
       "      <td>NaN</td>\n",
       "      <td>社長</td>\n",
       "      <td>JBS USA</td>\n",
       "      <td>JBS USA</td>\n",
       "      <td>08/01/2018</td>\n",
       "      <td>中途</td>\n",
       "      <td>出向者</td>\n",
       "      <td>0.0</td>\n",
       "      <td>0.0</td>\n",
       "      <td>0.0</td>\n",
       "      <td>0.0</td>\n",
       "      <td>0.0</td>\n",
       "      <td>0</td>\n",
       "    </tr>\n",
       "    <tr>\n",
       "      <th>2986</th>\n",
       "      <td>3959</td>\n",
       "      <td>城 信行</td>\n",
       "      <td>njo</td>\n",
       "      <td>nobuyuki.jo@jbs.com</td>\n",
       "      <td>07/01/2019</td>\n",
       "      <td>makita@jbs.com</td>\n",
       "      <td>Presidente / Director General</td>\n",
       "      <td>JBSメキシコ</td>\n",
       "      <td>JBSメキシコ</td>\n",
       "      <td>08/01/2018</td>\n",
       "      <td>中途</td>\n",
       "      <td>出向者</td>\n",
       "      <td>0.0</td>\n",
       "      <td>0.0</td>\n",
       "      <td>0.0</td>\n",
       "      <td>0.0</td>\n",
       "      <td>0.0</td>\n",
       "      <td>0</td>\n",
       "    </tr>\n",
       "    <tr>\n",
       "      <th>2931</th>\n",
       "      <td>90045</td>\n",
       "      <td>岡田 一郎</td>\n",
       "      <td>iokada</td>\n",
       "      <td>ichiro.okada@jbs.com</td>\n",
       "      <td>07/01/2019</td>\n",
       "      <td>isamu.kakitani@jbs.com</td>\n",
       "      <td>なし</td>\n",
       "      <td>Delivery Division ソリューション部 ERP</td>\n",
       "      <td>JBS USA</td>\n",
       "      <td>10/12/2015</td>\n",
       "      <td>中途</td>\n",
       "      <td>正社員</td>\n",
       "      <td>0.0</td>\n",
       "      <td>0.0</td>\n",
       "      <td>0.0</td>\n",
       "      <td>0.0</td>\n",
       "      <td>0.0</td>\n",
       "      <td>0</td>\n",
       "    </tr>\n",
       "    <tr>\n",
       "      <th>2987</th>\n",
       "      <td>90045</td>\n",
       "      <td>岡田 一郎</td>\n",
       "      <td>iokada</td>\n",
       "      <td>ichiro.okada@jbs.com</td>\n",
       "      <td>07/01/2019</td>\n",
       "      <td>nobuyuki.jo@jbs.com</td>\n",
       "      <td>なし</td>\n",
       "      <td>JBSメキシコ</td>\n",
       "      <td>JBSメキシコ</td>\n",
       "      <td>10/12/2015</td>\n",
       "      <td>中途</td>\n",
       "      <td>正社員</td>\n",
       "      <td>0.0</td>\n",
       "      <td>0.0</td>\n",
       "      <td>0.0</td>\n",
       "      <td>0.0</td>\n",
       "      <td>0.0</td>\n",
       "      <td>0</td>\n",
       "    </tr>\n",
       "  </tbody>\n",
       "</table>\n",
       "</div>"
      ],
      "text/plain": [
       "      EmployeeNo EmployeeName AdAccount1              PersonId EffectiveDate  \\\n",
       "2921        3959         城 信行        njo   nobuyuki.jo@jbs.com    07/01/2019   \n",
       "2986        3959         城 信行        njo   nobuyuki.jo@jbs.com    07/01/2019   \n",
       "2931       90045        岡田 一郎     iokada  ichiro.okada@jbs.com    07/01/2019   \n",
       "2987       90045        岡田 一郎     iokada  ichiro.okada@jbs.com    07/01/2019   \n",
       "\n",
       "                   ManagerId               LevelDesignation  \\\n",
       "2921                     NaN                             社長   \n",
       "2986          makita@jbs.com  Presidente / Director General   \n",
       "2931  isamu.kakitani@jbs.com                             なし   \n",
       "2987     nobuyuki.jo@jbs.com                             なし   \n",
       "\n",
       "                        Organization CompanyName    HireDate EntryType  \\\n",
       "2921                         JBS USA     JBS USA  08/01/2018        中途   \n",
       "2986                         JBSメキシコ     JBSメキシコ  08/01/2018        中途   \n",
       "2931  Delivery Division ソリューション部 ERP     JBS USA  10/12/2015        中途   \n",
       "2987                         JBSメキシコ     JBSメキシコ  10/12/2015        中途   \n",
       "\n",
       "     EmploymentType  CustomerCharge  PreSales  Available  WorkingTime  \\\n",
       "2921            出向者             0.0       0.0        0.0          0.0   \n",
       "2986            出向者             0.0       0.0        0.0          0.0   \n",
       "2931            正社員             0.0       0.0        0.0          0.0   \n",
       "2987            正社員             0.0       0.0        0.0          0.0   \n",
       "\n",
       "      OverTime  OnSite  \n",
       "2921       0.0       0  \n",
       "2986       0.0       0  \n",
       "2931       0.0       0  \n",
       "2987       0.0       0  "
      ]
     },
     "execution_count": 14,
     "metadata": {},
     "output_type": "execute_result"
    }
   ],
   "source": [
    "itsDF[itsDF.duplicated(subset='EmployeeNo', keep=False)].sort_values(by='EmployeeNo')"
   ]
  },
  {
   "cell_type": "markdown",
   "metadata": {},
   "source": [
    "#### EmploymentTypeが'出向者'と'正社員'で重複している場合\n",
    "#### ひとまず重複データを別のデータフレームに格納"
   ]
  },
  {
   "cell_type": "code",
   "execution_count": 15,
   "metadata": {},
   "outputs": [],
   "source": [
    "dupdataDF = itsDF[itsDF.duplicated(subset='EmployeeNo', keep=False)].sort_values(by='EmployeeNo')"
   ]
  },
  {
   "cell_type": "code",
   "execution_count": 16,
   "metadata": {},
   "outputs": [],
   "source": [
    "select_type_for_dupdataDF = dupdataDF[dupdataDF['EmploymentType'] == '出向者']"
   ]
  },
  {
   "cell_type": "markdown",
   "metadata": {},
   "source": [
    "#### 上記以外の理由で重複している場合\n",
    "#### データ削除"
   ]
  },
  {
   "cell_type": "code",
   "execution_count": 17,
   "metadata": {},
   "outputs": [],
   "source": [
    "# メキシコ行を削除(重複人数分)\n",
    "# indexを指定する\n",
    "itsDF = itsDF.drop(2986)\n",
    "itsDF = itsDF.drop(2987)"
   ]
  },
  {
   "cell_type": "markdown",
   "metadata": {},
   "source": [
    "#### 社員番号が重複している人がいない事を確認する"
   ]
  },
  {
   "cell_type": "code",
   "execution_count": 18,
   "metadata": {},
   "outputs": [
    {
     "data": {
      "text/html": [
       "<div>\n",
       "<style scoped>\n",
       "    .dataframe tbody tr th:only-of-type {\n",
       "        vertical-align: middle;\n",
       "    }\n",
       "\n",
       "    .dataframe tbody tr th {\n",
       "        vertical-align: top;\n",
       "    }\n",
       "\n",
       "    .dataframe thead th {\n",
       "        text-align: right;\n",
       "    }\n",
       "</style>\n",
       "<table border=\"1\" class=\"dataframe\">\n",
       "  <thead>\n",
       "    <tr style=\"text-align: right;\">\n",
       "      <th></th>\n",
       "      <th>EmployeeNo</th>\n",
       "      <th>EmployeeName</th>\n",
       "      <th>AdAccount1</th>\n",
       "      <th>PersonId</th>\n",
       "      <th>EffectiveDate</th>\n",
       "      <th>ManagerId</th>\n",
       "      <th>LevelDesignation</th>\n",
       "      <th>Organization</th>\n",
       "      <th>CompanyName</th>\n",
       "      <th>HireDate</th>\n",
       "      <th>EntryType</th>\n",
       "      <th>EmploymentType</th>\n",
       "      <th>CustomerCharge</th>\n",
       "      <th>PreSales</th>\n",
       "      <th>Available</th>\n",
       "      <th>WorkingTime</th>\n",
       "      <th>OverTime</th>\n",
       "      <th>OnSite</th>\n",
       "    </tr>\n",
       "  </thead>\n",
       "  <tbody>\n",
       "  </tbody>\n",
       "</table>\n",
       "</div>"
      ],
      "text/plain": [
       "Empty DataFrame\n",
       "Columns: [EmployeeNo, EmployeeName, AdAccount1, PersonId, EffectiveDate, ManagerId, LevelDesignation, Organization, CompanyName, HireDate, EntryType, EmploymentType, CustomerCharge, PreSales, Available, WorkingTime, OverTime, OnSite]\n",
       "Index: []"
      ]
     },
     "execution_count": 18,
     "metadata": {},
     "output_type": "execute_result"
    }
   ],
   "source": [
    "itsDF[itsDF.duplicated(subset='EmployeeNo', keep=False)].sort_values(by='EmployeeNo')"
   ]
  },
  {
   "cell_type": "markdown",
   "metadata": {},
   "source": [
    "#### 重複処理後の登録されている社員数の確認"
   ]
  },
  {
   "cell_type": "code",
   "execution_count": 19,
   "metadata": {},
   "outputs": [
    {
     "data": {
      "text/plain": [
       "2985"
      ]
     },
     "execution_count": 19,
     "metadata": {},
     "output_type": "execute_result"
    }
   ],
   "source": [
    "itsDF['EmployeeNo'].count()"
   ]
  },
  {
   "cell_type": "markdown",
   "metadata": {},
   "source": [
    "# EmployeeNoをハッシュ化"
   ]
  },
  {
   "cell_type": "code",
   "execution_count": 20,
   "metadata": {},
   "outputs": [],
   "source": [
    "import hashlib"
   ]
  },
  {
   "cell_type": "markdown",
   "metadata": {},
   "source": [
    "### ハッシュ化用関数定義"
   ]
  },
  {
   "cell_type": "code",
   "execution_count": 21,
   "metadata": {},
   "outputs": [],
   "source": [
    "def to_hash(data):\n",
    "    salt = 'JBS'\n",
    "    add_salt_data = salt + str(data)\n",
    "    return hashlib.sha256(add_salt_data.encode('UTF-8')).hexdigest()"
   ]
  },
  {
   "cell_type": "markdown",
   "metadata": {},
   "source": [
    "#### EmployeeNoにハッシュ化関数を適用して値を入れ替える"
   ]
  },
  {
   "cell_type": "code",
   "execution_count": 22,
   "metadata": {},
   "outputs": [],
   "source": [
    "itsDF['hashedEmployeeNo'] = itsDF['EmployeeNo'].map(to_hash)"
   ]
  },
  {
   "cell_type": "markdown",
   "metadata": {},
   "source": [
    "# TimeZoneを設定"
   ]
  },
  {
   "cell_type": "markdown",
   "metadata": {},
   "source": [
    "#### CompanyNameの値からTimeZoneカラムを作成する"
   ]
  },
  {
   "cell_type": "code",
   "execution_count": 23,
   "metadata": {},
   "outputs": [
    {
     "data": {
      "text/plain": [
       "array(['JBS', 'JBS USA', 'JBSシンガポール', 'JBS上海', 'JBSメキシコ'], dtype=object)"
      ]
     },
     "execution_count": 23,
     "metadata": {},
     "output_type": "execute_result"
    }
   ],
   "source": [
    "itsDF['CompanyName'].unique()"
   ]
  },
  {
   "cell_type": "markdown",
   "metadata": {},
   "source": [
    "TimeZone  \n",
    "- JBS: 東京標準時[Central Standard Time (Mexico)]  \n",
    "- JBS USA: 太平洋標準時[Pacific Standard Time]  \n",
    "- JBSシンガポール: シンガポール標準時[Singapore Standard Time]  \n",
    "- JBS上海: 中国標準時[China Standard Time]\n",
    "- JBSメキシコ: 中部標準時 (メキシコ)[Central Standard Time (Mexico)]\n",
    "- JBST: ※2019/?まで存在"
   ]
  },
  {
   "cell_type": "code",
   "execution_count": 24,
   "metadata": {},
   "outputs": [],
   "source": [
    "import numpy as np\n",
    "itsDF['TimeZone'] = np.NAN"
   ]
  },
  {
   "cell_type": "code",
   "execution_count": 25,
   "metadata": {},
   "outputs": [],
   "source": [
    "itsDF.loc[itsDF['CompanyName'] == 'JBS', 'TimeZone'] = 'Tokyo Standard Time'\n",
    "itsDF.loc[itsDF['CompanyName'] == 'JBS USA', 'TimeZone'] = 'Pacific Standard Time'\n",
    "itsDF.loc[itsDF['CompanyName'] == 'JBSシンガポール', 'TimeZone'] = 'Singapore Standard Time'\n",
    "itsDF.loc[itsDF['CompanyName'] == 'JBS上海', 'TimeZone'] = 'China Standard Time'\n",
    "itsDF.loc[itsDF['CompanyName'] == 'JBSメキシコ', 'TimeZone'] = 'Central Standard Time (Mexico)'"
   ]
  },
  {
   "cell_type": "markdown",
   "metadata": {},
   "source": [
    "# OrganizationからDiv(本部レベル)とDept(部レベル)を作成"
   ]
  },
  {
   "cell_type": "code",
   "execution_count": 26,
   "metadata": {},
   "outputs": [
    {
     "data": {
      "text/plain": [
       "array(['JBS', '内部監査室', '経営管理室', '財務経理部', '財務経理部 経理課', '財務経理部 財務課',\n",
       "       '経営企画部', '品質管理室 ISMS／SM推進', '品質管理室 PM推進', 'リスク管理室', '人事部',\n",
       "       '人事部 人事課', '人事部 採用1課', '人事部 採用2課', '人事部 ヘルスケアセンター', '総務部',\n",
       "       '総務部 総務課', '総務部 法務課', \"総務部 Lucy's課\", '業務部 業務課', '業務部 購買課',\n",
       "       '業務部 物流課', '情報システム本部 インフラストラクチャサービス部',\n",
       "       '情報システム本部 インフラストラクチャサービス部 ITデザイン課',\n",
       "       '情報システム本部 インフラストラクチャサービス部 ITサービス課', '情報システム本部 ビジネスサービス部',\n",
       "       '情報システム本部 ビジネスサービス部 インプリメント課', '情報システム本部 ビジネスサービス部 マネジメント課',\n",
       "       '社会システムソリューション室', '事業企画本部', '事業企画本部 事業企画本部付', '事業企画本部 総合企画部',\n",
       "       '事業企画本部 総合企画部 パートナーアライアンス課', '事業企画本部 総合企画部 コミュニケーション課',\n",
       "       '事業企画本部 海外事業推進室', '事業企画本部 人材開発部', '事業企画本部 人材開発部 2019年度新卒',\n",
       "       '事業企画本部 MS統合サポートセンター テクニカルナレッジグループ',\n",
       "       '事業企画本部 MS統合サポートセンター FastTrack推進グループ',\n",
       "       '事業企画本部 MS統合サポートセンター ライセンスナレッジグループ', '事業企画本部 サービス企画部',\n",
       "       '事業企画本部 サービス推進部', '事業企画本部 サービス推進部 シードアクセラレーショングループ',\n",
       "       '事業企画本部 ビジネスインキュベーション部', '事業企画本部 ビジネスインキュベーション部 ISV推進グループ',\n",
       "       '事業企画本部 ビジネスインキュベーション部 IP企画グループ', '営業統括本部', '営業統括本部 営業統括本部付',\n",
       "       '営業統括本部 第1営業本部', '営業統括本部 第1営業本部 営業1部', '営業統括本部 第1営業本部 営業1部 営業1課',\n",
       "       '営業統括本部 第1営業本部 営業1部 営業2課', '営業統括本部 第1営業本部 営業2部',\n",
       "       '営業統括本部 第1営業本部 営業2部 営業1課', '営業統括本部 第1営業本部 営業2部 営業2課',\n",
       "       '営業統括本部 第2営業本部', '営業統括本部 第2営業本部 営業1部', '営業統括本部 第2営業本部 営業1部 営業1課',\n",
       "       '営業統括本部 第2営業本部 営業1部 営業2課', '営業統括本部 第2営業本部 営業2部',\n",
       "       '営業統括本部 第2営業本部 営業2部 営業1課', '営業統括本部 第2営業本部 営業2部 営業2課',\n",
       "       '営業統括本部 第3営業本部', '営業統括本部 第3営業本部 第3営業本部付', '営業統括本部 第3営業本部 営業1部',\n",
       "       '営業統括本部 第3営業本部 営業1部 営業1課', '営業統括本部 第3営業本部 営業1部 営業2課',\n",
       "       '営業統括本部 第3営業本部 営業2部', '営業統括本部 第3営業本部 営業2部 営業1課',\n",
       "       '営業統括本部 第3営業本部 営業3部', '営業統括本部 第3営業本部 営業3部 営業1課',\n",
       "       '営業統括本部 第3営業本部 営業3部 営業2課', '営業統括本部 第3営業本部 営業3部 営業3課',\n",
       "       '営業統括本部 パートナー営業本部', '営業統括本部 パートナー営業本部 営業部',\n",
       "       '営業統括本部 パートナー営業本部 営業部 営業1課', '営業統括本部 パートナー営業本部 営業部 営業2課',\n",
       "       '営業統括本部 中部・西日本営業本部', '営業統括本部 中部・西日本営業本部 中部営業部',\n",
       "       '営業統括本部 中部・西日本営業本部 西日本営業部', '営業統括本部 中部・西日本営業本部 東京営業部',\n",
       "       '営業統括本部 中部・西日本営業本部 北海道営業部', '営業統括本部 中部・西日本営業本部 九州営業部',\n",
       "       '営業統括本部 ソリューション営業部', '営業統括本部 ソリューション営業部 営業1課',\n",
       "       '営業統括本部 ソリューション営業部 営業2課', '営業統括本部 ソリューション営業部 営業3課',\n",
       "       '営業統括本部 ソリューション営業部 MSライセンス課', '営業統括本部 営業サポート室',\n",
       "       'ITソリューション統括本部 ITソリューション統括本部付', 'ITソリューション統括本部 デジタルイノベーション推進室',\n",
       "       'ITソリューション統括本部 デジタルイノベーション推進室 デジタルコンサルティング推進',\n",
       "       'ITソリューション統括本部 デジタルイノベーション推進室 ITアーキテクト推進',\n",
       "       'ITソリューション統括本部 デジタルイノベーション推進室 PMO推進', 'ITソリューション統括本部 金融システム本部',\n",
       "       'ITソリューション統括本部 金融システム本部 金融システム1部',\n",
       "       'ITソリューション統括本部 金融システム本部 金融システム1部 アカウント第1グループ',\n",
       "       'ITソリューション統括本部 金融システム本部 金融システム1部 アカウント第2グループ',\n",
       "       'ITソリューション統括本部 金融システム本部 金融システム1部 アカウント第3グループ',\n",
       "       'ITソリューション統括本部 金融システム本部 金融システム1部 アカウント第4グループ',\n",
       "       'ITソリューション統括本部 金融システム本部 金融システム1部 アカウント第5グループ',\n",
       "       'ITソリューション統括本部 金融システム本部 金融システム2部',\n",
       "       'ITソリューション統括本部 金融システム本部 金融システム2部 アカウント第1グループ',\n",
       "       'ITソリューション統括本部 金融システム本部 金融システム2部 アカウント第2グループ',\n",
       "       'ITソリューション統括本部 金融システム本部 金融システム2部 アカウント第3グループ',\n",
       "       'ITソリューション統括本部 金融システム本部 金融システム2部 アカウント第4グループ',\n",
       "       'ITソリューション統括本部 金融システム本部 金融システム2部 アカウント第5グループ',\n",
       "       'ITソリューション統括本部 金融システム本部 金融システム3部',\n",
       "       'ITソリューション統括本部 金融システム本部 金融システム3部 アカウント第1グループ',\n",
       "       'ITソリューション統括本部 金融システム本部 金融システム3部 アカウント第2グループ',\n",
       "       'ITソリューション統括本部 金融システム本部 金融システム4部',\n",
       "       'ITソリューション統括本部 金融システム本部 金融システム4部 アカウント第1グループ',\n",
       "       'ITソリューション統括本部 金融システム本部 金融システム4部 アカウント第2グループ',\n",
       "       'ITソリューション統括本部 金融システム本部 金融システム4部 アカウント第3グループ',\n",
       "       'ITソリューション統括本部 エンタープライズシステム本部',\n",
       "       'ITソリューション統括本部 エンタープライズシステム本部 エンタープライズシステム1部 アカウント第1グループ',\n",
       "       'ITソリューション統括本部 エンタープライズシステム本部 エンタープライズシステム1部 アカウント第2グループ',\n",
       "       'ITソリューション統括本部 エンタープライズシステム本部 エンタープライズシステム1部 アカウント第3グループ',\n",
       "       'ITソリューション統括本部 エンタープライズシステム本部 エンタープライズシステム1部 アカウント第4グループ',\n",
       "       'ITソリューション統括本部 エンタープライズシステム本部 エンタープライズシステム2部',\n",
       "       'ITソリューション統括本部 エンタープライズシステム本部 エンタープライズシステム2部 アカウント第1グループ',\n",
       "       'ITソリューション統括本部 エンタープライズシステム本部 エンタープライズシステム2部 アカウント第2グループ',\n",
       "       'ITソリューション統括本部 エンタープライズシステム本部 エンタープライズシステム3部',\n",
       "       'ITソリューション統括本部 エンタープライズシステム本部 エンタープライズシステム3部 アカウント第1グループ',\n",
       "       'ITソリューション統括本部 エンタープライズシステム本部 エンタープライズシステム3部 アカウント第2グループ',\n",
       "       'ITソリューション統括本部 エンタープライズシステム本部 エンタープライズシステム3部 アカウント第3グループ',\n",
       "       'ITソリューション統括本部 エンタープライズシステム本部 エンタープライズシステム3部 アカウント第4グループ',\n",
       "       'ITソリューション統括本部 エンタープライズシステム本部 エンタープライズシステム3部 アカウント第5グループ',\n",
       "       'ITソリューション統括本部 エンタープライズシステム本部 エンタープライズシステム4部',\n",
       "       'ITソリューション統括本部 エンタープライズシステム本部 エンタープライズシステム4部 アカウント第1グループ',\n",
       "       'ITソリューション統括本部 エンタープライズシステム本部 エンタープライズシステム4部 アカウント第2グループ',\n",
       "       'ITソリューション統括本部 エンタープライズシステム本部 中部技術部 アカウント1グループ',\n",
       "       'ITソリューション統括本部 エンタープライズシステム本部 中部技術部 アカウント2グループ',\n",
       "       'ITソリューション統括本部 エンタープライズシステム本部 中部技術部 アカウント3グループ',\n",
       "       'ITソリューション統括本部 エンタープライズシステム本部 中部技術部 アカウント4グループ',\n",
       "       'ITソリューション統括本部 エンタープライズシステム本部 西日本技術部',\n",
       "       'ITソリューション統括本部 エンタープライズシステム本部 西日本技術部 アカウント1グループ',\n",
       "       'ITソリューション統括本部 エンタープライズシステム本部 西日本技術部 アカウント2グループ',\n",
       "       'ITソリューション統括本部 エンタープライズシステム本部 西日本技術部 アカウント3グループ',\n",
       "       'ITソリューション統括本部 テクノロジーソリューション本部',\n",
       "       'ITソリューション統括本部 テクノロジーソリューション本部 ナレッジコラボレーション部',\n",
       "       'ITソリューション統括本部 テクノロジーソリューション本部 ナレッジコラボレーション部 アカウント1グループ',\n",
       "       'ITソリューション統括本部 テクノロジーソリューション本部 ナレッジコラボレーション部 アカウント2グループ',\n",
       "       'ITソリューション統括本部 テクノロジーソリューション本部 ナレッジコラボレーション部 CDグループ',\n",
       "       'ITソリューション統括本部 テクノロジーソリューション本部 ナレッジコラボレーション部 xプロダクティビティ1グループ',\n",
       "       'ITソリューション統括本部 テクノロジーソリューション本部 ナレッジコラボレーション部 xプロダクティビティ3グループ',\n",
       "       'ITソリューション統括本部 テクノロジーソリューション本部 クラウドプラットフォーム部',\n",
       "       'ITソリューション統括本部 テクノロジーソリューション本部 クラウドプラットフォーム部 1グループ',\n",
       "       'ITソリューション統括本部 テクノロジーソリューション本部 クラウドプラットフォーム部 2グループ',\n",
       "       'ITソリューション統括本部 テクノロジーソリューション本部 クラウドプラットフォーム部 3グループ',\n",
       "       'ITソリューション統括本部 テクノロジーソリューション本部 クラウドプラットフォーム部 4グループ',\n",
       "       'ITソリューション統括本部 テクノロジーソリューション本部 クラウドプラットフォーム部 5グループ',\n",
       "       'ITソリューション統括本部 テクノロジーソリューション本部 クラウドプラットフォーム部 6グループ',\n",
       "       'ITソリューション統括本部 テクノロジーソリューション本部 クラウドプラットフォーム部 7グループ',\n",
       "       'ITソリューション統括本部 テクノロジーソリューション本部 システムインテグレーション部',\n",
       "       'ITソリューション統括本部 テクノロジーソリューション本部 システムインテグレーション部 システムインテグレーション1グループ',\n",
       "       'ITソリューション統括本部 テクノロジーソリューション本部 システムインテグレーション部 システムインテグレーション2グループ',\n",
       "       'ITソリューション統括本部 テクノロジーソリューション本部 システムインテグレーション部 システムインテグレーション3グループ',\n",
       "       'ITソリューション統括本部 テクノロジーソリューション本部 システムインテグレーション部 システムインテグレーション4グループ',\n",
       "       'ITソリューション統括本部 テクノロジーソリューション本部 システムインテグレーション部 システムインテグレーション5グループ',\n",
       "       'ITソリューション統括本部 テクノロジーソリューション本部 システムインテグレーション部 システムインテグレーション6グループ',\n",
       "       'ITソリューション統括本部 テクノロジーソリューション本部 システムインテグレーション部 システムインテグレーション7グループ',\n",
       "       'ITソリューション統括本部 テクノロジーソリューション本部 システムインテグレーション部 システムインテグレーション8グループ',\n",
       "       'ITソリューション統括本部 テクノロジーソリューション本部 システムインテグレーション部 システムインテグレーション9グループ',\n",
       "       'ITソリューション統括本部 テクノロジーソリューション本部 システムインテグレーション部 システムインテグレーション10グループ',\n",
       "       'ITソリューション統括本部 テクノロジーソリューション本部 システムインテグレーション部 システムインテグレーション11グループ',\n",
       "       'ITソリューション統括本部 テクノロジーソリューション本部 システムインテグレーション部 システムインテグレーション12グループ',\n",
       "       'ITソリューション統括本部 テクノロジーソリューション本部 システムインテグレーション部 システムインテグレーション13グループ',\n",
       "       'ITソリューション統括本部 テクノロジーソリューション本部 プラットフォームソリューション部',\n",
       "       'ITソリューション統括本部 テクノロジーソリューション本部 プラットフォームソリューション部 クラウドソリューション1グループ',\n",
       "       'ITソリューション統括本部 テクノロジーソリューション本部 プラットフォームソリューション部 クラウドソリューション2グループ',\n",
       "       'ITソリューション統括本部 テクノロジーソリューション本部 プラットフォームソリューション部 セキュリティーソリューショングループ',\n",
       "       'ITソリューション統括本部 テクノロジーソリューション本部 プラットフォームソリューション部 ワークスタイルソリューション1グループ',\n",
       "       'ITソリューション統括本部 テクノロジーソリューション本部 プラットフォームソリューション部 ワークスタイルソリューション2グループ',\n",
       "       'ITソリューション統括本部 テクノロジーソリューション本部 セキュアデザインセンター',\n",
       "       'ITソリューション統括本部 テクノロジーソリューション本部 テクノロジーデザインセンター',\n",
       "       'ITソリューション統括本部 テクニカルパートナー本部',\n",
       "       'ITソリューション統括本部 テクニカルパートナー本部 テクニカルパートナー1部',\n",
       "       'ITソリューション統括本部 テクニカルパートナー本部 テクニカルパートナー1部 第1技術グループ',\n",
       "       'ITソリューション統括本部 テクニカルパートナー本部 テクニカルパートナー1部 第2技術グループ',\n",
       "       'ITソリューション統括本部 テクニカルパートナー本部 テクニカルパートナー1部 第3技術グループ',\n",
       "       'ITソリューション統括本部 テクニカルパートナー本部 テクニカルパートナー1部 第4技術グループ',\n",
       "       'ITソリューション統括本部 テクニカルパートナー本部 テクニカルパートナー1部 第5技術グループ',\n",
       "       'ITソリューション統括本部 テクニカルパートナー本部 テクニカルパートナー1部 第6技術グループ',\n",
       "       'ITソリューション統括本部 テクニカルパートナー本部 テクニカルパートナー1部 第7技術グループ',\n",
       "       'ITソリューション統括本部 テクニカルパートナー本部 テクニカルパートナー1部 第8技術グループ',\n",
       "       'ITソリューション統括本部 テクニカルパートナー本部 テクニカルパートナー1部 第9技術グループ',\n",
       "       'ITソリューション統括本部 テクニカルパートナー本部 テクニカルパートナー2部',\n",
       "       'ITソリューション統括本部 テクニカルパートナー本部 テクニカルパートナー2部 第1技術グループ',\n",
       "       'ITソリューション統括本部 テクニカルパートナー本部 テクニカルパートナー2部 第2技術グループ',\n",
       "       'ITソリューション統括本部 テクニカルパートナー本部 テクニカルパートナー2部 第3技術グループ',\n",
       "       'ITソリューション統括本部 テクニカルパートナー本部 テクニカルパートナー3部',\n",
       "       'ITソリューション統括本部 テクニカルパートナー本部 テクニカルパートナー3部 第4技術グループ',\n",
       "       'ITソリューション統括本部 テクニカルパートナー本部 テクニカルパートナー3部 第7技術グループ',\n",
       "       'ITソリューション統括本部 テクニカルパートナー本部 テクニカルパートナー3部 第8技術グループ',\n",
       "       'ITソリューション統括本部 テクニカルパートナー本部 テクニカルパートナー4部 第1技術グループ',\n",
       "       'ITソリューション統括本部 テクニカルパートナー本部 テクニカルパートナー4部 第3技術グループ',\n",
       "       'ITソリューション統括本部 テクニカルパートナー本部 テクニカルパートナー4部 第4技術グループ',\n",
       "       'ITソリューション統括本部 テクニカルパートナー本部 テクニカルパートナー5部 第1技術グループ',\n",
       "       'ITソリューション統括本部 テクニカルパートナー本部 テクニカルパートナー5部 第2技術グループ',\n",
       "       'ITソリューション統括本部 テクニカルパートナー本部 テクニカルパートナー5部 第3技術グループ',\n",
       "       'ビジネスソリューション本部', 'ビジネスソリューション本部 ビジネスソリューション本部付',\n",
       "       'ビジネスソリューション本部 ビジネスアーキテクト室', 'ビジネスソリューション本部 テクノロジーアーキテクト室',\n",
       "       'ビジネスソリューション本部 ソリューション開発室', 'ビジネスソリューション本部 ビジネスアプリケーション1部',\n",
       "       'ビジネスソリューション本部 ビジネスアプリケーション1部 アプリケーションアーキテクト1グループ',\n",
       "       'ビジネスソリューション本部 ビジネスアプリケーション1部 アプリケーションアーキテクト2グループ',\n",
       "       'ビジネスソリューション本部 ビジネスアプリケーション1部 アプリケーションアーキテクト3グループ',\n",
       "       'ビジネスソリューション本部 ビジネスアプリケーション1部 アプリケーションアーキテクト沖縄グループ',\n",
       "       'ビジネスソリューション本部 ビジネスアプリケーション2部',\n",
       "       'ビジネスソリューション本部 ビジネスアプリケーション2部 アプリケーションアーキテクト1グループ',\n",
       "       'ビジネスソリューション本部 ビジネスアプリケーション2部 アプリケーションアーキテクト2グループ',\n",
       "       'ビジネスソリューション本部 ビジネスアプリケーション2部 アプリケーションアーキテクト3グループ',\n",
       "       'ビジネスソリューション本部 ERPソリューション部',\n",
       "       'ビジネスソリューション本部 ERPソリューション部 RPAソリューショングループ',\n",
       "       'ビジネスソリューション本部 ERPソリューション部 ビジネスオペレーション1G',\n",
       "       'ビジネスソリューション本部 ERPソリューション部 ビジネスオペレーション2G',\n",
       "       'ビジネスソリューション本部 ERPソリューション部 インプリメンテーショングループ',\n",
       "       'ビジネスソリューション本部 ERPソリューション部 ERP基盤グループ',\n",
       "       'ビジネスソリューション本部 ERPソリューション部 データアーキテクトグループ',\n",
       "       'ビジネスソリューション本部 CRMソリューション部',\n",
       "       'ビジネスソリューション本部 CRMソリューション部 インプリメンテーション1グループ',\n",
       "       'ビジネスソリューション本部 CRMソリューション部 インプリメンテーション2グループ', 'サービス＆サポート本部',\n",
       "       'サービス＆サポート本部 サービス＆サポート本部付', 'サービス＆サポート本部 サービスインテグレーション部',\n",
       "       'サービス＆サポート本部 サービスインテグレーション部 プロダクトデベロップメントグループ',\n",
       "       'サービス＆サポート本部 サービスインテグレーション部 サービスインテグレーショングループ',\n",
       "       'サービス＆サポート本部 クラウドサービスセンター サービスオペレーション1グループ',\n",
       "       'サービス＆サポート本部 クラウドサービスセンター サービスオペレーション2グループ',\n",
       "       'サービス＆サポート本部 マネージドサービスセンター',\n",
       "       'サービス＆サポート本部 マネージドサービスセンター Security Operation G',\n",
       "       'サービス＆サポート本部 マネージドサービスセンター サービスオペレーショングループ',\n",
       "       'サービス＆サポート本部 マネージドサービスセンター テクニカルアカウントマネジメントグループ',\n",
       "       'サービス＆サポート本部 マネージドサービスセンター 更新サービスグループ',\n",
       "       'サービス＆サポート本部 エンドポイントサービスセンター',\n",
       "       'サービス＆サポート本部 エンドポイントサービスセンター エンドポイントサービス1グループ',\n",
       "       'サービス＆サポート本部 エンドポイントサービスセンター エンドポイントサービス2グループ',\n",
       "       'サービス＆サポート本部 ITサービスセンター', 'サービス＆サポート本部 ITサービスセンター ITサービス1グループ',\n",
       "       'サービス＆サポート本部 ITサービスセンター ITサービス2グループ',\n",
       "       'サービス＆サポート本部 ITサービスセンター トレーニンググループ', 'サービス＆サポート本部 沖縄事業所',\n",
       "       'サービス＆サポート本部 沖縄事業所 オペレーションセンター', 'サービス＆サポート本部 沖縄事業所 インサイドセールスセンター',\n",
       "       'サービス＆サポート本部 北海道事業所 北海道事業所付', 'サービス＆サポート本部 北海道事業所 第1技術グループ',\n",
       "       'サービス＆サポート本部 北海道事業所 第2技術グループ', 'サービス＆サポート本部 九州事業所',\n",
       "       'サービス＆サポート本部 九州事業所 第1技術グループ', 'サービス＆サポート本部 九州事業所 第2技術グループ',\n",
       "       '技術管理室', '技術管理室 業務管理', 'JBS USA', 'JBS USA Sales',\n",
       "       'Administration Division',\n",
       "       'Administration Division Administration',\n",
       "       'Administration Division HR',\n",
       "       'Administration Division Procurement', 'Delivery Division',\n",
       "       'Delivery Division ソリューション部 ERP',\n",
       "       'Delivery Division Cloud and Network Solution_SI',\n",
       "       'Delivery Division Business Application and Development_SOL',\n",
       "       'Delivery Division NY', 'JBSAP', 'JBS上海', '技術部 電装MS課',\n",
       "       '技術部 MSInfra開発課', '技術部 BP課', 'サービス部 営業課', 'サービス部 総務人事課', 'JBSメキシコ'],\n",
       "      dtype=object)"
      ]
     },
     "execution_count": 26,
     "metadata": {},
     "output_type": "execute_result"
    }
   ],
   "source": [
    "itsDF['Organization'].unique()"
   ]
  },
  {
   "cell_type": "markdown",
   "metadata": {},
   "source": [
    "### Organizationの最初のスペースまでをDivとする ※例外部署あり"
   ]
  },
  {
   "cell_type": "code",
   "execution_count": 27,
   "metadata": {},
   "outputs": [],
   "source": [
    "# expand=FalseだとSeriesが返り値になる\n",
    "tmp = itsDF['Organization'].str.split(' ', expand=True)"
   ]
  },
  {
   "cell_type": "markdown",
   "metadata": {},
   "source": [
    "#### ほとんどの部署は最初のスペースまでを使用する"
   ]
  },
  {
   "cell_type": "code",
   "execution_count": 28,
   "metadata": {},
   "outputs": [],
   "source": [
    "div_s = tmp.get(0)"
   ]
  },
  {
   "cell_type": "code",
   "execution_count": 29,
   "metadata": {},
   "outputs": [],
   "source": [
    "# この後の工程(FunctionType)で利用するカラムを作成\n",
    "itsDF['tmp_div'] = div_s"
   ]
  },
  {
   "cell_type": "markdown",
   "metadata": {},
   "source": [
    "#### 例外部署処理(ITソリューション統括本部)"
   ]
  },
  {
   "cell_type": "code",
   "execution_count": 30,
   "metadata": {},
   "outputs": [],
   "source": [
    "div_it_s = tmp[tmp.get(0) == 'ITソリューション統括本部'].get(1)"
   ]
  },
  {
   "cell_type": "markdown",
   "metadata": {},
   "source": [
    "#### 処理によってnullが発生しないか確認"
   ]
  },
  {
   "cell_type": "code",
   "execution_count": 31,
   "metadata": {},
   "outputs": [
    {
     "data": {
      "text/plain": [
       "Series([], Name: 1, dtype: object)"
      ]
     },
     "execution_count": 31,
     "metadata": {},
     "output_type": "execute_result"
    }
   ],
   "source": [
    "div_it_s[div_it_s.isnull()]"
   ]
  },
  {
   "cell_type": "code",
   "execution_count": 32,
   "metadata": {},
   "outputs": [],
   "source": [
    "div_s[div_s == 'ITソリューション統括本部'] = div_it_s"
   ]
  },
  {
   "cell_type": "markdown",
   "metadata": {},
   "source": [
    "#### 例外部署処理(営業統括本部)"
   ]
  },
  {
   "cell_type": "code",
   "execution_count": 33,
   "metadata": {},
   "outputs": [],
   "source": [
    "div_eg_s = tmp[tmp.get(0) == '営業統括本部'].get(1)"
   ]
  },
  {
   "cell_type": "markdown",
   "metadata": {},
   "source": [
    "#### 処理によってnullが発生しないか確認"
   ]
  },
  {
   "cell_type": "code",
   "execution_count": 34,
   "metadata": {},
   "outputs": [
    {
     "data": {
      "text/plain": [
       "416    None\n",
       "417    None\n",
       "Name: 1, dtype: object"
      ]
     },
     "execution_count": 34,
     "metadata": {},
     "output_type": "execute_result"
    }
   ],
   "source": [
    "div_eg_s[div_eg_s.isnull()]"
   ]
  },
  {
   "cell_type": "markdown",
   "metadata": {},
   "source": [
    "#### nullが発生する方の処理\n",
    "※統括本部長等"
   ]
  },
  {
   "cell_type": "code",
   "execution_count": 35,
   "metadata": {},
   "outputs": [
    {
     "name": "stderr",
     "output_type": "stream",
     "text": [
      "C:\\Users\\tharada\\AppData\\Local\\Continuum\\Anaconda3\\lib\\site-packages\\pandas\\core\\generic.py:8682: SettingWithCopyWarning: \n",
      "A value is trying to be set on a copy of a slice from a DataFrame\n",
      "\n",
      "See the caveats in the documentation: http://pandas.pydata.org/pandas-docs/stable/indexing.html#indexing-view-versus-copy\n",
      "  self._update_inplace(new_data)\n",
      "C:\\Users\\tharada\\AppData\\Local\\Continuum\\Anaconda3\\lib\\site-packages\\IPython\\core\\interactiveshell.py:3296: SettingWithCopyWarning: \n",
      "A value is trying to be set on a copy of a slice from a DataFrame\n",
      "\n",
      "See the caveats in the documentation: http://pandas.pydata.org/pandas-docs/stable/indexing.html#indexing-view-versus-copy\n",
      "  exec(code_obj, self.user_global_ns, self.user_ns)\n"
     ]
    }
   ],
   "source": [
    "div_eg_s[div_eg_s.isnull()] = '営業統括本部'"
   ]
  },
  {
   "cell_type": "code",
   "execution_count": 36,
   "metadata": {},
   "outputs": [],
   "source": [
    "div_s[div_s == '営業統括本部'] = div_eg_s"
   ]
  },
  {
   "cell_type": "code",
   "execution_count": 37,
   "metadata": {},
   "outputs": [],
   "source": [
    "itsDF['Div'] = div_s"
   ]
  },
  {
   "cell_type": "code",
   "execution_count": 38,
   "metadata": {},
   "outputs": [
    {
     "data": {
      "text/plain": [
       "array(['JBS', '内部監査室', '経営管理室', '財務経理部', '経営企画部', '品質管理室', 'リスク管理室',\n",
       "       '人事部', '総務部', '業務部', '情報システム本部', '社会システムソリューション室', '事業企画本部',\n",
       "       '営業統括本部', '営業統括本部付', '第1営業本部', '第2営業本部', '第3営業本部', 'パートナー営業本部',\n",
       "       '中部・西日本営業本部', 'ソリューション営業部', '営業サポート室', 'ITソリューション統括本部付',\n",
       "       'デジタルイノベーション推進室', '金融システム本部', 'エンタープライズシステム本部', 'テクノロジーソリューション本部',\n",
       "       'テクニカルパートナー本部', 'ビジネスソリューション本部', 'サービス＆サポート本部', '技術管理室',\n",
       "       'Administration', 'Delivery', 'JBSAP', 'JBS上海', '技術部', 'サービス部',\n",
       "       'JBSメキシコ'], dtype=object)"
      ]
     },
     "execution_count": 38,
     "metadata": {},
     "output_type": "execute_result"
    }
   ],
   "source": [
    "itsDF['Div'].unique()"
   ]
  },
  {
   "cell_type": "markdown",
   "metadata": {},
   "source": [
    "#### 例外部署処理(海外) ※CompanyNameが以下の行が対象\n",
    "- JBS USA(USA)\n",
    "- JBSシンガポール(SGP)\n",
    "- JBS上海(CHN)\n",
    "- JBSメキシコ(MEX)"
   ]
  },
  {
   "cell_type": "code",
   "execution_count": 39,
   "metadata": {},
   "outputs": [],
   "source": [
    "itsDF.loc[itsDF.loc[:, 'CompanyName'] == 'JBS USA','Div'] = itsDF.loc[itsDF.loc[:,'CompanyName'] == 'JBS USA','Div'].map(lambda s: 'USA-' + s)"
   ]
  },
  {
   "cell_type": "code",
   "execution_count": 40,
   "metadata": {},
   "outputs": [],
   "source": [
    "itsDF.loc[itsDF.loc[:, 'CompanyName'] == 'JBSシンガポール','Div'] = itsDF.loc[itsDF.loc[:,'CompanyName'] == 'JBSシンガポール','Div'].map(lambda s: 'SGP-' + s)"
   ]
  },
  {
   "cell_type": "code",
   "execution_count": 41,
   "metadata": {},
   "outputs": [],
   "source": [
    "itsDF.loc[itsDF.loc[:, 'CompanyName'] == 'JBS上海','Div'] = itsDF.loc[itsDF.loc[:,'CompanyName'] == 'JBS上海','Div'].map(lambda s: 'CHN-' + s)"
   ]
  },
  {
   "cell_type": "code",
   "execution_count": 42,
   "metadata": {},
   "outputs": [],
   "source": [
    "itsDF.loc[itsDF.loc[:, 'CompanyName'] == 'JBSメキシコ','Div'] = itsDF.loc[itsDF.loc[:,'CompanyName'] == 'JBSメキシコ','Div'].map(lambda s: 'MEX-' + s)"
   ]
  },
  {
   "cell_type": "code",
   "execution_count": 43,
   "metadata": {},
   "outputs": [
    {
     "data": {
      "text/plain": [
       "array(['JBS', '内部監査室', '経営管理室', '財務経理部', '経営企画部', '品質管理室', 'リスク管理室',\n",
       "       '人事部', '総務部', '業務部', '情報システム本部', '社会システムソリューション室', '事業企画本部',\n",
       "       '営業統括本部', '営業統括本部付', '第1営業本部', '第2営業本部', '第3営業本部', 'パートナー営業本部',\n",
       "       '中部・西日本営業本部', 'ソリューション営業部', '営業サポート室', 'ITソリューション統括本部付',\n",
       "       'デジタルイノベーション推進室', '金融システム本部', 'エンタープライズシステム本部', 'テクノロジーソリューション本部',\n",
       "       'テクニカルパートナー本部', 'ビジネスソリューション本部', 'サービス＆サポート本部', '技術管理室', 'USA-JBS',\n",
       "       'USA-Administration', 'USA-Delivery', 'SGP-JBSAP', 'CHN-JBS上海',\n",
       "       'CHN-技術部', 'CHN-サービス部', 'MEX-JBSメキシコ'], dtype=object)"
      ]
     },
     "execution_count": 43,
     "metadata": {},
     "output_type": "execute_result"
    }
   ],
   "source": [
    "itsDF['Div'].unique()"
   ]
  },
  {
   "cell_type": "markdown",
   "metadata": {},
   "source": [
    "#### OrganizationとDeptの対応辞書"
   ]
  },
  {
   "cell_type": "code",
   "execution_count": 44,
   "metadata": {},
   "outputs": [],
   "source": [
    "DEPT_DICT = {\n",
    " 'JBS': 'JBS',\n",
    " '内部監査室': '内部監査室',\n",
    " '経営管理室': '経営管理室',\n",
    " '財務経理部': '財務経理部',\n",
    " '財務経理部 経理課': '財務経理部',\n",
    " '財務経理部 財務課': '財務経理部',\n",
    " '経営企画部': '経営企画部',\n",
    " '品質管理室 ISMS／SM推進': '品質管理室',\n",
    " '品質管理室 PM推進': '品質管理室',\n",
    " 'リスク管理室': 'リスク管理室',\n",
    " '人事部': '人事部',\n",
    " '人事部 人事課': '人事部',\n",
    " '人事部 採用1課': '人事部',\n",
    " '人事部 採用2課': '人事部',\n",
    " '人事部 ヘルスケアセンター': '人事部',\n",
    " '総務部': '総務部',\n",
    " '総務部 総務課': '総務部',\n",
    " '総務部 法務課': '総務部',\n",
    " \"総務部 Lucy's課\": '総務部',\n",
    " '業務部 業務課': '業務部',\n",
    " '業務部 購買課': '業務部',\n",
    " '業務部 物流課': '業務部',\n",
    " '情報システム本部 インフラストラクチャサービス部': '情報システム本部 インフラストラクチャサービス部',\n",
    " '情報システム本部 インフラストラクチャサービス部 ITデザイン課': '情報システム本部 インフラストラクチャサービス部',\n",
    " '情報システム本部 インフラストラクチャサービス部 ITサービス課': '情報システム本部 インフラストラクチャサービス部',\n",
    " '情報システム本部 ビジネスサービス部': '情報システム本部 ビジネスサービス部',\n",
    " '情報システム本部 ビジネスサービス部 インプリメント課': '情報システム本部 ビジネスサービス部',\n",
    " '情報システム本部 ビジネスサービス部 マネジメント課': '情報システム本部 ビジネスサービス部',\n",
    " '社会システムソリューション室': '社会システムソリューション室',\n",
    " '事業企画本部': '事業企画本部',\n",
    " '事業企画本部 事業企画本部付': '事業企画本部 事業企画本部付',\n",
    " '事業企画本部 総合企画部': '事業企画本部 総合企画部',\n",
    " '事業企画本部 総合企画部 パートナーアライアンス課': '事業企画本部 総合企画部',\n",
    " '事業企画本部 総合企画部 コミュニケーション課': '事業企画本部 総合企画部',\n",
    " '事業企画本部 海外事業推進室': '事業企画本部 海外事業推進室',\n",
    " '事業企画本部 人材開発部': '事業企画本部 人材開発部',\n",
    " '事業企画本部 人材開発部 2019年度新卒': '事業企画本部 人材開発部',\n",
    " '事業企画本部 MS統合サポートセンター テクニカルナレッジグループ': '事業企画本部 MS統合サポートセンター',\n",
    " '事業企画本部 MS統合サポートセンター FastTrack推進グループ': '事業企画本部 MS統合サポートセンター',\n",
    " '事業企画本部 MS統合サポートセンター ライセンスナレッジグループ': '事業企画本部 MS統合サポートセンター',\n",
    " '事業企画本部 サービス企画部': '事業企画本部 サービス企画部',\n",
    " '事業企画本部 サービス推進部': '事業企画本部 サービス推進部',\n",
    " '事業企画本部 サービス推進部 シードアクセラレーショングループ': '事業企画本部 サービス推進部',\n",
    " '事業企画本部 ビジネスインキュベーション部': '事業企画本部 ビジネスインキュベーション部',\n",
    " '事業企画本部 ビジネスインキュベーション部 ISV推進グループ': '事業企画本部 ビジネスインキュベーション部',\n",
    " '事業企画本部 ビジネスインキュベーション部 IP企画グループ': '事業企画本部 ビジネスインキュベーション部',\n",
    " '営業統括本部': '営業統括本部',\n",
    " '営業統括本部 営業統括本部付': '営業統括本部 営業統括本部付',\n",
    " '営業統括本部 第1営業本部': '営業統括本部 第1営業本部',\n",
    " '営業統括本部 第1営業本部 営業1部': '営業統括本部 第1営業本部 営業1部',\n",
    " '営業統括本部 第1営業本部 営業1部 営業1課': '営業統括本部 第1営業本部 営業1部',\n",
    " '営業統括本部 第1営業本部 営業1部 営業2課': '営業統括本部 第1営業本部 営業1部',\n",
    " '営業統括本部 第1営業本部 営業2部': '営業統括本部 第1営業本部 営業2部',\n",
    " '営業統括本部 第1営業本部 営業2部 営業1課': '営業統括本部 第1営業本部 営業2部',\n",
    " '営業統括本部 第1営業本部 営業2部 営業2課': '営業統括本部 第1営業本部 営業2部',\n",
    " '営業統括本部 第2営業本部': '営業統括本部 第2営業本部',\n",
    " '営業統括本部 第2営業本部 営業1部': '営業統括本部 第2営業本部 営業1部',\n",
    " '営業統括本部 第2営業本部 営業1部 営業1課': '営業統括本部 第2営業本部 営業1部',\n",
    " '営業統括本部 第2営業本部 営業1部 営業2課': '営業統括本部 第2営業本部 営業1部',\n",
    " '営業統括本部 第2営業本部 営業2部': '営業統括本部 第2営業本部 営業2部',\n",
    " '営業統括本部 第2営業本部 営業2部 営業1課': '営業統括本部 第2営業本部 営業2部',\n",
    " '営業統括本部 第2営業本部 営業2部 営業2課': '営業統括本部 第2営業本部 営業2部',\n",
    " '営業統括本部 第3営業本部': '営業統括本部 第3営業本部',\n",
    " '営業統括本部 第3営業本部 第3営業本部付': '営業統括本部 第3営業本部 第3営業本部付',\n",
    " '営業統括本部 第3営業本部 営業1部': '営業統括本部 第3営業本部 営業1部',\n",
    " '営業統括本部 第3営業本部 営業1部 営業1課': '営業統括本部 第3営業本部 営業1部',\n",
    " '営業統括本部 第3営業本部 営業1部 営業2課': '営業統括本部 第3営業本部 営業1部',\n",
    " '営業統括本部 第3営業本部 営業2部': '営業統括本部 第3営業本部 営業2部',\n",
    " '営業統括本部 第3営業本部 営業2部 営業1課': '営業統括本部 第3営業本部 営業2部',\n",
    " '営業統括本部 第3営業本部 営業3部': '営業統括本部 第3営業本部 営業3部',\n",
    " '営業統括本部 第3営業本部 営業3部 営業1課': '営業統括本部 第3営業本部 営業3部',\n",
    " '営業統括本部 第3営業本部 営業3部 営業2課': '営業統括本部 第3営業本部 営業3部',\n",
    " '営業統括本部 第3営業本部 営業3部 営業3課': '営業統括本部 第3営業本部 営業3部',\n",
    " '営業統括本部 パートナー営業本部': '営業統括本部 パートナー営業本部',\n",
    " '営業統括本部 パートナー営業本部 営業部': '営業統括本部 パートナー営業本部 営業部',\n",
    " '営業統括本部 パートナー営業本部 営業部 営業1課': '営業統括本部 パートナー営業本部 営業部',\n",
    " '営業統括本部 パートナー営業本部 営業部 営業2課': '営業統括本部 パートナー営業本部 営業部',\n",
    " '営業統括本部 中部・西日本営業本部': '営業統括本部 中部・西日本営業本部',\n",
    " '営業統括本部 中部・西日本営業本部 中部営業部': '営業統括本部 中部・西日本営業本部 中部営業部',\n",
    " '営業統括本部 中部・西日本営業本部 西日本営業部': '営業統括本部 中部・西日本営業本部 西日本営業部',\n",
    " '営業統括本部 中部・西日本営業本部 東京営業部': '営業統括本部 中部・西日本営業本部 東京営業部',\n",
    " '営業統括本部 中部・西日本営業本部 北海道営業部': '営業統括本部 中部・西日本営業本部 北海道営業部',\n",
    " '営業統括本部 中部・西日本営業本部 九州営業部': '営業統括本部 中部・西日本営業本部 九州営業部',\n",
    " '営業統括本部 ソリューション営業部': '営業統括本部 ソリューション営業部',\n",
    " '営業統括本部 ソリューション営業部 営業1課': '営業統括本部 ソリューション営業部',\n",
    " '営業統括本部 ソリューション営業部 営業2課': '営業統括本部 ソリューション営業部',\n",
    " '営業統括本部 ソリューション営業部 営業3課': '営業統括本部 ソリューション営業部',\n",
    " '営業統括本部 ソリューション営業部 MSライセンス課': '営業統括本部 ソリューション営業部',\n",
    " '営業統括本部 営業サポート室': '営業統括本部 営業サポート室',\n",
    " 'ITソリューション統括本部 ITソリューション統括本部付': 'ITソリューション統括本部 ITソリューション統括本部付',\n",
    " 'ITソリューション統括本部 デジタルイノベーション推進室': 'ITソリューション統括本部 デジタルイノベーション推進室',\n",
    " 'ITソリューション統括本部 デジタルイノベーション推進室 デジタルコンサルティング推進': 'ITソリューション統括本部 デジタルイノベーション推進室',\n",
    " 'ITソリューション統括本部 デジタルイノベーション推進室 ITアーキテクト推進': 'ITソリューション統括本部 デジタルイノベーション推進室',\n",
    " 'ITソリューション統括本部 デジタルイノベーション推進室 PMO推進': 'ITソリューション統括本部 デジタルイノベーション推進室',\n",
    " 'ITソリューション統括本部 金融システム本部': 'ITソリューション統括本部 金融システム本部',\n",
    " 'ITソリューション統括本部 金融システム本部 金融システム1部': 'ITソリューション統括本部 金融システム本部 金融システム1部',\n",
    " 'ITソリューション統括本部 金融システム本部 金融システム1部 アカウント第1グループ': 'ITソリューション統括本部 金融システム本部 金融システム1部',\n",
    " 'ITソリューション統括本部 金融システム本部 金融システム1部 アカウント第2グループ': 'ITソリューション統括本部 金融システム本部 金融システム1部',\n",
    " 'ITソリューション統括本部 金融システム本部 金融システム1部 アカウント第3グループ': 'ITソリューション統括本部 金融システム本部 金融システム1部',\n",
    " 'ITソリューション統括本部 金融システム本部 金融システム1部 アカウント第4グループ': 'ITソリューション統括本部 金融システム本部 金融システム1部',\n",
    " 'ITソリューション統括本部 金融システム本部 金融システム1部 アカウント第5グループ': 'ITソリューション統括本部 金融システム本部 金融システム1部',\n",
    " 'ITソリューション統括本部 金融システム本部 金融システム2部': 'ITソリューション統括本部 金融システム本部 金融システム2部',\n",
    " 'ITソリューション統括本部 金融システム本部 金融システム2部 アカウント第1グループ': 'ITソリューション統括本部 金融システム本部 金融システム2部',\n",
    " 'ITソリューション統括本部 金融システム本部 金融システム2部 アカウント第2グループ': 'ITソリューション統括本部 金融システム本部 金融システム2部',\n",
    " 'ITソリューション統括本部 金融システム本部 金融システム2部 アカウント第3グループ': 'ITソリューション統括本部 金融システム本部 金融システム2部',\n",
    " 'ITソリューション統括本部 金融システム本部 金融システム2部 アカウント第4グループ': 'ITソリューション統括本部 金融システム本部 金融システム2部',\n",
    " 'ITソリューション統括本部 金融システム本部 金融システム2部 アカウント第5グループ': 'ITソリューション統括本部 金融システム本部 金融システム2部',\n",
    " 'ITソリューション統括本部 金融システム本部 金融システム3部': 'ITソリューション統括本部 金融システム本部 金融システム3部',\n",
    " 'ITソリューション統括本部 金融システム本部 金融システム3部 アカウント第1グループ': 'ITソリューション統括本部 金融システム本部 金融システム3部',\n",
    " 'ITソリューション統括本部 金融システム本部 金融システム3部 アカウント第2グループ': 'ITソリューション統括本部 金融システム本部 金融システム3部',\n",
    " 'ITソリューション統括本部 金融システム本部 金融システム4部': 'ITソリューション統括本部 金融システム本部 金融システム4部',\n",
    " 'ITソリューション統括本部 金融システム本部 金融システム4部 アカウント第1グループ': 'ITソリューション統括本部 金融システム本部 金融システム4部',\n",
    " 'ITソリューション統括本部 金融システム本部 金融システム4部 アカウント第2グループ': 'ITソリューション統括本部 金融システム本部 金融システム4部',\n",
    " 'ITソリューション統括本部 金融システム本部 金融システム4部 アカウント第3グループ': 'ITソリューション統括本部 金融システム本部 金融システム4部',\n",
    " 'ITソリューション統括本部 エンタープライズシステム本部': 'ITソリューション統括本部 エンタープライズシステム本部',\n",
    " 'ITソリューション統括本部 エンタープライズシステム本部 エンタープライズシステム1部 アカウント第1グループ': 'ITソリューション統括本部 エンタープライズシステム本部 エンタープライズシステム1部',\n",
    " 'ITソリューション統括本部 エンタープライズシステム本部 エンタープライズシステム1部 アカウント第2グループ': 'ITソリューション統括本部 エンタープライズシステム本部 エンタープライズシステム1部',\n",
    " 'ITソリューション統括本部 エンタープライズシステム本部 エンタープライズシステム1部 アカウント第3グループ': 'ITソリューション統括本部 エンタープライズシステム本部 エンタープライズシステム1部',\n",
    " 'ITソリューション統括本部 エンタープライズシステム本部 エンタープライズシステム1部 アカウント第4グループ': 'ITソリューション統括本部 エンタープライズシステム本部 エンタープライズシステム1部',\n",
    " 'ITソリューション統括本部 エンタープライズシステム本部 エンタープライズシステム2部': 'ITソリューション統括本部 エンタープライズシステム本部 エンタープライズシステム2部',\n",
    " 'ITソリューション統括本部 エンタープライズシステム本部 エンタープライズシステム2部 アカウント第1グループ': 'ITソリューション統括本部 エンタープライズシステム本部 エンタープライズシステム2部',\n",
    " 'ITソリューション統括本部 エンタープライズシステム本部 エンタープライズシステム2部 アカウント第2グループ': 'ITソリューション統括本部 エンタープライズシステム本部 エンタープライズシステム2部',\n",
    " 'ITソリューション統括本部 エンタープライズシステム本部 エンタープライズシステム3部': 'ITソリューション統括本部 エンタープライズシステム本部 エンタープライズシステム3部',\n",
    " 'ITソリューション統括本部 エンタープライズシステム本部 エンタープライズシステム3部 アカウント第1グループ': 'ITソリューション統括本部 エンタープライズシステム本部 エンタープライズシステム3部',\n",
    " 'ITソリューション統括本部 エンタープライズシステム本部 エンタープライズシステム3部 アカウント第2グループ': 'ITソリューション統括本部 エンタープライズシステム本部 エンタープライズシステム3部',\n",
    " 'ITソリューション統括本部 エンタープライズシステム本部 エンタープライズシステム3部 アカウント第3グループ': 'ITソリューション統括本部 エンタープライズシステム本部 エンタープライズシステム3部',\n",
    " 'ITソリューション統括本部 エンタープライズシステム本部 エンタープライズシステム3部 アカウント第4グループ': 'ITソリューション統括本部 エンタープライズシステム本部 エンタープライズシステム3部',\n",
    " 'ITソリューション統括本部 エンタープライズシステム本部 エンタープライズシステム3部 アカウント第5グループ': 'ITソリューション統括本部 エンタープライズシステム本部 エンタープライズシステム3部',\n",
    " 'ITソリューション統括本部 エンタープライズシステム本部 エンタープライズシステム4部': 'ITソリューション統括本部 エンタープライズシステム本部 エンタープライズシステム4部',\n",
    " 'ITソリューション統括本部 エンタープライズシステム本部 エンタープライズシステム4部 アカウント第1グループ': 'ITソリューション統括本部 エンタープライズシステム本部 エンタープライズシステム4部',\n",
    " 'ITソリューション統括本部 エンタープライズシステム本部 エンタープライズシステム4部 アカウント第2グループ': 'ITソリューション統括本部 エンタープライズシステム本部 エンタープライズシステム4部',\n",
    " 'ITソリューション統括本部 エンタープライズシステム本部 中部技術部 アカウント1グループ': 'ITソリューション統括本部 エンタープライズシステム本部 中部技術部',\n",
    " 'ITソリューション統括本部 エンタープライズシステム本部 中部技術部 アカウント2グループ': 'ITソリューション統括本部 エンタープライズシステム本部 中部技術部',\n",
    " 'ITソリューション統括本部 エンタープライズシステム本部 中部技術部 アカウント3グループ': 'ITソリューション統括本部 エンタープライズシステム本部 中部技術部',\n",
    " 'ITソリューション統括本部 エンタープライズシステム本部 中部技術部 アカウント4グループ': 'ITソリューション統括本部 エンタープライズシステム本部 中部技術部',\n",
    " 'ITソリューション統括本部 エンタープライズシステム本部 西日本技術部': 'ITソリューション統括本部 エンタープライズシステム本部 西日本技術部',\n",
    " 'ITソリューション統括本部 エンタープライズシステム本部 西日本技術部 アカウント1グループ': 'ITソリューション統括本部 エンタープライズシステム本部 西日本技術部',\n",
    " 'ITソリューション統括本部 エンタープライズシステム本部 西日本技術部 アカウント2グループ': 'ITソリューション統括本部 エンタープライズシステム本部 西日本技術部',\n",
    " 'ITソリューション統括本部 エンタープライズシステム本部 西日本技術部 アカウント3グループ': 'ITソリューション統括本部 エンタープライズシステム本部 西日本技術部',\n",
    " 'ITソリューション統括本部 テクノロジーソリューション本部': 'ITソリューション統括本部 テクノロジーソリューション本部',\n",
    " 'ITソリューション統括本部 テクノロジーソリューション本部 ナレッジコラボレーション部': 'ITソリューション統括本部 テクノロジーソリューション本部 ナレッジコラボレーション部',\n",
    " 'ITソリューション統括本部 テクノロジーソリューション本部 ナレッジコラボレーション部 アカウント1グループ': 'ITソリューション統括本部 テクノロジーソリューション本部 ナレッジコラボレーション部',\n",
    " 'ITソリューション統括本部 テクノロジーソリューション本部 ナレッジコラボレーション部 アカウント2グループ': 'ITソリューション統括本部 テクノロジーソリューション本部 ナレッジコラボレーション部',\n",
    " 'ITソリューション統括本部 テクノロジーソリューション本部 ナレッジコラボレーション部 CDグループ': 'ITソリューション統括本部 テクノロジーソリューション本部 ナレッジコラボレーション部',\n",
    " 'ITソリューション統括本部 テクノロジーソリューション本部 ナレッジコラボレーション部 xプロダクティビティ1グループ': 'ITソリューション統括本部 テクノロジーソリューション本部 ナレッジコラボレーション部',\n",
    " 'ITソリューション統括本部 テクノロジーソリューション本部 ナレッジコラボレーション部 xプロダクティビティ3グループ': 'ITソリューション統括本部 テクノロジーソリューション本部 ナレッジコラボレーション部',\n",
    " 'ITソリューション統括本部 テクノロジーソリューション本部 クラウドプラットフォーム部': 'ITソリューション統括本部 テクノロジーソリューション本部 クラウドプラットフォーム部',\n",
    " 'ITソリューション統括本部 テクノロジーソリューション本部 クラウドプラットフォーム部 1グループ': 'ITソリューション統括本部 テクノロジーソリューション本部 クラウドプラットフォーム部',\n",
    " 'ITソリューション統括本部 テクノロジーソリューション本部 クラウドプラットフォーム部 2グループ': 'ITソリューション統括本部 テクノロジーソリューション本部 クラウドプラットフォーム部',\n",
    " 'ITソリューション統括本部 テクノロジーソリューション本部 クラウドプラットフォーム部 3グループ': 'ITソリューション統括本部 テクノロジーソリューション本部 クラウドプラットフォーム部',\n",
    " 'ITソリューション統括本部 テクノロジーソリューション本部 クラウドプラットフォーム部 4グループ': 'ITソリューション統括本部 テクノロジーソリューション本部 クラウドプラットフォーム部',\n",
    " 'ITソリューション統括本部 テクノロジーソリューション本部 クラウドプラットフォーム部 5グループ': 'ITソリューション統括本部 テクノロジーソリューション本部 クラウドプラットフォーム部',\n",
    " 'ITソリューション統括本部 テクノロジーソリューション本部 クラウドプラットフォーム部 6グループ': 'ITソリューション統括本部 テクノロジーソリューション本部 クラウドプラットフォーム部',\n",
    " 'ITソリューション統括本部 テクノロジーソリューション本部 クラウドプラットフォーム部 7グループ': 'ITソリューション統括本部 テクノロジーソリューション本部 クラウドプラットフォーム部',\n",
    " 'ITソリューション統括本部 テクノロジーソリューション本部 システムインテグレーション部': 'ITソリューション統括本部 テクノロジーソリューション本部 システムインテグレーション部',\n",
    " 'ITソリューション統括本部 テクノロジーソリューション本部 システムインテグレーション部 システムインテグレーション1グループ': 'ITソリューション統括本部 テクノロジーソリューション本部 システムインテグレーション部',\n",
    " 'ITソリューション統括本部 テクノロジーソリューション本部 システムインテグレーション部 システムインテグレーション2グループ': 'ITソリューション統括本部 テクノロジーソリューション本部 システムインテグレーション部',\n",
    " 'ITソリューション統括本部 テクノロジーソリューション本部 システムインテグレーション部 システムインテグレーション3グループ': 'ITソリューション統括本部 テクノロジーソリューション本部 システムインテグレーション部',\n",
    " 'ITソリューション統括本部 テクノロジーソリューション本部 システムインテグレーション部 システムインテグレーション4グループ': 'ITソリューション統括本部 テクノロジーソリューション本部 システムインテグレーション部',\n",
    " 'ITソリューション統括本部 テクノロジーソリューション本部 システムインテグレーション部 システムインテグレーション5グループ': 'ITソリューション統括本部 テクノロジーソリューション本部 システムインテグレーション部',\n",
    " 'ITソリューション統括本部 テクノロジーソリューション本部 システムインテグレーション部 システムインテグレーション6グループ': 'ITソリューション統括本部 テクノロジーソリューション本部 システムインテグレーション部',\n",
    " 'ITソリューション統括本部 テクノロジーソリューション本部 システムインテグレーション部 システムインテグレーション7グループ': 'ITソリューション統括本部 テクノロジーソリューション本部 システムインテグレーション部',\n",
    " 'ITソリューション統括本部 テクノロジーソリューション本部 システムインテグレーション部 システムインテグレーション8グループ': 'ITソリューション統括本部 テクノロジーソリューション本部 システムインテグレーション部',\n",
    " 'ITソリューション統括本部 テクノロジーソリューション本部 システムインテグレーション部 システムインテグレーション9グループ': 'ITソリューション統括本部 テクノロジーソリューション本部 システムインテグレーション部',\n",
    " 'ITソリューション統括本部 テクノロジーソリューション本部 システムインテグレーション部 システムインテグレーション10グループ': 'ITソリューション統括本部 テクノロジーソリューション本部 システムインテグレーション部',\n",
    " 'ITソリューション統括本部 テクノロジーソリューション本部 システムインテグレーション部 システムインテグレーション11グループ': 'ITソリューション統括本部 テクノロジーソリューション本部 システムインテグレーション部',\n",
    " 'ITソリューション統括本部 テクノロジーソリューション本部 システムインテグレーション部 システムインテグレーション12グループ': 'ITソリューション統括本部 テクノロジーソリューション本部 システムインテグレーション部',\n",
    " 'ITソリューション統括本部 テクノロジーソリューション本部 システムインテグレーション部 システムインテグレーション13グループ': 'ITソリューション統括本部 テクノロジーソリューション本部 システムインテグレーション部',\n",
    " 'ITソリューション統括本部 テクノロジーソリューション本部 プラットフォームソリューション部': 'ITソリューション統括本部 テクノロジーソリューション本部 プラットフォームソリューション部',\n",
    " 'ITソリューション統括本部 テクノロジーソリューション本部 プラットフォームソリューション部 クラウドソリューション1グループ': 'ITソリューション統括本部 テクノロジーソリューション本部 プラットフォームソリューション部',\n",
    " 'ITソリューション統括本部 テクノロジーソリューション本部 プラットフォームソリューション部 クラウドソリューション2グループ': 'ITソリューション統括本部 テクノロジーソリューション本部 プラットフォームソリューション部',\n",
    " 'ITソリューション統括本部 テクノロジーソリューション本部 プラットフォームソリューション部 セキュリティーソリューショングループ': 'ITソリューション統括本部 テクノロジーソリューション本部 プラットフォームソリューション部',\n",
    " 'ITソリューション統括本部 テクノロジーソリューション本部 プラットフォームソリューション部 ワークスタイルソリューション1グループ': 'ITソリューション統括本部 テクノロジーソリューション本部 プラットフォームソリューション部',\n",
    " 'ITソリューション統括本部 テクノロジーソリューション本部 プラットフォームソリューション部 ワークスタイルソリューション2グループ': 'ITソリューション統括本部 テクノロジーソリューション本部 プラットフォームソリューション部',\n",
    " 'ITソリューション統括本部 テクノロジーソリューション本部 セキュアデザインセンター': 'ITソリューション統括本部 テクノロジーソリューション本部 セキュアデザインセンター',\n",
    " 'ITソリューション統括本部 テクノロジーソリューション本部 テクノロジーデザインセンター': 'ITソリューション統括本部 テクノロジーソリューション本部 テクノロジーデザインセンター',\n",
    " 'ITソリューション統括本部 テクニカルパートナー本部': 'ITソリューション統括本部 テクニカルパートナー本部',\n",
    " 'ITソリューション統括本部 テクニカルパートナー本部 テクニカルパートナー1部': 'ITソリューション統括本部 テクニカルパートナー本部 テクニカルパートナー1部',\n",
    " 'ITソリューション統括本部 テクニカルパートナー本部 テクニカルパートナー1部 第1技術グループ': 'ITソリューション統括本部 テクニカルパートナー本部 テクニカルパートナー1部',\n",
    " 'ITソリューション統括本部 テクニカルパートナー本部 テクニカルパートナー1部 第2技術グループ': 'ITソリューション統括本部 テクニカルパートナー本部 テクニカルパートナー1部',\n",
    " 'ITソリューション統括本部 テクニカルパートナー本部 テクニカルパートナー1部 第3技術グループ': 'ITソリューション統括本部 テクニカルパートナー本部 テクニカルパートナー1部',\n",
    " 'ITソリューション統括本部 テクニカルパートナー本部 テクニカルパートナー1部 第4技術グループ': 'ITソリューション統括本部 テクニカルパートナー本部 テクニカルパートナー1部',\n",
    " 'ITソリューション統括本部 テクニカルパートナー本部 テクニカルパートナー1部 第5技術グループ': 'ITソリューション統括本部 テクニカルパートナー本部 テクニカルパートナー1部',\n",
    " 'ITソリューション統括本部 テクニカルパートナー本部 テクニカルパートナー1部 第6技術グループ': 'ITソリューション統括本部 テクニカルパートナー本部 テクニカルパートナー1部',\n",
    " 'ITソリューション統括本部 テクニカルパートナー本部 テクニカルパートナー1部 第7技術グループ': 'ITソリューション統括本部 テクニカルパートナー本部 テクニカルパートナー1部',\n",
    " 'ITソリューション統括本部 テクニカルパートナー本部 テクニカルパートナー1部 第8技術グループ': 'ITソリューション統括本部 テクニカルパートナー本部 テクニカルパートナー1部',\n",
    " 'ITソリューション統括本部 テクニカルパートナー本部 テクニカルパートナー1部 第9技術グループ': 'ITソリューション統括本部 テクニカルパートナー本部 テクニカルパートナー1部',\n",
    " 'ITソリューション統括本部 テクニカルパートナー本部 テクニカルパートナー2部': 'ITソリューション統括本部 テクニカルパートナー本部 テクニカルパートナー2部',\n",
    " 'ITソリューション統括本部 テクニカルパートナー本部 テクニカルパートナー2部 第1技術グループ': 'ITソリューション統括本部 テクニカルパートナー本部 テクニカルパートナー2部',\n",
    " 'ITソリューション統括本部 テクニカルパートナー本部 テクニカルパートナー2部 第2技術グループ': 'ITソリューション統括本部 テクニカルパートナー本部 テクニカルパートナー2部',\n",
    " 'ITソリューション統括本部 テクニカルパートナー本部 テクニカルパートナー2部 第3技術グループ': 'ITソリューション統括本部 テクニカルパートナー本部 テクニカルパートナー2部',\n",
    " 'ITソリューション統括本部 テクニカルパートナー本部 テクニカルパートナー3部': 'ITソリューション統括本部 テクニカルパートナー本部 テクニカルパートナー3部',\n",
    " 'ITソリューション統括本部 テクニカルパートナー本部 テクニカルパートナー3部 第4技術グループ': 'ITソリューション統括本部 テクニカルパートナー本部 テクニカルパートナー3部',\n",
    " 'ITソリューション統括本部 テクニカルパートナー本部 テクニカルパートナー3部 第7技術グループ': 'ITソリューション統括本部 テクニカルパートナー本部 テクニカルパートナー3部',\n",
    " 'ITソリューション統括本部 テクニカルパートナー本部 テクニカルパートナー3部 第8技術グループ': 'ITソリューション統括本部 テクニカルパートナー本部 テクニカルパートナー3部',\n",
    " 'ITソリューション統括本部 テクニカルパートナー本部 テクニカルパートナー4部': 'ITソリューション統括本部 テクニカルパートナー本部 テクニカルパートナー4部',\n",
    " 'ITソリューション統括本部 テクニカルパートナー本部 テクニカルパートナー4部 第1技術グループ': 'ITソリューション統括本部 テクニカルパートナー本部 テクニカルパートナー4部',\n",
    " 'ITソリューション統括本部 テクニカルパートナー本部 テクニカルパートナー4部 第3技術グループ': 'ITソリューション統括本部 テクニカルパートナー本部 テクニカルパートナー4部',\n",
    " 'ITソリューション統括本部 テクニカルパートナー本部 テクニカルパートナー4部 第4技術グループ': 'ITソリューション統括本部 テクニカルパートナー本部 テクニカルパートナー4部',\n",
    " 'ITソリューション統括本部 テクニカルパートナー本部 テクニカルパートナー5部 第1技術グループ': 'ITソリューション統括本部 テクニカルパートナー本部 テクニカルパートナー5部',\n",
    " 'ITソリューション統括本部 テクニカルパートナー本部 テクニカルパートナー5部 第2技術グループ': 'ITソリューション統括本部 テクニカルパートナー本部 テクニカルパートナー5部',\n",
    " 'ITソリューション統括本部 テクニカルパートナー本部 テクニカルパートナー5部 第3技術グループ': 'ITソリューション統括本部 テクニカルパートナー本部 テクニカルパートナー5部',\n",
    " 'ビジネスソリューション本部': 'ビジネスソリューション本部',\n",
    " 'ビジネスソリューション本部 ビジネスソリューション本部付': 'ビジネスソリューション本部 ビジネスソリューション本部付',\n",
    " 'ビジネスソリューション本部 ビジネスアーキテクト室': 'ビジネスソリューション本部 ビジネスアーキテクト室',\n",
    " 'ビジネスソリューション本部 テクノロジーアーキテクト室': 'ビジネスソリューション本部 テクノロジーアーキテクト室',\n",
    " 'ビジネスソリューション本部 ソリューション開発室': 'ビジネスソリューション本部 ソリューション開発室',\n",
    " 'ビジネスソリューション本部 ビジネスアプリケーション1部': 'ビジネスソリューション本部 ビジネスアプリケーション1部',\n",
    " 'ビジネスソリューション本部 ビジネスアプリケーション1部 アプリケーションアーキテクト1グループ': 'ビジネスソリューション本部 ビジネスアプリケーション1部',\n",
    " 'ビジネスソリューション本部 ビジネスアプリケーション1部 アプリケーションアーキテクト2グループ': 'ビジネスソリューション本部 ビジネスアプリケーション1部',\n",
    " 'ビジネスソリューション本部 ビジネスアプリケーション1部 アプリケーションアーキテクト3グループ': 'ビジネスソリューション本部 ビジネスアプリケーション1部',\n",
    " 'ビジネスソリューション本部 ビジネスアプリケーション1部 アプリケーションアーキテクト沖縄グループ': 'ビジネスソリューション本部 ビジネスアプリケーション1部',\n",
    " 'ビジネスソリューション本部 ビジネスアプリケーション2部': 'ビジネスソリューション本部 ビジネスアプリケーション2部',\n",
    " 'ビジネスソリューション本部 ビジネスアプリケーション2部 アプリケーションアーキテクト1グループ': 'ビジネスソリューション本部 ビジネスアプリケーション2部',\n",
    " 'ビジネスソリューション本部 ビジネスアプリケーション2部 アプリケーションアーキテクト2グループ': 'ビジネスソリューション本部 ビジネスアプリケーション2部',\n",
    " 'ビジネスソリューション本部 ビジネスアプリケーション2部 アプリケーションアーキテクト3グループ': 'ビジネスソリューション本部 ビジネスアプリケーション2部',\n",
    " 'ビジネスソリューション本部 ERPソリューション部': 'ビジネスソリューション本部 ERPソリューション部',\n",
    " 'ビジネスソリューション本部 ERPソリューション部 RPAソリューショングループ': 'ビジネスソリューション本部 ERPソリューション部',\n",
    " 'ビジネスソリューション本部 ERPソリューション部 ビジネスオペレーション1G': 'ビジネスソリューション本部 ERPソリューション部',\n",
    " 'ビジネスソリューション本部 ERPソリューション部 ビジネスオペレーション2G': 'ビジネスソリューション本部 ERPソリューション部',\n",
    " 'ビジネスソリューション本部 ERPソリューション部 インプリメンテーショングループ': 'ビジネスソリューション本部 ERPソリューション部',\n",
    " 'ビジネスソリューション本部 ERPソリューション部 ERP基盤グループ': 'ビジネスソリューション本部 ERPソリューション部',\n",
    " 'ビジネスソリューション本部 ERPソリューション部 データアーキテクトグループ': 'ビジネスソリューション本部 ERPソリューション部',\n",
    " 'ビジネスソリューション本部 CRMソリューション部': 'ビジネスソリューション本部 CRMソリューション部',\n",
    " 'ビジネスソリューション本部 CRMソリューション部 インプリメンテーション1グループ': 'ビジネスソリューション本部 CRMソリューション部',\n",
    " 'ビジネスソリューション本部 CRMソリューション部 インプリメンテーション2グループ': 'ビジネスソリューション本部 CRMソリューション部',\n",
    " 'サービス＆サポート本部': 'サービス＆サポート本部',\n",
    " 'サービス＆サポート本部 サービス＆サポート本部付': 'サービス＆サポート本部 サービス＆サポート本部付',\n",
    " 'サービス＆サポート本部 サービスインテグレーション部': 'サービス＆サポート本部 サービスインテグレーション部',\n",
    " 'サービス＆サポート本部 サービスインテグレーション部 プロダクトデベロップメントグループ': 'サービス＆サポート本部 サービスインテグレーション部',\n",
    " 'サービス＆サポート本部 サービスインテグレーション部 サービスインテグレーショングループ': 'サービス＆サポート本部 サービスインテグレーション部',\n",
    " 'サービス＆サポート本部 クラウドサービスセンター サービスオペレーション1グループ': 'サービス＆サポート本部 クラウドサービスセンター',\n",
    " 'サービス＆サポート本部 クラウドサービスセンター サービスオペレーション2グループ': 'サービス＆サポート本部 クラウドサービスセンター',\n",
    " 'サービス＆サポート本部 マネージドサービスセンター': 'サービス＆サポート本部 マネージドサービスセンター',\n",
    " 'サービス＆サポート本部 マネージドサービスセンター Security Operation G': 'サービス＆サポート本部 マネージドサービスセンター',\n",
    " 'サービス＆サポート本部 マネージドサービスセンター サービスオペレーショングループ': 'サービス＆サポート本部 マネージドサービスセンター',\n",
    " 'サービス＆サポート本部 マネージドサービスセンター テクニカルアカウントマネジメントグループ': 'サービス＆サポート本部 マネージドサービスセンター',\n",
    " 'サービス＆サポート本部 マネージドサービスセンター 更新サービスグループ': 'サービス＆サポート本部 マネージドサービスセンター',\n",
    " 'サービス＆サポート本部 エンドポイントサービスセンター': 'サービス＆サポート本部 エンドポイントサービスセンター',\n",
    " 'サービス＆サポート本部 エンドポイントサービスセンター エンドポイントサービス1グループ': 'サービス＆サポート本部 エンドポイントサービスセンター',\n",
    " 'サービス＆サポート本部 エンドポイントサービスセンター エンドポイントサービス2グループ': 'サービス＆サポート本部 エンドポイントサービスセンター',\n",
    " 'サービス＆サポート本部 ITサービスセンター': 'サービス＆サポート本部 ITサービスセンター',\n",
    " 'サービス＆サポート本部 ITサービスセンター ITサービス1グループ': 'サービス＆サポート本部 ITサービスセンター',\n",
    " 'サービス＆サポート本部 ITサービスセンター ITサービス2グループ': 'サービス＆サポート本部 ITサービスセンター',\n",
    " 'サービス＆サポート本部 ITサービスセンター トレーニンググループ': 'サービス＆サポート本部 ITサービスセンター',\n",
    " 'サービス＆サポート本部 沖縄事業所': 'サービス＆サポート本部 沖縄事業所',\n",
    " 'サービス＆サポート本部 沖縄事業所 オペレーションセンター': 'サービス＆サポート本部 沖縄事業所',\n",
    " 'サービス＆サポート本部 沖縄事業所 インサイドセールスセンター': 'サービス＆サポート本部 沖縄事業所',\n",
    " 'サービス＆サポート本部 北海道事業所 北海道事業所付': 'サービス＆サポート本部 北海道事業所',\n",
    " 'サービス＆サポート本部 北海道事業所 第1技術グループ': 'サービス＆サポート本部 北海道事業所',\n",
    " 'サービス＆サポート本部 北海道事業所 第2技術グループ': 'サービス＆サポート本部 北海道事業所',\n",
    " 'サービス＆サポート本部 九州事業所': 'サービス＆サポート本部 九州事業所',\n",
    " 'サービス＆サポート本部 九州事業所 第1技術グループ': 'サービス＆サポート本部 九州事業所',\n",
    " 'サービス＆サポート本部 九州事業所 第2技術グループ': 'サービス＆サポート本部 九州事業所',\n",
    " '技術管理室': '技術管理室',\n",
    " '技術管理室 業務管理': '技術管理室',\n",
    " # 以下海外\n",
    " 'JBS USA': 'JBS USA',\n",
    " 'JBS USA Sales': 'JBS USA Sales',\n",
    " 'Administration Division': 'Administration Division',\n",
    " 'Administration Division Administration': 'Administration Division',\n",
    " 'Administration Division HR': 'Administration Division',\n",
    " 'Administration Division Procurement': 'Administration Division',\n",
    " 'Delivery Division': 'Delivery Division',\n",
    " 'Delivery Division ソリューション部 ERP': 'Delivery Division',\n",
    " 'Delivery Division Cloud and Network Solution_SI': 'Delivery Division',\n",
    " 'Delivery Division Business Application and Development_SOL': 'Delivery Division',\n",
    " 'Delivery Division NY': 'Delivery Division',\n",
    " 'JBSAP': 'JBSAP',\n",
    " 'JBS上海': 'JBS上海',\n",
    " '技術部 電装MS課': '技術部',\n",
    " '技術部 MSInfra開発課': '技術部',\n",
    " '技術部 BP課': '技術部',\n",
    " 'サービス部 営業課': 'サービス部',\n",
    " 'サービス部 総務人事課': 'サービス部',\n",
    " 'JBSメキシコ': 'JBSメキシコ'\n",
    "  }"
   ]
  },
  {
   "cell_type": "markdown",
   "metadata": {},
   "source": [
    "# 2018/10からさかのぼりたい"
   ]
  },
  {
   "cell_type": "code",
   "execution_count": 45,
   "metadata": {},
   "outputs": [],
   "source": [
    " def change_dept(x):\n",
    "    y = ' '.join(x)\n",
    "    if y in DEPT_DICT:\n",
    "        return DEPT_DICT[y]\n",
    "    else:\n",
    "        return None"
   ]
  },
  {
   "cell_type": "code",
   "execution_count": 46,
   "metadata": {},
   "outputs": [],
   "source": [
    "tmp2 = itsDF['Organization'].str.split(' ', expand=False)"
   ]
  },
  {
   "cell_type": "code",
   "execution_count": 47,
   "metadata": {},
   "outputs": [],
   "source": [
    "dept_s = tmp2.apply(change_dept)"
   ]
  },
  {
   "cell_type": "code",
   "execution_count": 48,
   "metadata": {},
   "outputs": [],
   "source": [
    "itsDF['Dept'] = dept_s"
   ]
  },
  {
   "cell_type": "code",
   "execution_count": 49,
   "metadata": {},
   "outputs": [],
   "source": [
    "itsDF.loc[itsDF.loc[:, 'CompanyName'] == 'JBSメキシコ','Div'] = itsDF.loc[itsDF.loc[:,'CompanyName'] == 'JBSメキシコ','Div'].map(lambda s: 'MEX-' + s)"
   ]
  },
  {
   "cell_type": "code",
   "execution_count": 50,
   "metadata": {},
   "outputs": [],
   "source": [
    "itsDF.loc[itsDF['CompanyName'] == 'JBS USA', 'Dept'] = itsDF.loc[itsDF['CompanyName'] == 'JBS USA', 'Dept'].map(lambda s: 'USA-' + s)"
   ]
  },
  {
   "cell_type": "code",
   "execution_count": 51,
   "metadata": {},
   "outputs": [],
   "source": [
    "itsDF.loc[itsDF['CompanyName'] == 'JBSシンガポール', 'Dept'] = itsDF.loc[itsDF['CompanyName'] == 'JBSシンガポール', 'Dept'].map(lambda s: 'SGP-' + s)"
   ]
  },
  {
   "cell_type": "code",
   "execution_count": 52,
   "metadata": {},
   "outputs": [],
   "source": [
    "itsDF.loc[itsDF['CompanyName'] == 'JBS上海', 'Dept'] = itsDF.loc[itsDF['CompanyName'] == 'JBS上海', 'Dept'].map(lambda s: 'CHN-' + s)"
   ]
  },
  {
   "cell_type": "code",
   "execution_count": 53,
   "metadata": {},
   "outputs": [],
   "source": [
    "itsDF.loc[itsDF['CompanyName'] == 'JBSメキシコ', 'Dept'] = itsDF.loc[itsDF['CompanyName'] == 'JBSメキシコ', 'Dept'].map(lambda s: 'MEX-' + s)"
   ]
  },
  {
   "cell_type": "code",
   "execution_count": 54,
   "metadata": {},
   "outputs": [
    {
     "data": {
      "text/html": [
       "<div>\n",
       "<style scoped>\n",
       "    .dataframe tbody tr th:only-of-type {\n",
       "        vertical-align: middle;\n",
       "    }\n",
       "\n",
       "    .dataframe tbody tr th {\n",
       "        vertical-align: top;\n",
       "    }\n",
       "\n",
       "    .dataframe thead th {\n",
       "        text-align: right;\n",
       "    }\n",
       "</style>\n",
       "<table border=\"1\" class=\"dataframe\">\n",
       "  <thead>\n",
       "    <tr style=\"text-align: right;\">\n",
       "      <th></th>\n",
       "      <th>EmployeeNo</th>\n",
       "      <th>EmployeeName</th>\n",
       "      <th>AdAccount1</th>\n",
       "      <th>PersonId</th>\n",
       "      <th>EffectiveDate</th>\n",
       "      <th>ManagerId</th>\n",
       "      <th>LevelDesignation</th>\n",
       "      <th>Organization</th>\n",
       "      <th>CompanyName</th>\n",
       "      <th>HireDate</th>\n",
       "      <th>...</th>\n",
       "      <th>PreSales</th>\n",
       "      <th>Available</th>\n",
       "      <th>WorkingTime</th>\n",
       "      <th>OverTime</th>\n",
       "      <th>OnSite</th>\n",
       "      <th>hashedEmployeeNo</th>\n",
       "      <th>TimeZone</th>\n",
       "      <th>tmp_div</th>\n",
       "      <th>Div</th>\n",
       "      <th>Dept</th>\n",
       "    </tr>\n",
       "  </thead>\n",
       "  <tbody>\n",
       "  </tbody>\n",
       "</table>\n",
       "<p>0 rows × 23 columns</p>\n",
       "</div>"
      ],
      "text/plain": [
       "Empty DataFrame\n",
       "Columns: [EmployeeNo, EmployeeName, AdAccount1, PersonId, EffectiveDate, ManagerId, LevelDesignation, Organization, CompanyName, HireDate, EntryType, EmploymentType, CustomerCharge, PreSales, Available, WorkingTime, OverTime, OnSite, hashedEmployeeNo, TimeZone, tmp_div, Div, Dept]\n",
       "Index: []\n",
       "\n",
       "[0 rows x 23 columns]"
      ]
     },
     "execution_count": 54,
     "metadata": {},
     "output_type": "execute_result"
    }
   ],
   "source": [
    "itsDF[itsDF['Dept'].isnull()]"
   ]
  },
  {
   "cell_type": "code",
   "execution_count": 55,
   "metadata": {},
   "outputs": [
    {
     "data": {
      "text/plain": [
       "array(['JBS', '内部監査室', '経営管理室', '財務経理部', '経営企画部', '品質管理室', 'リスク管理室',\n",
       "       '人事部', '総務部', '業務部', '情報システム本部 インフラストラクチャサービス部',\n",
       "       '情報システム本部 ビジネスサービス部', '社会システムソリューション室', '事業企画本部', '事業企画本部 事業企画本部付',\n",
       "       '事業企画本部 総合企画部', '事業企画本部 海外事業推進室', '事業企画本部 人材開発部',\n",
       "       '事業企画本部 MS統合サポートセンター', '事業企画本部 サービス企画部', '事業企画本部 サービス推進部',\n",
       "       '事業企画本部 ビジネスインキュベーション部', '営業統括本部', '営業統括本部 営業統括本部付',\n",
       "       '営業統括本部 第1営業本部', '営業統括本部 第1営業本部 営業1部', '営業統括本部 第1営業本部 営業2部',\n",
       "       '営業統括本部 第2営業本部', '営業統括本部 第2営業本部 営業1部', '営業統括本部 第2営業本部 営業2部',\n",
       "       '営業統括本部 第3営業本部', '営業統括本部 第3営業本部 第3営業本部付', '営業統括本部 第3営業本部 営業1部',\n",
       "       '営業統括本部 第3営業本部 営業2部', '営業統括本部 第3営業本部 営業3部', '営業統括本部 パートナー営業本部',\n",
       "       '営業統括本部 パートナー営業本部 営業部', '営業統括本部 中部・西日本営業本部',\n",
       "       '営業統括本部 中部・西日本営業本部 中部営業部', '営業統括本部 中部・西日本営業本部 西日本営業部',\n",
       "       '営業統括本部 中部・西日本営業本部 東京営業部', '営業統括本部 中部・西日本営業本部 北海道営業部',\n",
       "       '営業統括本部 中部・西日本営業本部 九州営業部', '営業統括本部 ソリューション営業部', '営業統括本部 営業サポート室',\n",
       "       'ITソリューション統括本部 ITソリューション統括本部付', 'ITソリューション統括本部 デジタルイノベーション推進室',\n",
       "       'ITソリューション統括本部 金融システム本部', 'ITソリューション統括本部 金融システム本部 金融システム1部',\n",
       "       'ITソリューション統括本部 金融システム本部 金融システム2部',\n",
       "       'ITソリューション統括本部 金融システム本部 金融システム3部',\n",
       "       'ITソリューション統括本部 金融システム本部 金融システム4部', 'ITソリューション統括本部 エンタープライズシステム本部',\n",
       "       'ITソリューション統括本部 エンタープライズシステム本部 エンタープライズシステム1部',\n",
       "       'ITソリューション統括本部 エンタープライズシステム本部 エンタープライズシステム2部',\n",
       "       'ITソリューション統括本部 エンタープライズシステム本部 エンタープライズシステム3部',\n",
       "       'ITソリューション統括本部 エンタープライズシステム本部 エンタープライズシステム4部',\n",
       "       'ITソリューション統括本部 エンタープライズシステム本部 中部技術部',\n",
       "       'ITソリューション統括本部 エンタープライズシステム本部 西日本技術部',\n",
       "       'ITソリューション統括本部 テクノロジーソリューション本部',\n",
       "       'ITソリューション統括本部 テクノロジーソリューション本部 ナレッジコラボレーション部',\n",
       "       'ITソリューション統括本部 テクノロジーソリューション本部 クラウドプラットフォーム部',\n",
       "       'ITソリューション統括本部 テクノロジーソリューション本部 システムインテグレーション部',\n",
       "       'ITソリューション統括本部 テクノロジーソリューション本部 プラットフォームソリューション部',\n",
       "       'ITソリューション統括本部 テクノロジーソリューション本部 セキュアデザインセンター',\n",
       "       'ITソリューション統括本部 テクノロジーソリューション本部 テクノロジーデザインセンター',\n",
       "       'ITソリューション統括本部 テクニカルパートナー本部',\n",
       "       'ITソリューション統括本部 テクニカルパートナー本部 テクニカルパートナー1部',\n",
       "       'ITソリューション統括本部 テクニカルパートナー本部 テクニカルパートナー2部',\n",
       "       'ITソリューション統括本部 テクニカルパートナー本部 テクニカルパートナー3部',\n",
       "       'ITソリューション統括本部 テクニカルパートナー本部 テクニカルパートナー4部',\n",
       "       'ITソリューション統括本部 テクニカルパートナー本部 テクニカルパートナー5部', 'ビジネスソリューション本部',\n",
       "       'ビジネスソリューション本部 ビジネスソリューション本部付', 'ビジネスソリューション本部 ビジネスアーキテクト室',\n",
       "       'ビジネスソリューション本部 テクノロジーアーキテクト室', 'ビジネスソリューション本部 ソリューション開発室',\n",
       "       'ビジネスソリューション本部 ビジネスアプリケーション1部', 'ビジネスソリューション本部 ビジネスアプリケーション2部',\n",
       "       'ビジネスソリューション本部 ERPソリューション部', 'ビジネスソリューション本部 CRMソリューション部',\n",
       "       'サービス＆サポート本部', 'サービス＆サポート本部 サービス＆サポート本部付',\n",
       "       'サービス＆サポート本部 サービスインテグレーション部', 'サービス＆サポート本部 クラウドサービスセンター',\n",
       "       'サービス＆サポート本部 マネージドサービスセンター', 'サービス＆サポート本部 エンドポイントサービスセンター',\n",
       "       'サービス＆サポート本部 ITサービスセンター', 'サービス＆サポート本部 沖縄事業所',\n",
       "       'サービス＆サポート本部 北海道事業所', 'サービス＆サポート本部 九州事業所', '技術管理室', 'USA-JBS USA',\n",
       "       'USA-JBS USA Sales', 'USA-Administration Division',\n",
       "       'USA-Delivery Division', 'SGP-JBSAP', 'CHN-JBS上海', 'CHN-技術部',\n",
       "       'CHN-サービス部', 'MEX-JBSメキシコ'], dtype=object)"
      ]
     },
     "execution_count": 55,
     "metadata": {},
     "output_type": "execute_result"
    }
   ],
   "source": [
    "itsDF['Dept'].unique()"
   ]
  },
  {
   "cell_type": "markdown",
   "metadata": {},
   "source": [
    "### FunctionType"
   ]
  },
  {
   "cell_type": "markdown",
   "metadata": {},
   "source": [
    "#### 先月とのDiv比較"
   ]
  },
  {
   "cell_type": "code",
   "execution_count": 56,
   "metadata": {},
   "outputs": [
    {
     "data": {
      "text/plain": [
       "array(['JBS', '内部監査室', '経営管理室', '財務経理部', '経営企画部', '品質管理室', 'リスク管理室',\n",
       "       '人事部', '総務部', '業務部', '情報システム本部', '社会システムソリューション室', '事業企画本部',\n",
       "       '営業統括本部', '営業統括本部付', '第1営業本部', '第2営業本部', '第3営業本部', 'パートナー営業本部',\n",
       "       '中部・西日本営業本部', 'ソリューション営業部', '営業サポート室', 'ITソリューション統括本部付',\n",
       "       'デジタルイノベーション推進室', '金融システム本部', 'エンタープライズシステム本部', 'テクノロジーソリューション本部',\n",
       "       'テクニカルパートナー本部', 'ビジネスソリューション本部', 'サービス＆サポート本部', '技術管理室', 'USA-JBS',\n",
       "       'USA-Administration', 'USA-Delivery', 'SGP-JBSAP', 'CHN-JBS上海',\n",
       "       'CHN-技術部', 'CHN-サービス部', 'MEX-MEX-JBSメキシコ'], dtype=object)"
      ]
     },
     "execution_count": 56,
     "metadata": {},
     "output_type": "execute_result"
    }
   ],
   "source": [
    "itsDF['Div'].unique()"
   ]
  },
  {
   "cell_type": "code",
   "execution_count": 57,
   "metadata": {},
   "outputs": [],
   "source": [
    "f_type_dic = {\n",
    "'JBS': '経営',\n",
    "'内部監査室': 'スタッフ',\n",
    "'経営管理室': 'スタッフ',\n",
    "'財務経理部': 'スタッフ',\n",
    "'経営企画部': '企画',\n",
    "'品質管理室': 'スタッフ',\n",
    "'リスク管理室': 'スタッフ',\n",
    "'人事部': 'スタッフ',\n",
    "'総務部': 'スタッフ',\n",
    "'業務部': 'スタッフ',\n",
    "'情報システム本部': 'スタッフ',\n",
    "'社会システムソリューション室': 'スタッフ',\n",
    "'事業企画本部': '企画',\n",
    "'営業統括本部': '営業',\n",
    "'ITソリューション統括本部': '技術',\n",
    "'ビジネスソリューション本部': '技術',\n",
    "'サービス＆サポート本部': '技術',\n",
    "'技術管理室': '技術',\n",
    "'Administration': '海外',\n",
    "'Delivery': '海外',\n",
    "'JBSAP': '海外',\n",
    "'JBS上海': '海外',\n",
    "'技術部': '海外',\n",
    "'サービス部': '海外',\n",
    "'JBSメキシコ': '海外'\n",
    "}"
   ]
  },
  {
   "cell_type": "code",
   "execution_count": 58,
   "metadata": {},
   "outputs": [],
   "source": [
    "f_type_s = itsDF['tmp_div'].map(f_type_dic)"
   ]
  },
  {
   "cell_type": "code",
   "execution_count": 59,
   "metadata": {},
   "outputs": [],
   "source": [
    "itsDF['FunctionType'] = f_type_s"
   ]
  },
  {
   "cell_type": "code",
   "execution_count": 60,
   "metadata": {},
   "outputs": [
    {
     "data": {
      "text/html": [
       "<div>\n",
       "<style scoped>\n",
       "    .dataframe tbody tr th:only-of-type {\n",
       "        vertical-align: middle;\n",
       "    }\n",
       "\n",
       "    .dataframe tbody tr th {\n",
       "        vertical-align: top;\n",
       "    }\n",
       "\n",
       "    .dataframe thead th {\n",
       "        text-align: right;\n",
       "    }\n",
       "</style>\n",
       "<table border=\"1\" class=\"dataframe\">\n",
       "  <thead>\n",
       "    <tr style=\"text-align: right;\">\n",
       "      <th></th>\n",
       "      <th>EmployeeNo</th>\n",
       "      <th>EmployeeName</th>\n",
       "      <th>AdAccount1</th>\n",
       "      <th>PersonId</th>\n",
       "      <th>EffectiveDate</th>\n",
       "      <th>ManagerId</th>\n",
       "      <th>LevelDesignation</th>\n",
       "      <th>Organization</th>\n",
       "      <th>CompanyName</th>\n",
       "      <th>HireDate</th>\n",
       "      <th>...</th>\n",
       "      <th>Available</th>\n",
       "      <th>WorkingTime</th>\n",
       "      <th>OverTime</th>\n",
       "      <th>OnSite</th>\n",
       "      <th>hashedEmployeeNo</th>\n",
       "      <th>TimeZone</th>\n",
       "      <th>tmp_div</th>\n",
       "      <th>Div</th>\n",
       "      <th>Dept</th>\n",
       "      <th>FunctionType</th>\n",
       "    </tr>\n",
       "  </thead>\n",
       "  <tbody>\n",
       "  </tbody>\n",
       "</table>\n",
       "<p>0 rows × 24 columns</p>\n",
       "</div>"
      ],
      "text/plain": [
       "Empty DataFrame\n",
       "Columns: [EmployeeNo, EmployeeName, AdAccount1, PersonId, EffectiveDate, ManagerId, LevelDesignation, Organization, CompanyName, HireDate, EntryType, EmploymentType, CustomerCharge, PreSales, Available, WorkingTime, OverTime, OnSite, hashedEmployeeNo, TimeZone, tmp_div, Div, Dept, FunctionType]\n",
       "Index: []\n",
       "\n",
       "[0 rows x 24 columns]"
      ]
     },
     "execution_count": 60,
     "metadata": {},
     "output_type": "execute_result"
    }
   ],
   "source": [
    "itsDF[itsDF['FunctionType'].isnull()]"
   ]
  },
  {
   "cell_type": "markdown",
   "metadata": {},
   "source": [
    "# 旧JBSTの社員フラグ"
   ]
  },
  {
   "cell_type": "code",
   "execution_count": 61,
   "metadata": {},
   "outputs": [],
   "source": [
    "itsDF['T'] = False"
   ]
  },
  {
   "cell_type": "code",
   "execution_count": 62,
   "metadata": {},
   "outputs": [],
   "source": [
    "itsDF.loc[(itsDF['EmployeeNo'] >= 8000) & (itsDF['EmployeeNo'] < 40000), 'T'] = True"
   ]
  },
  {
   "cell_type": "code",
   "execution_count": 63,
   "metadata": {},
   "outputs": [
    {
     "data": {
      "text/html": [
       "<div>\n",
       "<style scoped>\n",
       "    .dataframe tbody tr th:only-of-type {\n",
       "        vertical-align: middle;\n",
       "    }\n",
       "\n",
       "    .dataframe tbody tr th {\n",
       "        vertical-align: top;\n",
       "    }\n",
       "\n",
       "    .dataframe thead th {\n",
       "        text-align: right;\n",
       "    }\n",
       "</style>\n",
       "<table border=\"1\" class=\"dataframe\">\n",
       "  <thead>\n",
       "    <tr style=\"text-align: right;\">\n",
       "      <th></th>\n",
       "      <th>EmployeeNo</th>\n",
       "      <th>T</th>\n",
       "    </tr>\n",
       "  </thead>\n",
       "  <tbody>\n",
       "    <tr>\n",
       "      <th>10</th>\n",
       "      <td>8001</td>\n",
       "      <td>True</td>\n",
       "    </tr>\n",
       "    <tr>\n",
       "      <th>11</th>\n",
       "      <td>7065</td>\n",
       "      <td>False</td>\n",
       "    </tr>\n",
       "    <tr>\n",
       "      <th>29</th>\n",
       "      <td>51392</td>\n",
       "      <td>False</td>\n",
       "    </tr>\n",
       "    <tr>\n",
       "      <th>33</th>\n",
       "      <td>50757</td>\n",
       "      <td>False</td>\n",
       "    </tr>\n",
       "    <tr>\n",
       "      <th>34</th>\n",
       "      <td>50758</td>\n",
       "      <td>False</td>\n",
       "    </tr>\n",
       "    <tr>\n",
       "      <th>35</th>\n",
       "      <td>51380</td>\n",
       "      <td>False</td>\n",
       "    </tr>\n",
       "    <tr>\n",
       "      <th>39</th>\n",
       "      <td>9546</td>\n",
       "      <td>True</td>\n",
       "    </tr>\n",
       "    <tr>\n",
       "      <th>45</th>\n",
       "      <td>8559</td>\n",
       "      <td>True</td>\n",
       "    </tr>\n",
       "    <tr>\n",
       "      <th>47</th>\n",
       "      <td>9636</td>\n",
       "      <td>True</td>\n",
       "    </tr>\n",
       "    <tr>\n",
       "      <th>51</th>\n",
       "      <td>8010</td>\n",
       "      <td>True</td>\n",
       "    </tr>\n",
       "    <tr>\n",
       "      <th>53</th>\n",
       "      <td>9210</td>\n",
       "      <td>True</td>\n",
       "    </tr>\n",
       "    <tr>\n",
       "      <th>56</th>\n",
       "      <td>9400</td>\n",
       "      <td>True</td>\n",
       "    </tr>\n",
       "    <tr>\n",
       "      <th>58</th>\n",
       "      <td>8038</td>\n",
       "      <td>True</td>\n",
       "    </tr>\n",
       "    <tr>\n",
       "      <th>59</th>\n",
       "      <td>7922</td>\n",
       "      <td>False</td>\n",
       "    </tr>\n",
       "    <tr>\n",
       "      <th>62</th>\n",
       "      <td>8987</td>\n",
       "      <td>True</td>\n",
       "    </tr>\n",
       "    <tr>\n",
       "      <th>63</th>\n",
       "      <td>9184</td>\n",
       "      <td>True</td>\n",
       "    </tr>\n",
       "    <tr>\n",
       "      <th>64</th>\n",
       "      <td>30001</td>\n",
       "      <td>True</td>\n",
       "    </tr>\n",
       "    <tr>\n",
       "      <th>67</th>\n",
       "      <td>8911</td>\n",
       "      <td>True</td>\n",
       "    </tr>\n",
       "    <tr>\n",
       "      <th>68</th>\n",
       "      <td>9238</td>\n",
       "      <td>True</td>\n",
       "    </tr>\n",
       "    <tr>\n",
       "      <th>69</th>\n",
       "      <td>9813</td>\n",
       "      <td>True</td>\n",
       "    </tr>\n",
       "    <tr>\n",
       "      <th>70</th>\n",
       "      <td>9874</td>\n",
       "      <td>True</td>\n",
       "    </tr>\n",
       "    <tr>\n",
       "      <th>71</th>\n",
       "      <td>10283</td>\n",
       "      <td>True</td>\n",
       "    </tr>\n",
       "    <tr>\n",
       "      <th>76</th>\n",
       "      <td>9308</td>\n",
       "      <td>True</td>\n",
       "    </tr>\n",
       "    <tr>\n",
       "      <th>78</th>\n",
       "      <td>8892</td>\n",
       "      <td>True</td>\n",
       "    </tr>\n",
       "    <tr>\n",
       "      <th>81</th>\n",
       "      <td>9861</td>\n",
       "      <td>True</td>\n",
       "    </tr>\n",
       "    <tr>\n",
       "      <th>84</th>\n",
       "      <td>7186</td>\n",
       "      <td>False</td>\n",
       "    </tr>\n",
       "    <tr>\n",
       "      <th>88</th>\n",
       "      <td>50674</td>\n",
       "      <td>False</td>\n",
       "    </tr>\n",
       "    <tr>\n",
       "      <th>89</th>\n",
       "      <td>51020</td>\n",
       "      <td>False</td>\n",
       "    </tr>\n",
       "    <tr>\n",
       "      <th>92</th>\n",
       "      <td>8910</td>\n",
       "      <td>True</td>\n",
       "    </tr>\n",
       "    <tr>\n",
       "      <th>101</th>\n",
       "      <td>8021</td>\n",
       "      <td>True</td>\n",
       "    </tr>\n",
       "    <tr>\n",
       "      <th>...</th>\n",
       "      <td>...</td>\n",
       "      <td>...</td>\n",
       "    </tr>\n",
       "    <tr>\n",
       "      <th>2957</th>\n",
       "      <td>90049</td>\n",
       "      <td>False</td>\n",
       "    </tr>\n",
       "    <tr>\n",
       "      <th>2958</th>\n",
       "      <td>90062</td>\n",
       "      <td>False</td>\n",
       "    </tr>\n",
       "    <tr>\n",
       "      <th>2959</th>\n",
       "      <td>90068</td>\n",
       "      <td>False</td>\n",
       "    </tr>\n",
       "    <tr>\n",
       "      <th>2960</th>\n",
       "      <td>90070</td>\n",
       "      <td>False</td>\n",
       "    </tr>\n",
       "    <tr>\n",
       "      <th>2961</th>\n",
       "      <td>90074</td>\n",
       "      <td>False</td>\n",
       "    </tr>\n",
       "    <tr>\n",
       "      <th>2963</th>\n",
       "      <td>70004</td>\n",
       "      <td>False</td>\n",
       "    </tr>\n",
       "    <tr>\n",
       "      <th>2965</th>\n",
       "      <td>70009</td>\n",
       "      <td>False</td>\n",
       "    </tr>\n",
       "    <tr>\n",
       "      <th>2966</th>\n",
       "      <td>70010</td>\n",
       "      <td>False</td>\n",
       "    </tr>\n",
       "    <tr>\n",
       "      <th>2967</th>\n",
       "      <td>70011</td>\n",
       "      <td>False</td>\n",
       "    </tr>\n",
       "    <tr>\n",
       "      <th>2970</th>\n",
       "      <td>80032</td>\n",
       "      <td>False</td>\n",
       "    </tr>\n",
       "    <tr>\n",
       "      <th>2971</th>\n",
       "      <td>80037</td>\n",
       "      <td>False</td>\n",
       "    </tr>\n",
       "    <tr>\n",
       "      <th>2972</th>\n",
       "      <td>80018</td>\n",
       "      <td>False</td>\n",
       "    </tr>\n",
       "    <tr>\n",
       "      <th>2973</th>\n",
       "      <td>80023</td>\n",
       "      <td>False</td>\n",
       "    </tr>\n",
       "    <tr>\n",
       "      <th>2974</th>\n",
       "      <td>80042</td>\n",
       "      <td>False</td>\n",
       "    </tr>\n",
       "    <tr>\n",
       "      <th>2975</th>\n",
       "      <td>80043</td>\n",
       "      <td>False</td>\n",
       "    </tr>\n",
       "    <tr>\n",
       "      <th>2976</th>\n",
       "      <td>80045</td>\n",
       "      <td>False</td>\n",
       "    </tr>\n",
       "    <tr>\n",
       "      <th>2977</th>\n",
       "      <td>80017</td>\n",
       "      <td>False</td>\n",
       "    </tr>\n",
       "    <tr>\n",
       "      <th>2978</th>\n",
       "      <td>80022</td>\n",
       "      <td>False</td>\n",
       "    </tr>\n",
       "    <tr>\n",
       "      <th>2979</th>\n",
       "      <td>80030</td>\n",
       "      <td>False</td>\n",
       "    </tr>\n",
       "    <tr>\n",
       "      <th>2980</th>\n",
       "      <td>85001</td>\n",
       "      <td>False</td>\n",
       "    </tr>\n",
       "    <tr>\n",
       "      <th>2981</th>\n",
       "      <td>80031</td>\n",
       "      <td>False</td>\n",
       "    </tr>\n",
       "    <tr>\n",
       "      <th>2982</th>\n",
       "      <td>80038</td>\n",
       "      <td>False</td>\n",
       "    </tr>\n",
       "    <tr>\n",
       "      <th>2983</th>\n",
       "      <td>80040</td>\n",
       "      <td>False</td>\n",
       "    </tr>\n",
       "    <tr>\n",
       "      <th>2984</th>\n",
       "      <td>80044</td>\n",
       "      <td>False</td>\n",
       "    </tr>\n",
       "    <tr>\n",
       "      <th>2985</th>\n",
       "      <td>80009</td>\n",
       "      <td>False</td>\n",
       "    </tr>\n",
       "    <tr>\n",
       "      <th>2988</th>\n",
       "      <td>95002</td>\n",
       "      <td>False</td>\n",
       "    </tr>\n",
       "    <tr>\n",
       "      <th>2989</th>\n",
       "      <td>95011</td>\n",
       "      <td>False</td>\n",
       "    </tr>\n",
       "    <tr>\n",
       "      <th>2991</th>\n",
       "      <td>95008</td>\n",
       "      <td>False</td>\n",
       "    </tr>\n",
       "    <tr>\n",
       "      <th>2992</th>\n",
       "      <td>95009</td>\n",
       "      <td>False</td>\n",
       "    </tr>\n",
       "    <tr>\n",
       "      <th>2993</th>\n",
       "      <td>95010</td>\n",
       "      <td>False</td>\n",
       "    </tr>\n",
       "  </tbody>\n",
       "</table>\n",
       "<p>1762 rows × 2 columns</p>\n",
       "</div>"
      ],
      "text/plain": [
       "      EmployeeNo      T\n",
       "10          8001   True\n",
       "11          7065  False\n",
       "29         51392  False\n",
       "33         50757  False\n",
       "34         50758  False\n",
       "35         51380  False\n",
       "39          9546   True\n",
       "45          8559   True\n",
       "47          9636   True\n",
       "51          8010   True\n",
       "53          9210   True\n",
       "56          9400   True\n",
       "58          8038   True\n",
       "59          7922  False\n",
       "62          8987   True\n",
       "63          9184   True\n",
       "64         30001   True\n",
       "67          8911   True\n",
       "68          9238   True\n",
       "69          9813   True\n",
       "70          9874   True\n",
       "71         10283   True\n",
       "76          9308   True\n",
       "78          8892   True\n",
       "81          9861   True\n",
       "84          7186  False\n",
       "88         50674  False\n",
       "89         51020  False\n",
       "92          8910   True\n",
       "101         8021   True\n",
       "...          ...    ...\n",
       "2957       90049  False\n",
       "2958       90062  False\n",
       "2959       90068  False\n",
       "2960       90070  False\n",
       "2961       90074  False\n",
       "2963       70004  False\n",
       "2965       70009  False\n",
       "2966       70010  False\n",
       "2967       70011  False\n",
       "2970       80032  False\n",
       "2971       80037  False\n",
       "2972       80018  False\n",
       "2973       80023  False\n",
       "2974       80042  False\n",
       "2975       80043  False\n",
       "2976       80045  False\n",
       "2977       80017  False\n",
       "2978       80022  False\n",
       "2979       80030  False\n",
       "2980       85001  False\n",
       "2981       80031  False\n",
       "2982       80038  False\n",
       "2983       80040  False\n",
       "2984       80044  False\n",
       "2985       80009  False\n",
       "2988       95002  False\n",
       "2989       95011  False\n",
       "2991       95008  False\n",
       "2992       95009  False\n",
       "2993       95010  False\n",
       "\n",
       "[1762 rows x 2 columns]"
      ]
     },
     "execution_count": 63,
     "metadata": {},
     "output_type": "execute_result"
    }
   ],
   "source": [
    "itsDF.loc[itsDF['EmployeeNo'] > 7000, ['EmployeeNo', 'T']]"
   ]
  },
  {
   "cell_type": "markdown",
   "metadata": {},
   "source": [
    "### カラム名変更"
   ]
  },
  {
   "cell_type": "code",
   "execution_count": 64,
   "metadata": {},
   "outputs": [
    {
     "data": {
      "text/plain": [
       "Index(['EmployeeNo', 'EmployeeName', 'AdAccount1', 'PersonId', 'EffectiveDate',\n",
       "       'ManagerId', 'LevelDesignation', 'Organization', 'CompanyName',\n",
       "       'HireDate', 'EntryType', 'EmploymentType', 'CustomerCharge', 'PreSales',\n",
       "       'Available', 'WorkingTime', 'OverTime', 'OnSite', 'hashedEmployeeNo',\n",
       "       'TimeZone', 'tmp_div', 'Div', 'Dept', 'FunctionType', 'T'],\n",
       "      dtype='object')"
      ]
     },
     "execution_count": 64,
     "metadata": {},
     "output_type": "execute_result"
    }
   ],
   "source": [
    "itsDF.columns"
   ]
  },
  {
   "cell_type": "markdown",
   "metadata": {},
   "source": [
    "#### 情シス提供のデータのカラム名とWpAで定義したカラム名の相違の吸収"
   ]
  },
  {
   "cell_type": "code",
   "execution_count": 65,
   "metadata": {},
   "outputs": [],
   "source": [
    "itsDF.rename(columns={'EmploymentType': 'Employmenttype',\n",
    "                            'OverTime': 'Overtime',\n",
    "                           'EmployeeNo': 'No'}, inplace=True)"
   ]
  },
  {
   "cell_type": "code",
   "execution_count": 66,
   "metadata": {},
   "outputs": [
    {
     "data": {
      "text/html": [
       "<div>\n",
       "<style scoped>\n",
       "    .dataframe tbody tr th:only-of-type {\n",
       "        vertical-align: middle;\n",
       "    }\n",
       "\n",
       "    .dataframe tbody tr th {\n",
       "        vertical-align: top;\n",
       "    }\n",
       "\n",
       "    .dataframe thead th {\n",
       "        text-align: right;\n",
       "    }\n",
       "</style>\n",
       "<table border=\"1\" class=\"dataframe\">\n",
       "  <thead>\n",
       "    <tr style=\"text-align: right;\">\n",
       "      <th></th>\n",
       "      <th>No</th>\n",
       "      <th>EmployeeName</th>\n",
       "      <th>AdAccount1</th>\n",
       "      <th>PersonId</th>\n",
       "      <th>EffectiveDate</th>\n",
       "      <th>ManagerId</th>\n",
       "      <th>LevelDesignation</th>\n",
       "      <th>Organization</th>\n",
       "      <th>CompanyName</th>\n",
       "      <th>HireDate</th>\n",
       "      <th>...</th>\n",
       "      <th>WorkingTime</th>\n",
       "      <th>Overtime</th>\n",
       "      <th>OnSite</th>\n",
       "      <th>hashedEmployeeNo</th>\n",
       "      <th>TimeZone</th>\n",
       "      <th>tmp_div</th>\n",
       "      <th>Div</th>\n",
       "      <th>Dept</th>\n",
       "      <th>FunctionType</th>\n",
       "      <th>T</th>\n",
       "    </tr>\n",
       "  </thead>\n",
       "  <tbody>\n",
       "    <tr>\n",
       "      <th>0</th>\n",
       "      <td>1</td>\n",
       "      <td>牧田 幸弘</td>\n",
       "      <td>ymakita</td>\n",
       "      <td>makita@jbs.com</td>\n",
       "      <td>07/01/2019</td>\n",
       "      <td>NaN</td>\n",
       "      <td>代表取締役社長</td>\n",
       "      <td>JBS</td>\n",
       "      <td>JBS</td>\n",
       "      <td>01/01/1991</td>\n",
       "      <td>...</td>\n",
       "      <td>0.0</td>\n",
       "      <td>0.0</td>\n",
       "      <td>0</td>\n",
       "      <td>856f4e0216a474d7d13f5b680e326e5f46bc181dfb68e2...</td>\n",
       "      <td>Tokyo Standard Time</td>\n",
       "      <td>JBS</td>\n",
       "      <td>JBS</td>\n",
       "      <td>JBS</td>\n",
       "      <td>経営</td>\n",
       "      <td>False</td>\n",
       "    </tr>\n",
       "    <tr>\n",
       "      <th>1</th>\n",
       "      <td>7</td>\n",
       "      <td>牧田 和也</td>\n",
       "      <td>kmakita</td>\n",
       "      <td>kazuya.makita@jbs.com</td>\n",
       "      <td>07/01/2019</td>\n",
       "      <td>makita@jbs.com</td>\n",
       "      <td>取締役副社長</td>\n",
       "      <td>JBS</td>\n",
       "      <td>JBS</td>\n",
       "      <td>10/11/1993</td>\n",
       "      <td>...</td>\n",
       "      <td>0.0</td>\n",
       "      <td>0.0</td>\n",
       "      <td>0</td>\n",
       "      <td>b1743d531fa84a32613ea5f71342e26011130b0ab5ccd1...</td>\n",
       "      <td>Tokyo Standard Time</td>\n",
       "      <td>JBS</td>\n",
       "      <td>JBS</td>\n",
       "      <td>JBS</td>\n",
       "      <td>経営</td>\n",
       "      <td>False</td>\n",
       "    </tr>\n",
       "    <tr>\n",
       "      <th>2</th>\n",
       "      <td>6</td>\n",
       "      <td>和田 行弘</td>\n",
       "      <td>ywada</td>\n",
       "      <td>yukihiro.wada@jbs.com</td>\n",
       "      <td>07/01/2019</td>\n",
       "      <td>makita@jbs.com</td>\n",
       "      <td>取締役常務執行役員</td>\n",
       "      <td>JBS</td>\n",
       "      <td>JBS</td>\n",
       "      <td>05/11/1992</td>\n",
       "      <td>...</td>\n",
       "      <td>0.0</td>\n",
       "      <td>0.0</td>\n",
       "      <td>0</td>\n",
       "      <td>de726a90da3a4d7f9cf4b671fae4c9cff2478ebec17861...</td>\n",
       "      <td>Tokyo Standard Time</td>\n",
       "      <td>JBS</td>\n",
       "      <td>JBS</td>\n",
       "      <td>JBS</td>\n",
       "      <td>経営</td>\n",
       "      <td>False</td>\n",
       "    </tr>\n",
       "  </tbody>\n",
       "</table>\n",
       "<p>3 rows × 25 columns</p>\n",
       "</div>"
      ],
      "text/plain": [
       "   No EmployeeName AdAccount1               PersonId EffectiveDate  \\\n",
       "0   1        牧田 幸弘    ymakita         makita@jbs.com    07/01/2019   \n",
       "1   7        牧田 和也    kmakita  kazuya.makita@jbs.com    07/01/2019   \n",
       "2   6        和田 行弘      ywada  yukihiro.wada@jbs.com    07/01/2019   \n",
       "\n",
       "        ManagerId LevelDesignation Organization CompanyName    HireDate  ...  \\\n",
       "0             NaN          代表取締役社長          JBS         JBS  01/01/1991  ...   \n",
       "1  makita@jbs.com           取締役副社長          JBS         JBS  10/11/1993  ...   \n",
       "2  makita@jbs.com        取締役常務執行役員          JBS         JBS  05/11/1992  ...   \n",
       "\n",
       "  WorkingTime Overtime  OnSite  \\\n",
       "0         0.0      0.0       0   \n",
       "1         0.0      0.0       0   \n",
       "2         0.0      0.0       0   \n",
       "\n",
       "                                    hashedEmployeeNo             TimeZone  \\\n",
       "0  856f4e0216a474d7d13f5b680e326e5f46bc181dfb68e2...  Tokyo Standard Time   \n",
       "1  b1743d531fa84a32613ea5f71342e26011130b0ab5ccd1...  Tokyo Standard Time   \n",
       "2  de726a90da3a4d7f9cf4b671fae4c9cff2478ebec17861...  Tokyo Standard Time   \n",
       "\n",
       "   tmp_div  Div  Dept FunctionType      T  \n",
       "0      JBS  JBS   JBS           経営  False  \n",
       "1      JBS  JBS   JBS           経営  False  \n",
       "2      JBS  JBS   JBS           経営  False  \n",
       "\n",
       "[3 rows x 25 columns]"
      ]
     },
     "execution_count": 66,
     "metadata": {},
     "output_type": "execute_result"
    }
   ],
   "source": [
    "itsDF.head(3)"
   ]
  },
  {
   "cell_type": "markdown",
   "metadata": {},
   "source": [
    "### Evaluationカラムの追加"
   ]
  },
  {
   "cell_type": "code",
   "execution_count": 67,
   "metadata": {},
   "outputs": [],
   "source": [
    "itsDF['Evaluation'] = np.nan"
   ]
  },
  {
   "cell_type": "markdown",
   "metadata": {},
   "source": [
    "### 必要なカラムのみ選択"
   ]
  },
  {
   "cell_type": "code",
   "execution_count": 68,
   "metadata": {},
   "outputs": [],
   "source": [
    "resultDF = itsDF[['PersonId', \n",
    "                   'EffectiveDate', \n",
    "                   'ManagerId', \n",
    "                   'Organization',\n",
    "                   'FunctionType',\n",
    "                   'TimeZone', \n",
    "                   'HireDate',\n",
    "                   'Div',\n",
    "                   'Dept',\n",
    "                   'EntryType',\n",
    "                   'Employmenttype',\n",
    "                   'CompanyName',\n",
    "                   'CustomerCharge',\n",
    "                   'PreSales',\n",
    "                   'Available',\n",
    "                   'Overtime',\n",
    "                   'OnSite', \n",
    "                   'LevelDesignation',\n",
    "                   'No',\n",
    "                   'Evaluation',\n",
    "                   'T'\n",
    "                 ]]"
   ]
  },
  {
   "cell_type": "code",
   "execution_count": 69,
   "metadata": {},
   "outputs": [
    {
     "data": {
      "text/html": [
       "<div>\n",
       "<style scoped>\n",
       "    .dataframe tbody tr th:only-of-type {\n",
       "        vertical-align: middle;\n",
       "    }\n",
       "\n",
       "    .dataframe tbody tr th {\n",
       "        vertical-align: top;\n",
       "    }\n",
       "\n",
       "    .dataframe thead th {\n",
       "        text-align: right;\n",
       "    }\n",
       "</style>\n",
       "<table border=\"1\" class=\"dataframe\">\n",
       "  <thead>\n",
       "    <tr style=\"text-align: right;\">\n",
       "      <th></th>\n",
       "      <th>PersonId</th>\n",
       "      <th>EffectiveDate</th>\n",
       "      <th>ManagerId</th>\n",
       "      <th>Organization</th>\n",
       "      <th>FunctionType</th>\n",
       "      <th>TimeZone</th>\n",
       "      <th>HireDate</th>\n",
       "      <th>Div</th>\n",
       "      <th>Dept</th>\n",
       "      <th>EntryType</th>\n",
       "      <th>...</th>\n",
       "      <th>CompanyName</th>\n",
       "      <th>CustomerCharge</th>\n",
       "      <th>PreSales</th>\n",
       "      <th>Available</th>\n",
       "      <th>Overtime</th>\n",
       "      <th>OnSite</th>\n",
       "      <th>LevelDesignation</th>\n",
       "      <th>No</th>\n",
       "      <th>Evaluation</th>\n",
       "      <th>T</th>\n",
       "    </tr>\n",
       "  </thead>\n",
       "  <tbody>\n",
       "    <tr>\n",
       "      <th>0</th>\n",
       "      <td>makita@jbs.com</td>\n",
       "      <td>07/01/2019</td>\n",
       "      <td>NaN</td>\n",
       "      <td>JBS</td>\n",
       "      <td>経営</td>\n",
       "      <td>Tokyo Standard Time</td>\n",
       "      <td>01/01/1991</td>\n",
       "      <td>JBS</td>\n",
       "      <td>JBS</td>\n",
       "      <td>中途</td>\n",
       "      <td>...</td>\n",
       "      <td>JBS</td>\n",
       "      <td>0.0</td>\n",
       "      <td>0.0</td>\n",
       "      <td>0.0</td>\n",
       "      <td>0.0</td>\n",
       "      <td>0</td>\n",
       "      <td>代表取締役社長</td>\n",
       "      <td>1</td>\n",
       "      <td>NaN</td>\n",
       "      <td>False</td>\n",
       "    </tr>\n",
       "    <tr>\n",
       "      <th>1</th>\n",
       "      <td>kazuya.makita@jbs.com</td>\n",
       "      <td>07/01/2019</td>\n",
       "      <td>makita@jbs.com</td>\n",
       "      <td>JBS</td>\n",
       "      <td>経営</td>\n",
       "      <td>Tokyo Standard Time</td>\n",
       "      <td>10/11/1993</td>\n",
       "      <td>JBS</td>\n",
       "      <td>JBS</td>\n",
       "      <td>中途</td>\n",
       "      <td>...</td>\n",
       "      <td>JBS</td>\n",
       "      <td>0.0</td>\n",
       "      <td>0.0</td>\n",
       "      <td>0.0</td>\n",
       "      <td>0.0</td>\n",
       "      <td>0</td>\n",
       "      <td>取締役副社長</td>\n",
       "      <td>7</td>\n",
       "      <td>NaN</td>\n",
       "      <td>False</td>\n",
       "    </tr>\n",
       "    <tr>\n",
       "      <th>2</th>\n",
       "      <td>yukihiro.wada@jbs.com</td>\n",
       "      <td>07/01/2019</td>\n",
       "      <td>makita@jbs.com</td>\n",
       "      <td>JBS</td>\n",
       "      <td>経営</td>\n",
       "      <td>Tokyo Standard Time</td>\n",
       "      <td>05/11/1992</td>\n",
       "      <td>JBS</td>\n",
       "      <td>JBS</td>\n",
       "      <td>中途</td>\n",
       "      <td>...</td>\n",
       "      <td>JBS</td>\n",
       "      <td>0.0</td>\n",
       "      <td>0.0</td>\n",
       "      <td>0.0</td>\n",
       "      <td>0.0</td>\n",
       "      <td>0</td>\n",
       "      <td>取締役常務執行役員</td>\n",
       "      <td>6</td>\n",
       "      <td>NaN</td>\n",
       "      <td>False</td>\n",
       "    </tr>\n",
       "  </tbody>\n",
       "</table>\n",
       "<p>3 rows × 21 columns</p>\n",
       "</div>"
      ],
      "text/plain": [
       "                PersonId EffectiveDate       ManagerId Organization  \\\n",
       "0         makita@jbs.com    07/01/2019             NaN          JBS   \n",
       "1  kazuya.makita@jbs.com    07/01/2019  makita@jbs.com          JBS   \n",
       "2  yukihiro.wada@jbs.com    07/01/2019  makita@jbs.com          JBS   \n",
       "\n",
       "  FunctionType             TimeZone    HireDate  Div Dept EntryType  ...  \\\n",
       "0           経営  Tokyo Standard Time  01/01/1991  JBS  JBS        中途  ...   \n",
       "1           経営  Tokyo Standard Time  10/11/1993  JBS  JBS        中途  ...   \n",
       "2           経営  Tokyo Standard Time  05/11/1992  JBS  JBS        中途  ...   \n",
       "\n",
       "  CompanyName CustomerCharge  PreSales  Available  Overtime  OnSite  \\\n",
       "0         JBS            0.0       0.0        0.0       0.0       0   \n",
       "1         JBS            0.0       0.0        0.0       0.0       0   \n",
       "2         JBS            0.0       0.0        0.0       0.0       0   \n",
       "\n",
       "   LevelDesignation No  Evaluation      T  \n",
       "0           代表取締役社長  1         NaN  False  \n",
       "1            取締役副社長  7         NaN  False  \n",
       "2         取締役常務執行役員  6         NaN  False  \n",
       "\n",
       "[3 rows x 21 columns]"
      ]
     },
     "execution_count": 69,
     "metadata": {},
     "output_type": "execute_result"
    }
   ],
   "source": [
    "resultDF.head(3)"
   ]
  },
  {
   "cell_type": "code",
   "execution_count": 70,
   "metadata": {},
   "outputs": [],
   "source": [
    "resultDF.to_csv(OUTPUT_FILENAME, index=False, encoding='utf-8')"
   ]
  },
  {
   "cell_type": "code",
   "execution_count": 71,
   "metadata": {},
   "outputs": [
    {
     "data": {
      "text/plain": [
       "PersonId            2985\n",
       "EffectiveDate       2985\n",
       "ManagerId           2971\n",
       "Organization        2985\n",
       "FunctionType        2985\n",
       "TimeZone            2985\n",
       "HireDate            2985\n",
       "Div                 2985\n",
       "Dept                2985\n",
       "EntryType           2985\n",
       "Employmenttype      2985\n",
       "CompanyName         2985\n",
       "CustomerCharge      2985\n",
       "PreSales            2985\n",
       "Available           2985\n",
       "Overtime            2985\n",
       "OnSite              2985\n",
       "LevelDesignation    2985\n",
       "No                  2985\n",
       "Evaluation             0\n",
       "T                   2985\n",
       "dtype: int64"
      ]
     },
     "execution_count": 71,
     "metadata": {},
     "output_type": "execute_result"
    }
   ],
   "source": [
    "resultDF.count()"
   ]
  },
  {
   "cell_type": "code",
   "execution_count": null,
   "metadata": {},
   "outputs": [],
   "source": []
  },
  {
   "cell_type": "code",
   "execution_count": null,
   "metadata": {},
   "outputs": [],
   "source": []
  }
 ],
 "metadata": {
  "kernelspec": {
   "display_name": "Python 3",
   "language": "python",
   "name": "python3"
  },
  "language_info": {
   "codemirror_mode": {
    "name": "ipython",
    "version": 3
   },
   "file_extension": ".py",
   "mimetype": "text/x-python",
   "name": "python",
   "nbconvert_exporter": "python",
   "pygments_lexer": "ipython3",
   "version": "3.7.3"
  }
 },
 "nbformat": 4,
 "nbformat_minor": 2
}
